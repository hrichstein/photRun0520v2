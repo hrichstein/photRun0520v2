{
 "cells": [
  {
   "cell_type": "code",
   "execution_count": 1,
   "metadata": {},
   "outputs": [],
   "source": [
    "import numpy as np\n",
    "from matplotlib import pyplot as plt\n",
    "from astropy.io import fits\n",
    "from astropy.stats import sigma_clipped_stats\n",
    "from photutils import aperture_photometry,CircularAnnulus,CircularAperture\n",
    "# from photutils import DAOStarFinder"
   ]
  },
  {
   "cell_type": "code",
   "execution_count": 2,
   "metadata": {},
   "outputs": [],
   "source": [
    "image = 'hor1DRCs/jdan21010_drc.fits'\n",
    "\n",
    "# fits.info(image)\n",
    "\n",
    "hdu = fits.open(image)\n",
    "sci_814 = hdu[1].data\n",
    "hdr_814 = hdu[0].header\n",
    "tab_814 = hdu[4].data\n",
    "photflam_814 = hdu[1].header['PHOTFLAM']\n",
    "\n",
    "# data = hdu[1].data[500:1000,2500:3000]\n",
    "hdu.close()"
   ]
  },
  {
   "cell_type": "code",
   "execution_count": 3,
   "metadata": {},
   "outputs": [],
   "source": [
    "image = 'hor1DRCs/jdan20010_drc.fits'\n",
    "\n",
    "hdu = fits.open(image)\n",
    "sci_606 = hdu[1].data\n",
    "hdr_606 = hdu[0].header\n",
    "tab_606 = hdu[4].data\n",
    "photflam_606 = hdu[1].header['PHOTFLAM']\n",
    "\n",
    "hdu.close()"
   ]
  },
  {
   "cell_type": "code",
   "execution_count": 4,
   "metadata": {},
   "outputs": [],
   "source": [
    "temp_sci_606=sci_606*hdr_606['texptime']\n",
    "temp_sci_814=sci_814*hdr_814['texptime']"
   ]
  },
  {
   "cell_type": "code",
   "execution_count": 5,
   "metadata": {},
   "outputs": [],
   "source": [
    "# fits.writeto('hor1DRCs/F814W_cts_rawF.fits', \\\n",
    "#              temp_sci_814, header=hdr_814)\n",
    "# fits.writeto('hor1DRCs/F606W_cts_rawF.fits', \\\n",
    "#              temp_sci_606, header=hdr_606)"
   ]
  },
  {
   "cell_type": "code",
   "execution_count": 6,
   "metadata": {},
   "outputs": [],
   "source": [
    "image = 'hor1DRCs/F814W_cts_rawF.fits'\n",
    "\n",
    "hdu = fits.open(image)\n",
    "sci_814 = hdu[0].data\n",
    "hdr_814 = hdu[0].header\n",
    "hdu.close()"
   ]
  },
  {
   "cell_type": "code",
   "execution_count": 7,
   "metadata": {},
   "outputs": [],
   "source": [
    "image = 'hor1DRCs/F606W_cts_rawF.fits'\n",
    "\n",
    "hdu = fits.open(image)\n",
    "sci_606 = hdu[0].data\n",
    "hdr_606 = hdu[0].header\n",
    "hdu.close()"
   ]
  },
  {
   "cell_type": "code",
   "execution_count": 8,
   "metadata": {},
   "outputs": [],
   "source": [
    "data_814 = sci_814.copy()\n",
    "data_606 = sci_606.copy()"
   ]
  },
  {
   "cell_type": "code",
   "execution_count": 9,
   "metadata": {},
   "outputs": [
    {
     "name": "stderr",
     "output_type": "stream",
     "text": [
      "WARNING: Input data contains invalid values (NaNs or infs), which were automatically clipped. [astropy.stats.sigma_clipping]\n",
      "WARNING: Input data contains invalid values (NaNs or infs), which were automatically clipped. [astropy.stats.sigma_clipping]\n"
     ]
    }
   ],
   "source": [
    "mean_814, median_814, std_814 = sigma_clipped_stats(data_814, sigma=3.0, \\\n",
    "                                            maxiters=5)\n",
    "\n",
    "mean_606, median_606, std_606 = sigma_clipped_stats(data_606, sigma=3.0, \\\n",
    "                                            maxiters=5)"
   ]
  },
  {
   "cell_type": "code",
   "execution_count": 10,
   "metadata": {},
   "outputs": [],
   "source": [
    "pos_file = np.genfromtxt('sDRC_2606/matchedDRCaper2906_bkgd.dat',names=True)"
   ]
  },
  {
   "cell_type": "code",
   "execution_count": 11,
   "metadata": {},
   "outputs": [],
   "source": [
    "catFile = np.genfromtxt('sDRC_2606/matchedDRCaper2906_bkgd.dat')"
   ]
  },
  {
   "cell_type": "code",
   "execution_count": 12,
   "metadata": {},
   "outputs": [],
   "source": [
    "xpos_606 = pos_file['xr_f606w']-0.5\n",
    "ypos_606 = pos_file['yr_f606w']-0.5\n",
    "\n",
    "xpos_814 = pos_file['xr_f814w']-0.5\n",
    "ypos_814 = pos_file['yr_f814w']-0.5"
   ]
  },
  {
   "cell_type": "code",
   "execution_count": 13,
   "metadata": {},
   "outputs": [],
   "source": [
    "loc_606 = np.array([xpos_606,ypos_606])\n",
    "positions_606 = np.transpose(loc_606)\n",
    "\n",
    "loc_814 = np.array([xpos_814,ypos_814])\n",
    "positions_814 = np.transpose(loc_814)"
   ]
  },
  {
   "cell_type": "code",
   "execution_count": 14,
   "metadata": {},
   "outputs": [
    {
     "name": "stdout",
     "output_type": "stream",
     "text": [
      " id  xcenter   ycenter     aperture_sum   \n",
      "       pix       pix                      \n",
      "--- --------- --------- ------------------\n",
      "  1 4076.4058  576.1948 1424.3836390930906\n",
      "  2 4109.1333 1023.4497 4655.8122321807405\n",
      "  3 4109.0664 2540.4456  5003.158598249756\n",
      "  4 4143.6416 2033.4398 43136.966486966536\n",
      "  5 4071.4421 1742.3646 26035.445637993304\n",
      "  6 3998.9187  667.9089 1836.2866793415476\n",
      "  7 4002.3486  1445.111  1284.795780430452\n",
      "  8 3984.6777   194.568  4684.838524227555\n",
      "  9 4065.0552 1337.8058 1238.9136573888413\n",
      " 10 4011.4626  259.3171  7564.474885538948\n"
     ]
    }
   ],
   "source": [
    "apertures_r4_606 = CircularAperture(positions_606, r=4.)\n",
    "\n",
    "rawflux_r4_606 = aperture_photometry(temp_sci_606, apertures_r4_606)\n",
    "print(rawflux_r4_606[:10])"
   ]
  },
  {
   "cell_type": "code",
   "execution_count": 15,
   "metadata": {},
   "outputs": [
    {
     "name": "stdout",
     "output_type": "stream",
     "text": [
      " id  xcenter   ycenter     aperture_sum   \n",
      "       pix       pix                      \n",
      "--- --------- --------- ------------------\n",
      "  1 4076.5388  576.9304  1414.656397587747\n",
      "  2  4109.062 1023.0773  4459.069020572273\n",
      "  3 4109.1387 2540.9719 3911.5224053204524\n",
      "  4 4144.3208  2033.124  27156.60715903925\n",
      "  5 4071.3171 1742.6945  18150.06792366237\n",
      "  6 3999.0046   668.014 1957.9051059758294\n",
      "  7 4002.3242 1444.9795   1243.66679016133\n",
      "  8 3984.0483  194.3967  2798.880003701784\n",
      "  9 4066.0498 1338.1512 1153.2501162276762\n",
      " 10 4011.6284  259.3019   6438.32251618605\n"
     ]
    }
   ],
   "source": [
    "apertures_r4_814 = CircularAperture(positions_814, r=4.)\n",
    "\n",
    "rawflux_r4_814 = aperture_photometry(temp_sci_814, apertures_r4_814)\n",
    "print(rawflux_r4_814[:10])"
   ]
  },
  {
   "cell_type": "code",
   "execution_count": 16,
   "metadata": {},
   "outputs": [],
   "source": [
    "annulus_apertures_606 = CircularAnnulus(positions_606, r_in=9., \\\n",
    "                                        r_out=12.)\n",
    "annulus_apertures_814 = CircularAnnulus(positions_814, r_in=9., \\\n",
    "                                        r_out=12.)"
   ]
  },
  {
   "cell_type": "code",
   "execution_count": 17,
   "metadata": {},
   "outputs": [
    {
     "name": "stderr",
     "output_type": "stream",
     "text": [
      "WARNING: Input data contains invalid values (NaNs or infs), which were automatically clipped. [astropy.stats.sigma_clipping]\n",
      "WARNING: Input data contains invalid values (NaNs or infs), which were automatically clipped. [astropy.stats.sigma_clipping]\n",
      "WARNING: Input data contains invalid values (NaNs or infs), which were automatically clipped. [astropy.stats.sigma_clipping]\n",
      "WARNING: Input data contains invalid values (NaNs or infs), which were automatically clipped. [astropy.stats.sigma_clipping]\n",
      "WARNING: Input data contains invalid values (NaNs or infs), which were automatically clipped. [astropy.stats.sigma_clipping]\n",
      "WARNING: Input data contains invalid values (NaNs or infs), which were automatically clipped. [astropy.stats.sigma_clipping]\n",
      "WARNING: Input data contains invalid values (NaNs or infs), which were automatically clipped. [astropy.stats.sigma_clipping]\n",
      "WARNING: Input data contains invalid values (NaNs or infs), which were automatically clipped. [astropy.stats.sigma_clipping]\n",
      "WARNING: Input data contains invalid values (NaNs or infs), which were automatically clipped. [astropy.stats.sigma_clipping]\n",
      "WARNING: Input data contains invalid values (NaNs or infs), which were automatically clipped. [astropy.stats.sigma_clipping]\n",
      "WARNING: Input data contains invalid values (NaNs or infs), which were automatically clipped. [astropy.stats.sigma_clipping]\n",
      "WARNING: Input data contains invalid values (NaNs or infs), which were automatically clipped. [astropy.stats.sigma_clipping]\n"
     ]
    }
   ],
   "source": [
    "annulus_masks = annulus_apertures_606.to_mask(method='center')\n",
    "\n",
    "bkg_median = []\n",
    "for mask in annulus_masks:\n",
    "    \n",
    "    annulus_data = mask.multiply(data_606)\n",
    "    annulus_data_1d = annulus_data[mask.data > 0]\n",
    "    _, median_sigclip, _ = sigma_clipped_stats(annulus_data_1d)\n",
    "    bkg_median.append(median_sigclip)\n",
    "\n",
    "bkg_median_606 = np.array(bkg_median)"
   ]
  },
  {
   "cell_type": "code",
   "execution_count": 18,
   "metadata": {},
   "outputs": [
    {
     "name": "stderr",
     "output_type": "stream",
     "text": [
      "WARNING: Input data contains invalid values (NaNs or infs), which were automatically clipped. [astropy.stats.sigma_clipping]\n",
      "WARNING: Input data contains invalid values (NaNs or infs), which were automatically clipped. [astropy.stats.sigma_clipping]\n",
      "WARNING: Input data contains invalid values (NaNs or infs), which were automatically clipped. [astropy.stats.sigma_clipping]\n",
      "WARNING: Input data contains invalid values (NaNs or infs), which were automatically clipped. [astropy.stats.sigma_clipping]\n",
      "WARNING: Input data contains invalid values (NaNs or infs), which were automatically clipped. [astropy.stats.sigma_clipping]\n",
      "WARNING: Input data contains invalid values (NaNs or infs), which were automatically clipped. [astropy.stats.sigma_clipping]\n",
      "WARNING: Input data contains invalid values (NaNs or infs), which were automatically clipped. [astropy.stats.sigma_clipping]\n",
      "WARNING: Input data contains invalid values (NaNs or infs), which were automatically clipped. [astropy.stats.sigma_clipping]\n",
      "WARNING: Input data contains invalid values (NaNs or infs), which were automatically clipped. [astropy.stats.sigma_clipping]\n",
      "WARNING: Input data contains invalid values (NaNs or infs), which were automatically clipped. [astropy.stats.sigma_clipping]\n",
      "WARNING: Input data contains invalid values (NaNs or infs), which were automatically clipped. [astropy.stats.sigma_clipping]\n",
      "WARNING: Input data contains invalid values (NaNs or infs), which were automatically clipped. [astropy.stats.sigma_clipping]\n",
      "WARNING: Input data contains invalid values (NaNs or infs), which were automatically clipped. [astropy.stats.sigma_clipping]\n"
     ]
    }
   ],
   "source": [
    "annulus_masks = annulus_apertures_814.to_mask(method='center')\n",
    "\n",
    "bkg_median = []\n",
    "for mask in annulus_masks:\n",
    "    \n",
    "    annulus_data = mask.multiply(data_814)\n",
    "    annulus_data_1d = annulus_data[mask.data > 0]\n",
    "    _, median_sigclip, _ = sigma_clipped_stats(annulus_data_1d)\n",
    "    bkg_median.append(median_sigclip)\n",
    "\n",
    "bkg_median_814 = np.array(bkg_median)"
   ]
  },
  {
   "cell_type": "code",
   "execution_count": 19,
   "metadata": {},
   "outputs": [
    {
     "name": "stdout",
     "output_type": "stream",
     "text": [
      "   annulus_median  \n",
      "-------------------\n",
      "-1.9727246165275574\n",
      "-2.7997536659240723\n",
      " -8.026102066040039\n",
      "  2.208870530128479\n",
      " -5.282254219055176\n",
      " -3.375704526901245\n",
      "-4.2130255699157715\n",
      "  3.210157036781311\n",
      "-1.2133173942565918\n",
      " 2.9018325805664062\n",
      "                ...\n",
      "  6.734963417053223\n",
      "  1.297357976436615\n",
      " -6.525614261627197\n",
      "  1.846193253993988\n",
      " -5.139861822128296\n",
      "-3.5453319549560547\n",
      " 1.4980781078338623\n",
      "-3.1878530979156494\n",
      " 2.5422592163085938\n",
      " -8.080144882202148\n",
      "-2.1145803928375244\n",
      "Length = 100 rows\n"
     ]
    }
   ],
   "source": [
    "rawflux_r4_606['annulus_median'] = bkg_median_606\n",
    "print(rawflux_r4_606['annulus_median'][:100])"
   ]
  },
  {
   "cell_type": "code",
   "execution_count": 20,
   "metadata": {},
   "outputs": [
    {
     "data": {
      "image/png": "[encoded data removed]",
      "text/plain": [
       "<Figure size 432x288 with 1 Axes>"
      ]
     },
     "metadata": {
      "needs_background": "light"
     },
     "output_type": "display_data"
    }
   ],
   "source": [
    "plt.hist(rawflux_r4_606['annulus_median'],bins=100,range=(2,200))\n",
    "plt.show()"
   ]
  },
  {
   "cell_type": "code",
   "execution_count": 21,
   "metadata": {},
   "outputs": [
    {
     "name": "stdout",
     "output_type": "stream",
     "text": [
      "   annulus_median   \n",
      "--------------------\n",
      "-0.24229678511619568\n",
      "  -2.733426332473755\n",
      "  -6.456653118133545\n",
      "  -2.098410487174988\n",
      " -0.6921984851360321\n",
      " -4.6671671867370605\n",
      " -3.5457346439361572\n",
      "  1.5734392404556274\n",
      "  -7.230250358581543\n",
      " -0.7883654236793518\n"
     ]
    }
   ],
   "source": [
    "rawflux_r4_814['annulus_median'] = bkg_median_814\n",
    "print(rawflux_r4_814['annulus_median'][:10])"
   ]
  },
  {
   "cell_type": "code",
   "execution_count": 22,
   "metadata": {},
   "outputs": [
    {
     "name": "stdout",
     "output_type": "stream",
     "text": [
      "      aper_bkg     \n",
      "-------------------\n",
      " -99.15995460541946\n",
      " -140.7309687796505\n",
      "-403.43589260213196\n",
      " 111.02994288292194\n",
      " -265.5150567836389\n",
      "-169.68141667844415\n",
      "-211.76976287733342\n",
      " 161.36009221794794\n",
      " -60.98798419630751\n",
      " 145.86201467287893\n"
     ]
    }
   ],
   "source": [
    "rawflux_r4_606['aper_bkg'] = bkg_median_606*apertures_r4_606.area\n",
    "print(rawflux_r4_606['aper_bkg'][:10])"
   ]
  },
  {
   "cell_type": "code",
   "execution_count": 23,
   "metadata": {},
   "outputs": [
    {
     "data": {
      "image/png": "[encoded data removed]",
      "text/plain": [
       "<Figure size 432x288 with 1 Axes>"
      ]
     },
     "metadata": {
      "needs_background": "light"
     },
     "output_type": "display_data"
    }
   ],
   "source": [
    "plt.hist(rawflux_r4_606['aper_bkg'])\n",
    "plt.show()"
   ]
  },
  {
   "cell_type": "code",
   "execution_count": 24,
   "metadata": {},
   "outputs": [
    {
     "name": "stdout",
     "output_type": "stream",
     "text": [
      "      aper_bkg     \n",
      "-------------------\n",
      " -12.17916480175144\n",
      "-137.39699336365504\n",
      " -324.5467840432956\n",
      "-105.47761553159553\n",
      " -34.79369081166947\n",
      "-234.59741035085585\n",
      "-178.22806254349845\n",
      "  79.08968253896485\n",
      " -363.4320225621559\n",
      "  -39.6275683740041\n"
     ]
    }
   ],
   "source": [
    "rawflux_r4_814['aper_bkg'] = bkg_median_814*apertures_r4_814.area\n",
    "print(rawflux_r4_814['aper_bkg'][:10])"
   ]
  },
  {
   "cell_type": "code",
   "execution_count": 25,
   "metadata": {},
   "outputs": [
    {
     "name": "stdout",
     "output_type": "stream",
     "text": [
      "    final_phot    \n",
      "------------------\n",
      "  1523.54359369851\n",
      " 4796.543200960391\n",
      " 5406.594490851889\n",
      " 43025.93654408361\n",
      "26300.960694776943\n",
      "2005.9680960199917\n",
      "1496.5655433077854\n",
      " 4523.478432009608\n",
      "1299.9016415851488\n",
      " 7418.612870866069\n"
     ]
    }
   ],
   "source": [
    "rawflux_r4_606['final_phot'] = rawflux_r4_606['aperture_sum'] \\\n",
    "    - rawflux_r4_606['aper_bkg']\n",
    "print(rawflux_r4_606['final_phot'][:10])"
   ]
  },
  {
   "cell_type": "code",
   "execution_count": 26,
   "metadata": {},
   "outputs": [
    {
     "name": "stdout",
     "output_type": "stream",
     "text": [
      "    final_phot    \n",
      "------------------\n",
      "1426.8355623894986\n",
      "4596.4660139359285\n",
      " 4236.069189363748\n",
      "27262.084774570845\n",
      "18184.861614474037\n",
      "2192.5025163266855\n",
      "1421.8948527048285\n",
      " 2719.790321162819\n",
      "1516.6821387898322\n",
      " 6477.950084560054\n"
     ]
    }
   ],
   "source": [
    "rawflux_r4_814['final_phot'] = rawflux_r4_814['aperture_sum'] \\\n",
    "    - rawflux_r4_814['aper_bkg']\n",
    "print(rawflux_r4_814['final_phot'][:10])"
   ]
  },
  {
   "cell_type": "code",
   "execution_count": 27,
   "metadata": {},
   "outputs": [],
   "source": [
    "EEVband = 0.839 #4 pix rad\n",
    "EEIband  = 0.830 #4 pix rad\n",
    "\n",
    "# ZPV = 26.667\n",
    "# ZPI = 26.779\n",
    "\n",
    "ZPV = 21.1\n",
    "ZPI = 21.1"
   ]
  },
  {
   "cell_type": "code",
   "execution_count": 28,
   "metadata": {},
   "outputs": [],
   "source": [
    "mask_negative = (rawflux_r4_606['final_phot'] > 0) \n",
    "rawflux_pos_r4_606 = rawflux_r4_606[mask_negative]"
   ]
  },
  {
   "cell_type": "code",
   "execution_count": 29,
   "metadata": {},
   "outputs": [],
   "source": [
    "mask_negative = (rawflux_r4_814['final_phot'] > 0) \n",
    "rawflux_pos_r4_814 = rawflux_r4_814[mask_negative]"
   ]
  },
  {
   "cell_type": "code",
   "execution_count": 30,
   "metadata": {},
   "outputs": [],
   "source": [
    "other_606 = -2.5*np.log10(photflam_606/hdr_606['texptime']/EEVband)\n",
    "other_814 = -2.5*np.log10(photflam_814/hdr_814['texptime']/EEIband)"
   ]
  },
  {
   "cell_type": "code",
   "execution_count": 31,
   "metadata": {},
   "outputs": [
    {
     "name": "stdout",
     "output_type": "stream",
     "text": [
      "26.66733400012398\n"
     ]
    }
   ],
   "source": [
    "print(-2.5*np.log10(photflam_606)-21.1)"
   ]
  },
  {
   "cell_type": "code",
   "execution_count": 32,
   "metadata": {},
   "outputs": [
    {
     "data": {
      "text/plain": [
       "('id',\n",
       " 'xcenter',\n",
       " 'ycenter',\n",
       " 'aperture_sum',\n",
       " 'annulus_median',\n",
       " 'aper_bkg',\n",
       " 'final_phot')"
      ]
     },
     "execution_count": 32,
     "metadata": {},
     "output_type": "execute_result"
    }
   ],
   "source": [
    "rawflux_r4_606.dtype.names"
   ]
  },
  {
   "cell_type": "code",
   "execution_count": 33,
   "metadata": {},
   "outputs": [
    {
     "name": "stdout",
     "output_type": "stream",
     "text": [
      "    final_phot    \n",
      "------------------\n",
      " 27.68285043754539\n",
      "26.437666750000957\n",
      "26.307678157092234\n",
      " 24.05566182000657\n",
      "24.590058620327518\n",
      " 27.38417759722133\n",
      "27.702248296261615\n",
      "26.501306341102428\n",
      " 27.85521142043391\n",
      " 25.96418087927264\n"
     ]
    }
   ],
   "source": [
    "final_phot_606 = -2.5*np.log10(rawflux_pos_r4_606['final_phot']) \\\n",
    "    + other_606 - ZPV\n",
    "print(final_phot_606[:10])"
   ]
  },
  {
   "cell_type": "code",
   "execution_count": 34,
   "metadata": {},
   "outputs": [
    {
     "name": "stdout",
     "output_type": "stream",
     "text": [
      "    final_phot    \n",
      "------------------\n",
      " 27.85420439313252\n",
      "26.584079072702444\n",
      "26.672731593494333\n",
      " 24.65124154609955\n",
      "25.090864204847385\n",
      "27.387788954787844\n",
      " 27.85797050082177\n",
      " 27.15380064614355\n",
      "27.787902775162685\n",
      "26.211545212833926\n"
     ]
    }
   ],
   "source": [
    "final_phot_814 = -2.5*np.log10(rawflux_pos_r4_814['final_phot']) \\\n",
    "    + other_814 - ZPI\n",
    "print(final_phot_814[:10])"
   ]
  },
  {
   "cell_type": "code",
   "execution_count": 35,
   "metadata": {},
   "outputs": [
    {
     "data": {
      "image/png": "[encoded data removed]",
      "text/plain": [
       "<Figure size 432x288 with 1 Axes>"
      ]
     },
     "metadata": {
      "needs_background": "light"
     },
     "output_type": "display_data"
    }
   ],
   "source": [
    "plt.hist(final_phot_814)\n",
    "plt.show()"
   ]
  },
  {
   "cell_type": "code",
   "execution_count": 36,
   "metadata": {},
   "outputs": [
    {
     "data": {
      "image/png": "[encoded data removed]",
      "text/plain": [
       "<Figure size 720x576 with 2 Axes>"
      ]
     },
     "metadata": {
      "needs_background": "light"
     },
     "output_type": "display_data"
    }
   ],
   "source": [
    "fig, (ax1,ax2) = plt.subplots(1,2,figsize=(10,8),sharex=True,sharey=True)\n",
    "\n",
    "\n",
    "ax1.scatter(pos_file['m606cAPER']-pos_file['m814cAPER'],pos_file['m606cAPER'],s=12,label='Mattia APER')\n",
    "ax1.scatter(final_phot_606-final_phot_814,final_phot_606,s=10,label='photUtils')\n",
    "\n",
    "ax2.scatter(pos_file['magr_f606w']-pos_file['magr_f814w'],pos_file['magr_f606w'],s=12,label='DRC')\n",
    "ax2.scatter(final_phot_606-final_phot_814,final_phot_606,s=10,label='photUtils')\n",
    "\n",
    "ax1.set_ylim(28,17.5)\n",
    "ax1.set_xlim(-1.5,1)\n",
    "\n",
    "ax1.legend()\n",
    "ax2.legend()\n",
    "\n",
    "plt.show()"
   ]
  },
  {
   "cell_type": "code",
   "execution_count": 37,
   "metadata": {},
   "outputs": [
    {
     "data": {
      "text/plain": [
       "1368"
      ]
     },
     "execution_count": 37,
     "metadata": {},
     "output_type": "execute_result"
    }
   ],
   "source": [
    "len(pos_file)"
   ]
  },
  {
   "cell_type": "code",
   "execution_count": 38,
   "metadata": {},
   "outputs": [
    {
     "data": {
      "text/plain": [
       "1368"
      ]
     },
     "execution_count": 38,
     "metadata": {},
     "output_type": "execute_result"
    }
   ],
   "source": [
    "len(final_phot_606)"
   ]
  },
  {
   "cell_type": "code",
   "execution_count": 39,
   "metadata": {},
   "outputs": [],
   "source": [
    "newCol = np.zeros((len(pos_file),4))\n",
    "newCol[:,0] = final_phot_606\n",
    "newCol[:,1] = final_phot_814\n",
    "newCol[:,2] = rawflux_r4_606['aper_bkg']\n",
    "newCol[:,3] = rawflux_r4_814['aper_bkg']"
   ]
  },
  {
   "cell_type": "code",
   "execution_count": 40,
   "metadata": {},
   "outputs": [],
   "source": [
    "colNs = np.array(pos_file.dtype.names)\n",
    "s0 = ' '\n",
    "header = s0.join(colNs)\n",
    "header += ' pUmag_f606w pUmag_f814w pUbkg_f606w pUbkg_f814w'"
   ]
  },
  {
   "cell_type": "code",
   "execution_count": 41,
   "metadata": {},
   "outputs": [
    {
     "name": "stdout",
     "output_type": "stream",
     "text": [
      "xPSF yPSF m606cPSF m814cPSF s606PSF s814PSF nstarPSF nstarAPER idAPER xAPER yAPER m606cAPER m814cAPER s606APER s814APER sky606APER sky814APER ra dec flags_f606w RA_f606w DEC_f606w xr_f606w yr_f606w flux_f606w bkgd_f606w c_star_f606w magr_f606w id_f606w xr_f814w_trans yr_f814w_trans flags_f814w RA_f814w DEC_f814w xr_f814w yr_f814w flux_f814w bkgd_f814w _star_f814w magr_f814w id_f814w xAPER_trans yAPER_trans pUmag_f606w pUmag_f814w pUbkg_f606w pUbkg_f814w\n"
     ]
    }
   ],
   "source": [
    "print(header)"
   ]
  },
  {
   "cell_type": "code",
   "execution_count": 42,
   "metadata": {},
   "outputs": [],
   "source": [
    "outArr = np.hstack((catFile,newCol))"
   ]
  },
  {
   "cell_type": "code",
   "execution_count": 43,
   "metadata": {},
   "outputs": [],
   "source": [
    "# np.savetxt('photUtils0820/matchedPast.dat',outArr,header=header)"
   ]
  },
  {
   "cell_type": "code",
   "execution_count": 44,
   "metadata": {},
   "outputs": [
    {
     "data": {
      "image/png": "[encoded data removed]",
      "text/plain": [
       "<Figure size 432x288 with 1 Axes>"
      ]
     },
     "metadata": {
      "needs_background": "light"
     },
     "output_type": "display_data"
    }
   ],
   "source": [
    "fig,ax = plt.subplots(figsize=(6,4))\n",
    "\n",
    "ax.scatter(final_phot_606,rawflux_r4_606['aper_bkg'])\n",
    "ax.scatter(pos_file['m606cAPER'],pos_file['sky606APER'])\n",
    "\n",
    "ax.set_ylim(0,10000)\n",
    "plt.show()"
   ]
  }
 ],
 "metadata": {
  "kernelspec": {
   "display_name": "Python 3",
   "language": "python",
   "name": "python3"
  },
  "language_info": {
   "codemirror_mode": {
    "name": "ipython",
    "version": 3
   },
   "file_extension": ".py",
   "mimetype": "text/x-python",
   "name": "python",
   "nbconvert_exporter": "python",
   "pygments_lexer": "ipython3",
   "version": "3.7.6"
  }
 },
 "nbformat": 4,
 "nbformat_minor": 4
}
