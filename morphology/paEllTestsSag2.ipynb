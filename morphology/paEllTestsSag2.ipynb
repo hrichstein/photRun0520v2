{
 "cells": [
  {
   "cell_type": "code",
   "execution_count": 1,
   "metadata": {},
   "outputs": [],
   "source": [
    "import numpy as np\n",
    "import matplotlib.pyplot as plt\n",
    "from matplotlib.path import Path\n",
    "from matplotlib.patches import PathPatch\n",
    "# from matplotlib.mlab import rec2csv\n",
    "\n",
    "import emcee\n",
    "import corner\n",
    "\n",
    "import _pickle as cPickle\n",
    "import matplotlib as mpl"
   ]
  },
  {
   "cell_type": "code",
   "execution_count": 2,
   "metadata": {},
   "outputs": [],
   "source": [
    "def median_interval(data, alpha=0.32):\n",
    "    \"\"\"\n",
    "    Median including Bayesian credible interval.\n",
    "\n",
    "    Parameters\n",
    "    ----------\n",
    "    data  : posterior samples\n",
    "    alpha : 1 - confidence interval\n",
    "\n",
    "    Returns\n",
    "    -------\n",
    "    [med,[lo, hi]] : median, lower, and upper percentiles\n",
    "    \n",
    "    \"\"\"\n",
    "    q = [100*alpha/2., 50, 100*(1-alpha/2.)]\n",
    "    lo,med,hi = np.percentile(data,q)\n",
    "    return [med,[lo,hi]]"
   ]
  },
  {
   "cell_type": "code",
   "execution_count": 3,
   "metadata": {},
   "outputs": [],
   "source": [
    "cat = np.genfromtxt('../forElena16Nov/SAGITTARIUS-II_cat16Nov.dat',names=True)"
   ]
  },
  {
   "cell_type": "code",
   "execution_count": 4,
   "metadata": {},
   "outputs": [],
   "source": [
    "x = cat['x_f606w']\n",
    "y = cat['y_f606w']\n",
    "m606 = cat['magr_f606w']\n",
    "dm606 = cat['err_f606w']\n",
    "m814 = cat['magr_f814w']\n",
    "dm814 = cat['err_f814w']"
   ]
  },
  {
   "cell_type": "code",
   "execution_count": 5,
   "metadata": {},
   "outputs": [],
   "source": [
    "xgood = x\n",
    "ygood = y"
   ]
  },
  {
   "cell_type": "code",
   "execution_count": 6,
   "metadata": {},
   "outputs": [],
   "source": [
    "# x0 = 2386.25\n",
    "# y0 = 2224.53"
   ]
  },
  {
   "cell_type": "code",
   "execution_count": 7,
   "metadata": {},
   "outputs": [],
   "source": [
    "# richness = 6071\n",
    "# x0 = 2527\n",
    "# y0 = 2235\n",
    "# gal_ext_pix = 2677\n",
    "\n",
    "# gal_ell = 0.3\n",
    "# gal_pa = -8"
   ]
  },
  {
   "cell_type": "code",
   "execution_count": 8,
   "metadata": {},
   "outputs": [],
   "source": [
    "# sag_x0 = x0\n",
    "# sag_y0 = y0\n",
    "\n",
    "# sag_nstar = 4000\n",
    "# sag_ext = 1.6/60 # degrees\n",
    "# sag_ext_pix = 3000\n",
    "# sag_ell = 0.3\n",
    "# sag_pa = 70\n",
    "\n",
    "# r_h = gal_ext_pix"
   ]
  },
  {
   "cell_type": "code",
   "execution_count": 9,
   "metadata": {},
   "outputs": [
    {
     "name": "stdout",
     "output_type": "stream",
     "text": [
      "[7797.203862521483, 175.1170013876881, 169.9691550171883, 2329.9465406833224, 23.077491706560068, 23.190543779932796, 2181.2670905972664, 27.52270906633248, 27.484441464997417, 2216.950480728354, 62.63551251306626, 60.09283508331464, 0.14159011019323087, 0.02659166698660012, 0.027261593328883893, -16.455886266280395, 5.2845732523603814, 5.6478025933461815]\n"
     ]
    }
   ],
   "source": [
    "samples_h = cPickle.load( open( \"sag2mcmcPL1902-2.p\", \"rb\" ) )\n",
    "#MEDIAN VALUES AND +/-1 SIGMA FOR EACH FIT PARAMETER\n",
    "rich_h,[rich_min,rich_max] = median_interval(samples_h[:,0])\n",
    "x_h,[xmin,xmax] = median_interval(samples_h[:,1])\n",
    "y_h,[ymin,ymax] = median_interval(samples_h[:,2])\n",
    "sag2_ext_fit_h,[sag2_ext_min,sag2_ext_max] = median_interval(samples_h[:,3])\n",
    "sag2_ell_fit_h,[sag2_ell_min,sag2_ell_max] = median_interval(samples_h[:,4])\n",
    "sag2_pa_fit_h,[sag2_pa_min,sag2_pa_max] = median_interval(samples_h[:,5])\n",
    "\n",
    "res = [rich_h,rich_max-rich_h,rich_h-rich_min,x_h,xmax-x_h,x_h-xmin,y_h,ymax-y_h,y_h-ymin,\n",
    "           sag2_ext_fit_h,sag2_ext_max-sag2_ext_fit_h,sag2_ext_fit_h-sag2_ext_min,\n",
    "           sag2_ell_fit_h,sag2_ell_max-sag2_ell_fit_h,sag2_ell_fit_h-sag2_ell_min,\n",
    "           sag2_pa_fit_h,sag2_pa_max-sag2_pa_fit_h,sag2_pa_fit_h-sag2_pa_min]\n",
    "\n",
    "print(res)"
   ]
  },
  {
   "cell_type": "code",
   "execution_count": 22,
   "metadata": {},
   "outputs": [],
   "source": [
    "sag_x0 = x_h\n",
    "sag_y0 = y_h\n",
    "\n",
    "x0 = x_h\n",
    "y0 = y_h\n",
    "\n",
    "richness = rich_h\n",
    "# sag_ext = 1.6/60 # degrees\n",
    "sag_ext_pix = sag2_ext_fit_h\n",
    "sag_ell = sag2_ell_fit_h\n",
    "sag_pa = sag2_pa_fit_h\n",
    "\n",
    "r_h = sag_ext_pix\n",
    "gal_ext_pix = sag_ext_pix\n",
    "\n",
    "gal_ell = sag2_ell_fit_h\n",
    "gal_pa = -8"
   ]
  },
  {
   "cell_type": "code",
   "execution_count": 23,
   "metadata": {},
   "outputs": [],
   "source": [
    "def new_kernel_plummer(x,y,lon=sag_x0,lat=sag_y0,ext=sag_ext_pix,ell=sag_ell,pa=sag_pa):\n",
    "    \"\"\" Evaluate the elliptical Plummer kernel at coordinates x,y. \n",
    "    Normalized to unity over all space...\n",
    "\n",
    "    Parameters\n",
    "    ----------\n",
    "    x: x-coord for evaluating kernel [pix]\n",
    "    y: y-coord for evaluating kernel [pix]\n",
    "    lon: x-coord of kernel centroid [pix]\n",
    "    lat: y-coord of kernel centroid [pix]\n",
    "    ext: extension [pix]\n",
    "    ell: ellipticity\n",
    "    pa:  position angle [deg]\n",
    "\n",
    "    Returns\n",
    "    -------\n",
    "    pdf : probability density (should integrate to unity over all space)\n",
    "    \"\"\"\n",
    "\n",
    "    # Elliptical radius of each x,y coord\n",
    "    costh = np.cos(np.radians(-pa))\n",
    "    sinth = np.sin(np.radians(-pa))\n",
    "    dx = x-lon\n",
    "    dy = y-lat\n",
    "    radius = np.sqrt(((dx*costh-dy*sinth)/(1-ell))**2 + (dx*sinth+dy*costh)**2)\n",
    "\n",
    "    #PLUMMER SCALE RADIUS = HALF-LIGHT RADIUS \n",
    "    r_e = ext\n",
    "    #Normalization (integrates to unity over all space?) [stars/pix^2)\n",
    "    norm = r_e**2/(np.pi*(1-ell))\n",
    "\n",
    "    # Plummer PDF\n",
    "    pdf = norm / ((radius**2 + r_e**2)**2)\n",
    "\n",
    "    return pdf"
   ]
  },
  {
   "cell_type": "code",
   "execution_count": 24,
   "metadata": {},
   "outputs": [],
   "source": [
    "def model(theta_sag):\n",
    "    \"\"\" Calculate the binned model counts. This extends over the\n",
    "    entire pixel range, but we will apply the mask later.\n",
    "\n",
    "    Parameters\n",
    "    ----------\n",
    "    theta : the model parameters\n",
    "    \n",
    "    Returns\n",
    "    -------\n",
    "    model_counts : the model counts in each bin\n",
    "    \"\"\"\n",
    "    #FIT ALL MODEL PARAMETERS\n",
    "    richness = theta_sag[0]\n",
    "    kwargs = dict(lon=theta_sag[1],lat=theta_sag[2],ext=theta_sag[3],ell=theta_sag[4],pa=theta_sag[5])\n",
    "    #THIS CAN BE USED TO HOLD SOME OF THE PARAMETERS FIXED\n",
    "    # Default values for the other parameters\n",
    "    #kwargs.update(ext=ERI_EXT_PIX,ell=ERI_ELL)\n",
    "\n",
    "    #CHANGE KERNEL CALLED HERE TO USE A DIFFERENT FUNCTIONAL FORM FOR THE SURFACE DENSITY OF THE GALAXY\n",
    "    # The new kernel in pixel coordinates\n",
    "    pdf = new_kernel_plummer(xx,yy,**kwargs)\n",
    "#     pdf = new_kernel(xx,yy,**kwargs)\n",
    "\n",
    "    # Calculate the model predicted counts in each pixel\n",
    "    pixarea = xdel*ydel\n",
    "    model_counts = richness * pdf * pixarea\n",
    "    return model_counts"
   ]
  },
  {
   "cell_type": "code",
   "execution_count": 25,
   "metadata": {},
   "outputs": [],
   "source": [
    "xbin0 = np.ones((179,1))  # (fltarr(267)+1)\n",
    "xbin1 = np.ones((1,179))  \n",
    "xbin1[0] = np.arange(0,179,1)\n",
    "xbin2 = xbin1 * 30 + 15  # (findgen(267)*30. + 15)\n",
    "xbin = np.matmul(xbin0,xbin2)\n",
    "ybin = xbin.T\n",
    "\n",
    "# creating x and y arrays to represent the bins across the image"
   ]
  },
  {
   "cell_type": "code",
   "execution_count": 26,
   "metadata": {},
   "outputs": [],
   "source": [
    "def returnPDF(gal_pa_):\n",
    "    costh = np.cos(-1 * np.deg2rad(gal_pa_))\n",
    "    sinth = np.sin(-1 * np.deg2rad(gal_pa_))\n",
    "\n",
    "    dx = xbin - x0\n",
    "    dy = ybin - y0\n",
    "\n",
    "    r1 = (dx * costh - dy * sinth) / (1 - gal_ell)\n",
    "    r2 = (dx * sinth + dy * costh)\n",
    "\n",
    "    radius = np.sqrt(r1**2 + r2**2)\n",
    "    \n",
    "    r_h = gal_ext_pix\n",
    "    norm = r_h**2 / (np.pi * (1-gal_ell))\n",
    "    # half light radius squared / (pi * 1-ell)\n",
    "    pdf = norm/((radius**2 + r_h**2)**2)\n",
    "\n",
    "    return pdf, radius"
   ]
  },
  {
   "cell_type": "code",
   "execution_count": 27,
   "metadata": {},
   "outputs": [],
   "source": [
    "pdfm8, radiusm8 = returnPDF(-8)\n",
    "pdfm48, radiusm48 = returnPDF(-48)\n",
    "pdf32, radius32 = returnPDF(32)\n",
    "pdf82, radius82 = returnPDF(82)"
   ]
  },
  {
   "cell_type": "code",
   "execution_count": 28,
   "metadata": {},
   "outputs": [],
   "source": [
    "xdel = 30.\n",
    "ydel = 30.\n",
    "pixarea = xdel*ydel  # pixel area in each bin"
   ]
  },
  {
   "cell_type": "code",
   "execution_count": 29,
   "metadata": {},
   "outputs": [],
   "source": [
    "model_counts_galm8 = richness*pdfm8*pixarea  # a 179x179 array\n",
    "model_counts_galm48 = richness*pdfm48*pixarea  # a 179x179 array\n",
    "model_counts_gal32 = richness*pdf32*pixarea  # a 179x179 array\n",
    "model_counts_gal82 = richness*pdf82*pixarea  # a 179x179 array"
   ]
  },
  {
   "cell_type": "code",
   "execution_count": 30,
   "metadata": {},
   "outputs": [],
   "source": [
    "# Observed surface density map\n",
    "binned_surface_density_30 = np.zeros((179,179))\n",
    "for ii in range(179):\n",
    "    for jj in range(179):\n",
    "        idxgood = np.logical_and(np.logical_and(xgood >= (30 * ii),xgood <= (30 * (ii + 1))),\n",
    "                     np.logical_and(ygood >= (30 * jj),ygood <= (30 * (jj + 1))))\n",
    "\n",
    "        tmp = np.where(idxgood)[0]\n",
    "#         # flipping ii and jj because in IDL, it's col, row.\n",
    "        binned_surface_density_30[jj,ii] = len(tmp)"
   ]
  },
  {
   "cell_type": "code",
   "execution_count": 31,
   "metadata": {},
   "outputs": [],
   "source": [
    "# Define annuli\n",
    "radius1_m8=radiusm8.flatten()\n",
    "r1_m8 = np.where(radius1_m8 < (0.1 * r_h))[0]\n",
    "r2_m8 = np.where((radius1_m8 < (0.2 * r_h)) & (radius1_m8 >= (0.1 * r_h)))[0]\n",
    "r3_m8 = np.where((radius1_m8 < (0.3 * r_h)) & (radius1_m8 >= (0.2 * r_h)))[0]\n",
    "r4_m8 = np.where((radius1_m8 < (0.4 * r_h)) & (radius1_m8 >= (0.3 * r_h)))[0]\n",
    "r5_m8 = np.where((radius1_m8 < (0.5 * r_h)) & (radius1_m8 >= (0.4 * r_h)))[0]\n",
    "r6_m8 = np.where((radius1_m8 < (0.6 * r_h)) & (radius1_m8 >= (0.5 * r_h)))[0]\n",
    "r7_m8 = np.where((radius1_m8 < (0.7 * r_h)) & (radius1_m8 >= (0.6 * r_h)))[0]\n",
    "r8_m8 = np.where((radius1_m8 < (0.8 * r_h)) & (radius1_m8 >= (0.7 * r_h)))[0]\n",
    "r9_m8 = np.where((radius1_m8 < (0.9 * r_h)) & (radius1_m8 >= (0.8 * r_h)))[0]\n",
    "r10_m8 = np.where((radius1_m8 < r_h) & (radius1_m8 >= (0.9 * r_h)))[0]"
   ]
  },
  {
   "cell_type": "code",
   "execution_count": 32,
   "metadata": {},
   "outputs": [],
   "source": [
    "# Define annuli\n",
    "radius1_m48=radiusm48.flatten()\n",
    "r1_m48 = np.where(radius1_m48 < (0.1 * r_h))[0]\n",
    "r2_m48 = np.where((radius1_m48 < (0.2 * r_h)) & (radius1_m48 >= (0.1 * r_h)))[0]\n",
    "r3_m48 = np.where((radius1_m48 < (0.3 * r_h)) & (radius1_m48 >= (0.2 * r_h)))[0]\n",
    "r4_m48 = np.where((radius1_m48 < (0.4 * r_h)) & (radius1_m48 >= (0.3 * r_h)))[0]\n",
    "r5_m48 = np.where((radius1_m48 < (0.5 * r_h)) & (radius1_m48 >= (0.4 * r_h)))[0]\n",
    "r6_m48 = np.where((radius1_m48 < (0.6 * r_h)) & (radius1_m48 >= (0.5 * r_h)))[0]\n",
    "r7_m48 = np.where((radius1_m48 < (0.7 * r_h)) & (radius1_m48 >= (0.6 * r_h)))[0]\n",
    "r8_m48 = np.where((radius1_m48 < (0.8 * r_h)) & (radius1_m48 >= (0.7 * r_h)))[0]\n",
    "r9_m48 = np.where((radius1_m48 < (0.9 * r_h)) & (radius1_m48 >= (0.8 * r_h)))[0]\n",
    "r10_m48 = np.where((radius1_m48 < r_h) & (radius1_m48 >= (0.9 * r_h)))[0]"
   ]
  },
  {
   "cell_type": "code",
   "execution_count": 33,
   "metadata": {},
   "outputs": [],
   "source": [
    "# Define annuli\n",
    "radius1_32=radius32.flatten()\n",
    "r1_32 = np.where(radius1_32 < (0.1 * r_h))[0]\n",
    "r2_32 = np.where((radius1_32 < (0.2 * r_h)) & (radius1_32 >= (0.1 * r_h)))[0]\n",
    "r3_32 = np.where((radius1_32 < (0.3 * r_h)) & (radius1_32 >= (0.2 * r_h)))[0]\n",
    "r4_32 = np.where((radius1_32 < (0.4 * r_h)) & (radius1_32 >= (0.3 * r_h)))[0]\n",
    "r5_32 = np.where((radius1_32 < (0.5 * r_h)) & (radius1_32 >= (0.4 * r_h)))[0]\n",
    "r6_32 = np.where((radius1_32 < (0.6 * r_h)) & (radius1_32 >= (0.5 * r_h)))[0]\n",
    "r7_32 = np.where((radius1_32 < (0.7 * r_h)) & (radius1_32 >= (0.6 * r_h)))[0]\n",
    "r8_32 = np.where((radius1_32 < (0.8 * r_h)) & (radius1_32 >= (0.7 * r_h)))[0]\n",
    "r9_32 = np.where((radius1_32 < (0.9 * r_h)) & (radius1_32 >= (0.8 * r_h)))[0]\n",
    "r10_32 = np.where((radius1_32 < r_h) & (radius1_32 >= (0.9 * r_h)))[0]"
   ]
  },
  {
   "cell_type": "code",
   "execution_count": 34,
   "metadata": {},
   "outputs": [],
   "source": [
    "# Define annuli\n",
    "radius1_82=radius82.flatten()\n",
    "r1_82 = np.where(radius1_82 < (0.1 * r_h))[0]\n",
    "r2_82 = np.where((radius1_82 < (0.2 * r_h)) & (radius1_82 >= (0.1 * r_h)))[0]\n",
    "r3_82 = np.where((radius1_82 < (0.3 * r_h)) & (radius1_82 >= (0.2 * r_h)))[0]\n",
    "r4_82 = np.where((radius1_82 < (0.4 * r_h)) & (radius1_82 >= (0.3 * r_h)))[0]\n",
    "r5_82 = np.where((radius1_82 < (0.5 * r_h)) & (radius1_82 >= (0.4 * r_h)))[0]\n",
    "r6_82 = np.where((radius1_82 < (0.6 * r_h)) & (radius1_82 >= (0.5 * r_h)))[0]\n",
    "r7_82 = np.where((radius1_82 < (0.7 * r_h)) & (radius1_82 >= (0.6 * r_h)))[0]\n",
    "r8_82 = np.where((radius1_82 < (0.8 * r_h)) & (radius1_82 >= (0.7 * r_h)))[0]\n",
    "r9_82 = np.where((radius1_82 < (0.9 * r_h)) & (radius1_82 >= (0.8 * r_h)))[0]\n",
    "r10_82 = np.where((radius1_82 < r_h) & (radius1_82 >= (0.9 * r_h)))[0]"
   ]
  },
  {
   "cell_type": "code",
   "execution_count": 35,
   "metadata": {},
   "outputs": [],
   "source": [
    "arr = np.array([0,0.1,0.2,0.3,0.4,0.5,0.6,0.7,0.8,0.9])\n",
    "r_annuli = (arr + 0.05) * r_h\n",
    "\n",
    "# .05r_h, .15r_h\n",
    "area_annuli = np.pi * ( (r_annuli + (0.05*r_h))**2 - (r_annuli - (0.05*r_h))**2) * (1-gal_ell)"
   ]
  },
  {
   "cell_type": "code",
   "execution_count": 36,
   "metadata": {},
   "outputs": [],
   "source": [
    "pix_per_arcsec=20\n",
    "area_arcmin = area_annuli/(pix_per_arcsec*60)**2"
   ]
  },
  {
   "cell_type": "code",
   "execution_count": 37,
   "metadata": {},
   "outputs": [],
   "source": [
    "aa = area_arcmin\n",
    "dist_x = np.array([r_h*0.1,r_h*0.2,r_h*0.3,r_h*0.4,r_h*0.5,r_h*0.6,r_h*0.7,r_h*0.8,r_h*0.9,r_h])/1200"
   ]
  },
  {
   "cell_type": "code",
   "execution_count": 38,
   "metadata": {},
   "outputs": [],
   "source": [
    "binned_surface_density_30f = binned_surface_density_30.flatten()\n",
    "model_counts_galfm8 = model_counts_galm8.flatten()\n",
    "model_counts_galfm48 = model_counts_galm48.flatten()\n",
    "model_counts_galf32 = model_counts_gal32.flatten()\n",
    "model_counts_galf82 = model_counts_gal82.flatten()\n",
    "# model_counts_expf = model_counts_exp.flatten()\n",
    "data_1dm8 = [binned_surface_density_30f[r1_m8].sum()/aa[0],\n",
    "           binned_surface_density_30f[r2_m8].sum()/aa[1],\n",
    "           binned_surface_density_30f[r3_m8].sum()/aa[2],\n",
    "           binned_surface_density_30f[r4_m8].sum()/aa[3],\n",
    "           binned_surface_density_30f[r5_m8].sum()/aa[4],\n",
    "           binned_surface_density_30f[r6_m8].sum()/aa[5],\n",
    "           binned_surface_density_30f[r7_m8].sum()/aa[6],\n",
    "           binned_surface_density_30f[r8_m8].sum()/aa[7],\n",
    "           binned_surface_density_30f[r9_m8].sum()/aa[8],\n",
    "           binned_surface_density_30f[r10_m8].sum()/aa[9]]\n",
    "\n",
    "data_1dm48 = [binned_surface_density_30f[r1_m48].sum()/aa[0],\n",
    "           binned_surface_density_30f[r2_m48].sum()/aa[1],\n",
    "           binned_surface_density_30f[r3_m48].sum()/aa[2],\n",
    "           binned_surface_density_30f[r4_m48].sum()/aa[3],\n",
    "           binned_surface_density_30f[r5_m48].sum()/aa[4],\n",
    "           binned_surface_density_30f[r6_m48].sum()/aa[5],\n",
    "           binned_surface_density_30f[r7_m48].sum()/aa[6],\n",
    "           binned_surface_density_30f[r8_m48].sum()/aa[7],\n",
    "           binned_surface_density_30f[r9_m48].sum()/aa[8],\n",
    "           binned_surface_density_30f[r10_m48].sum()/aa[9]]\n",
    "\n",
    "data_1d32 = [binned_surface_density_30f[r1_32].sum()/aa[0],\n",
    "           binned_surface_density_30f[r2_32].sum()/aa[1],\n",
    "           binned_surface_density_30f[r3_32].sum()/aa[2],\n",
    "           binned_surface_density_30f[r4_32].sum()/aa[3],\n",
    "           binned_surface_density_30f[r5_32].sum()/aa[4],\n",
    "           binned_surface_density_30f[r6_32].sum()/aa[5],\n",
    "           binned_surface_density_30f[r7_32].sum()/aa[6],\n",
    "           binned_surface_density_30f[r8_32].sum()/aa[7],\n",
    "           binned_surface_density_30f[r9_32].sum()/aa[8],\n",
    "           binned_surface_density_30f[r10_32].sum()/aa[9]]\n",
    "\n",
    "data_1d82 = [binned_surface_density_30f[r1_82].sum()/aa[0],\n",
    "           binned_surface_density_30f[r2_82].sum()/aa[1],\n",
    "           binned_surface_density_30f[r3_82].sum()/aa[2],\n",
    "           binned_surface_density_30f[r4_82].sum()/aa[3],\n",
    "           binned_surface_density_30f[r5_82].sum()/aa[4],\n",
    "           binned_surface_density_30f[r6_82].sum()/aa[5],\n",
    "           binned_surface_density_30f[r7_82].sum()/aa[6],\n",
    "           binned_surface_density_30f[r8_82].sum()/aa[7],\n",
    "           binned_surface_density_30f[r9_82].sum()/aa[8],\n",
    "           binned_surface_density_30f[r10_82].sum()/aa[9]]\n",
    "\n",
    "model_1dm8 = [model_counts_galfm8[r1_m8].sum()/aa[0],\n",
    "            model_counts_galfm8[r2_m8].sum()/aa[1],\n",
    "            model_counts_galfm8[r3_m8].sum()/aa[2],\n",
    "            model_counts_galfm8[r4_m8].sum()/aa[3],\n",
    "            model_counts_galfm8[r5_m8].sum()/aa[4],\n",
    "            model_counts_galfm8[r6_m8].sum()/aa[5],\n",
    "            model_counts_galfm8[r7_m8].sum()/aa[6],\n",
    "            model_counts_galfm8[r8_m8].sum()/aa[7],\n",
    "            model_counts_galfm8[r9_m8].sum()/aa[8],\n",
    "            model_counts_galfm8[r10_m8].sum()/aa[9]]"
   ]
  },
  {
   "cell_type": "code",
   "execution_count": 39,
   "metadata": {},
   "outputs": [],
   "source": [
    "model_1dm48 = [model_counts_galfm48[r1_m48].sum()/aa[0],\n",
    "            model_counts_galfm48[r2_m48].sum()/aa[1],\n",
    "            model_counts_galfm48[r3_m48].sum()/aa[2],\n",
    "            model_counts_galfm48[r4_m48].sum()/aa[3],\n",
    "            model_counts_galfm48[r5_m48].sum()/aa[4],\n",
    "            model_counts_galfm48[r6_m48].sum()/aa[5],\n",
    "            model_counts_galfm48[r7_m48].sum()/aa[6],\n",
    "            model_counts_galfm48[r8_m48].sum()/aa[7],\n",
    "            model_counts_galfm48[r9_m48].sum()/aa[8],\n",
    "            model_counts_galfm48[r10_m48].sum()/aa[9]]\n",
    "\n",
    "model_1d32 = [model_counts_galf32[r1_32].sum()/aa[0],\n",
    "            model_counts_galf32[r2_32].sum()/aa[1],\n",
    "            model_counts_galf32[r3_32].sum()/aa[2],\n",
    "            model_counts_galf32[r4_32].sum()/aa[3],\n",
    "            model_counts_galf32[r5_32].sum()/aa[4],\n",
    "            model_counts_galf32[r6_32].sum()/aa[5],\n",
    "            model_counts_galf32[r7_32].sum()/aa[6],\n",
    "            model_counts_galf32[r8_32].sum()/aa[7],\n",
    "            model_counts_galf32[r9_32].sum()/aa[8],\n",
    "            model_counts_galf32[r10_32].sum()/aa[9]]\n",
    "\n",
    "model_1d82 = [model_counts_galf82[r1_82].sum()/aa[0],\n",
    "            model_counts_galf82[r2_82].sum()/aa[1],\n",
    "            model_counts_galf82[r3_82].sum()/aa[2],\n",
    "            model_counts_galf82[r4_82].sum()/aa[3],\n",
    "            model_counts_galf82[r5_82].sum()/aa[4],\n",
    "            model_counts_galf82[r6_82].sum()/aa[5],\n",
    "            model_counts_galf82[r7_82].sum()/aa[6],\n",
    "            model_counts_galf82[r8_82].sum()/aa[7],\n",
    "            model_counts_galf82[r9_82].sum()/aa[8],\n",
    "            model_counts_galf82[r10_82].sum()/aa[9]]"
   ]
  },
  {
   "cell_type": "code",
   "execution_count": 41,
   "metadata": {},
   "outputs": [
    {
     "data": {
      "image/png": "[encoded data removed]",
      "text/plain": [
       "<Figure size 648x504 with 1 Axes>"
      ]
     },
     "metadata": {
      "needs_background": "light"
     },
     "output_type": "display_data"
    }
   ],
   "source": [
    "fig, ax = plt.subplots(figsize=(9,7))\n",
    "\n",
    "ax.plot(dist_x,data_1dm8,label='Data -8',color='blue')\n",
    "ax.plot(dist_x,data_1dm48,label='Data -48',color='orange')\n",
    "ax.plot(dist_x,data_1d32,label='Data 32',color='hotpink')\n",
    "ax.plot(dist_x,data_1d82,label='Data 82',color='purple')\n",
    "ax.plot(dist_x,model_1dm8,label='Model Plummer -8',color='blue',linestyle='--')\n",
    "ax.plot(dist_x,model_1dm48,label='Model Plummer -48',color='orange',linestyle='--')\n",
    "ax.plot(dist_x,model_1d32,label='Model Plummer 32',color='hotpink',linestyle='--')\n",
    "ax.plot(dist_x,model_1d82,label='Model Plummer 82',color='purple',linestyle='--')\n",
    "\n",
    "# ax.plot(dist_x,model_1de,label='Model Exp')\n",
    "\n",
    "ax.set_xscale('log')\n",
    "ax.set_yscale('log')\n",
    "\n",
    "ax.set_ylabel(r'log[$\\Sigma_N$ (stars arcmin$^{-2}$)]',fontsize=16)\n",
    "ax.set_xlabel(r'log[R (arcmin)]',fontsize=16)\n",
    "ax.set_title('Sgr II',fontsize=20)\n",
    "\n",
    "ax.set_xticks([1, 2])\n",
    "ax.get_xaxis().set_major_formatter(mpl.ticker.ScalarFormatter())\n",
    "\n",
    "ax.set_yticks([1e+2, 1e+3])\n",
    "ax.get_yaxis().set_major_formatter(mpl.ticker.ScalarFormatter())\n",
    "\n",
    "ax.legend()\n",
    "plt.savefig('figures/sgr2_2202pa.png')\n",
    "plt.show()"
   ]
  }
 ],
 "metadata": {
  "kernelspec": {
   "display_name": "Python 3",
   "language": "python",
   "name": "python3"
  },
  "language_info": {
   "codemirror_mode": {
    "name": "ipython",
    "version": 3
   },
   "file_extension": ".py",
   "mimetype": "text/x-python",
   "name": "python",
   "nbconvert_exporter": "python",
   "pygments_lexer": "ipython3",
   "version": "3.7.6"
  }
 },
 "nbformat": 4,
 "nbformat_minor": 4
}
