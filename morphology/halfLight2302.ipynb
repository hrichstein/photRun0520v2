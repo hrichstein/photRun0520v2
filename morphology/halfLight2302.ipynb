{
 "cells": [
  {
   "cell_type": "code",
   "execution_count": 1,
   "metadata": {},
   "outputs": [],
   "source": [
    "import numpy as np\n",
    "import matplotlib.pyplot as plt\n",
    "\n",
    "import emcee\n",
    "import corner\n",
    "\n",
    "import _pickle as cPickle\n",
    "import matplotlib as mpl"
   ]
  },
  {
   "cell_type": "code",
   "execution_count": 2,
   "metadata": {},
   "outputs": [],
   "source": [
    "cat = np.genfromtxt('../forElena16Nov/SAGITTARIUS-II_cat16Nov.dat',names=True)"
   ]
  },
  {
   "cell_type": "code",
   "execution_count": 3,
   "metadata": {},
   "outputs": [],
   "source": [
    "xgood = cat['x_f606w']\n",
    "ygood = cat['y_f606w']\n",
    "m606 = cat['magr_f606w']\n",
    "dm606 = cat['err_f606w']\n",
    "m814 = cat['magr_f814w']\n",
    "dm814 = cat['err_f814w']"
   ]
  },
  {
   "cell_type": "code",
   "execution_count": 35,
   "metadata": {},
   "outputs": [],
   "source": [
    "def median_interval(data, alpha=0.32):\n",
    "    \"\"\"\n",
    "    Median including Bayesian credible interval.\n",
    "\n",
    "    Parameters\n",
    "    ----------\n",
    "    data  : posterior samples\n",
    "    alpha : 1 - confidence interval\n",
    "\n",
    "    Returns\n",
    "    -------\n",
    "    [med,[lo, hi]] : median, lower, and upper percentiles\n",
    "    \n",
    "    \"\"\"\n",
    "    q = [100*alpha/2., 50, 100*(1-alpha/2.)]\n",
    "    lo,med,hi = np.percentile(data,q)\n",
    "    return [med,[lo,hi]]"
   ]
  },
  {
   "cell_type": "code",
   "execution_count": 4,
   "metadata": {},
   "outputs": [],
   "source": [
    "# m606c = m606[dm606 < 0.025]\n",
    "# dm606c = dm606[dm606 < 0.025]\n",
    "\n",
    "# m814c = m814[dm606 < 0.025]\n",
    "# dm814c = dm814[dm606 < 0.025]\n",
    "\n",
    "m606c = m606\n",
    "dm606c = dm606\n",
    "\n",
    "m814c = m814\n",
    "dm814c = dm814"
   ]
  },
  {
   "cell_type": "code",
   "execution_count": 5,
   "metadata": {},
   "outputs": [],
   "source": [
    "def mag2flux(mag,ZPT=26.667):\n",
    "    \n",
    "    exp = ((-1 * mag) - ZPT) / (-2.5)\n",
    "    \n",
    "    flux = 10**exp\n",
    "    \n",
    "    return flux"
   ]
  },
  {
   "cell_type": "code",
   "execution_count": 27,
   "metadata": {},
   "outputs": [],
   "source": [
    "fl_606 = mag2flux(m606c,ZPT=26.667)\n",
    "df_606 = mag2flux(dm606c,ZPT=26.667)\n",
    "fl_814 = mag2flux(m814c,ZPT=26.779)\n",
    "df_814 = mag2flux(dm814c,ZPT=26.779)"
   ]
  },
  {
   "cell_type": "code",
   "execution_count": 28,
   "metadata": {},
   "outputs": [],
   "source": [
    "perc_err_606 = df_606/fl_606\n",
    "perc_err_814 = df_814/fl_814\n",
    "\n",
    "avg_606 = np.average(perc_err_606)\n",
    "avg_814 = np.average(perc_err_814)"
   ]
  },
  {
   "cell_type": "code",
   "execution_count": 30,
   "metadata": {},
   "outputs": [],
   "source": [
    "w_606 = ((avg_606 - perc_err_606)/avg_606)**(-2)\n",
    "w_814 = ((avg_814 - perc_err_814)/avg_814)**(-2)"
   ]
  },
  {
   "cell_type": "code",
   "execution_count": 36,
   "metadata": {},
   "outputs": [],
   "source": [
    "samples_h = cPickle.load( open( \"sag2mcmcPL1902-2.p\", \"rb\" ) )\n",
    "#MEDIAN VALUES AND +/-1 SIGMA FOR EACH FIT PARAMETER\n",
    "rich_h,[rich_min,rich_max] = median_interval(samples_h[:,0])\n",
    "x_h,[xmin,xmax] = median_interval(samples_h[:,1])\n",
    "y_h,[ymin,ymax] = median_interval(samples_h[:,2])\n",
    "sag2_ext_fit_h,[sag2_ext_min,sag2_ext_max] = median_interval(samples_h[:,3])\n",
    "sag2_ell_fit_h,[sag2_ell_min,sag2_ell_max] = median_interval(samples_h[:,4])\n",
    "sag2_pa_fit_h,[sag2_pa_min,sag2_pa_max] = median_interval(samples_h[:,5])\n",
    "\n",
    "# res = [rich_h,rich_max-rich_h,rich_h-rich_min,x_h,xmax-x_h,x_h-xmin,y_h,ymax-y_h,y_h-ymin,\n",
    "#            sag2_ext_fit_h,sag2_ext_max-sag2_ext_fit_h,sag2_ext_fit_h-sag2_ext_min,\n",
    "#            sag2_ell_fit_h,sag2_ell_max-sag2_ell_fit_h,sag2_ell_fit_h-sag2_ell_min,\n",
    "#            sag2_pa_fit_h,sag2_pa_max-sag2_pa_fit_h,sag2_pa_fit_h-sag2_pa_min]\n",
    "\n",
    "# print(res)"
   ]
  },
  {
   "cell_type": "code",
   "execution_count": 37,
   "metadata": {},
   "outputs": [],
   "source": [
    "gal_pa = sag2_pa_fit_h\n",
    "x0 = x_h\n",
    "y0 = y_h\n",
    "gal_ell = sag2_ell_fit_h"
   ]
  },
  {
   "cell_type": "code",
   "execution_count": 38,
   "metadata": {},
   "outputs": [],
   "source": [
    "costh = np.cos(-1 * np.deg2rad(gal_pa))\n",
    "sinth = np.sin(-1 * np.deg2rad(gal_pa))\n",
    "\n",
    "dx = xgood - x0\n",
    "dy = ygood - y0\n",
    "\n",
    "r1 = (dx * costh - dy * sinth) / (1 - gal_ell)\n",
    "r2 = (dx * sinth + dy * costh)\n",
    "\n",
    "radius = np.sqrt(r1**2 + r2**2)"
   ]
  },
  {
   "cell_type": "code",
   "execution_count": 41,
   "metadata": {},
   "outputs": [],
   "source": [
    "sort_idx = np.argsort(radius)\n",
    "sorted_rad = radius[sort_idx]\n",
    "total_flux = fl_606.sum()\n",
    "sorted_flux = fl_606[sort_idx]"
   ]
  },
  {
   "cell_type": "code",
   "execution_count": 42,
   "metadata": {},
   "outputs": [
    {
     "name": "stdout",
     "output_type": "stream",
     "text": [
      "1.6582688391223603\n"
     ]
    }
   ],
   "source": [
    "part_flux = 0\n",
    "ii = 0\n",
    "\n",
    "while part_flux <= (0.5*total_flux):\n",
    "    part_flux += sorted_flux[ii]\n",
    "    ii += 1\n",
    "    \n",
    "idx_take = ii - 1\n",
    "rad_half = radius[ii-1]\n",
    "\n",
    "print(rad_half/1200)  # arcmin"
   ]
  },
  {
   "cell_type": "code",
   "execution_count": 44,
   "metadata": {},
   "outputs": [],
   "source": [
    "sat_val = 75000\n",
    "flat_flux = fl_606\n",
    "flat_flux[flat_flux > sat_val] = 75000\n",
    "sorted_flux = flat_flux[sort_idx]\n",
    "total_flux = flat_flux.sum()"
   ]
  },
  {
   "cell_type": "code",
   "execution_count": 45,
   "metadata": {},
   "outputs": [
    {
     "name": "stdout",
     "output_type": "stream",
     "text": [
      "1.1356912330639881\n"
     ]
    }
   ],
   "source": [
    "part_flux = 0\n",
    "ii = 0\n",
    "\n",
    "while part_flux <= (0.5*total_flux):\n",
    "    part_flux += sorted_flux[ii]\n",
    "    ii += 1\n",
    "    \n",
    "idx_take = ii - 1\n",
    "rad_half = radius[ii-1]\n",
    "\n",
    "print(rad_half/1200)  # arcmin"
   ]
  }
 ],
 "metadata": {
  "kernelspec": {
   "display_name": "Python 3",
   "language": "python",
   "name": "python3"
  },
  "language_info": {
   "codemirror_mode": {
    "name": "ipython",
    "version": 3
   },
   "file_extension": ".py",
   "mimetype": "text/x-python",
   "name": "python",
   "nbconvert_exporter": "python",
   "pygments_lexer": "ipython3",
   "version": "3.7.6"
  }
 },
 "nbformat": 4,
 "nbformat_minor": 4
}
