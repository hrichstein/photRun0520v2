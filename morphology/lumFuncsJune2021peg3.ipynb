{
 "cells": [
  {
   "cell_type": "code",
   "execution_count": 64,
   "metadata": {},
   "outputs": [],
   "source": [
    "import numpy as np\n",
    "import matplotlib.pyplot as plt"
   ]
  },
  {
   "cell_type": "code",
   "execution_count": 65,
   "metadata": {},
   "outputs": [],
   "source": [
    "file = np.genfromtxt('../peg3_135m15.lf',skip_header=8,names=True)"
   ]
  },
  {
   "cell_type": "code",
   "execution_count": 66,
   "metadata": {},
   "outputs": [
    {
     "data": {
      "text/plain": [
       "('N', 'F606W', 'Log10N', 'Log10dN')"
      ]
     },
     "execution_count": 66,
     "metadata": {},
     "output_type": "execute_result"
    }
   ],
   "source": [
    "file.dtype.names"
   ]
  },
  {
   "cell_type": "code",
   "execution_count": 67,
   "metadata": {},
   "outputs": [
    {
     "data": {
      "image/png": "[encoded data removed]",
      "text/plain": [
       "<Figure size 432x288 with 1 Axes>"
      ]
     },
     "metadata": {
      "needs_background": "light"
     },
     "output_type": "display_data"
    }
   ],
   "source": [
    "plt.plot(file['F606W']+21.66,10**file['Log10dN'])\n",
    "\n",
    "plt.show()"
   ]
  },
  {
   "cell_type": "code",
   "execution_count": 68,
   "metadata": {},
   "outputs": [
    {
     "data": {
      "image/png": "[encoded data removed]",
      "text/plain": [
       "<Figure size 432x288 with 1 Axes>"
      ]
     },
     "metadata": {
      "needs_background": "light"
     },
     "output_type": "display_data"
    }
   ],
   "source": [
    "plt.plot(file['F606W']+21.66,10**file['Log10N'])\n",
    "\n",
    "plt.show()"
   ]
  },
  {
   "cell_type": "code",
   "execution_count": 69,
   "metadata": {},
   "outputs": [],
   "source": [
    "idx1 = np.logical_and(file['F606W']+21.66<=22.6,file['F606W']+21.66>=22.5)"
   ]
  },
  {
   "cell_type": "code",
   "execution_count": 70,
   "metadata": {},
   "outputs": [],
   "source": [
    "cut1 = file[idx1]"
   ]
  },
  {
   "cell_type": "code",
   "execution_count": 71,
   "metadata": {},
   "outputs": [
    {
     "name": "stdout",
     "output_type": "stream",
     "text": [
      "[22.563]\n",
      "[48.33926025]\n"
     ]
    }
   ],
   "source": [
    "print(cut1['F606W']+21.66)\n",
    "print(10**cut1['Log10dN'])"
   ]
  },
  {
   "cell_type": "code",
   "execution_count": 72,
   "metadata": {},
   "outputs": [
    {
     "data": {
      "text/plain": [
       "0.12414649286157667"
      ]
     },
     "execution_count": 72,
     "metadata": {},
     "output_type": "execute_result"
    }
   ],
   "source": [
    "6/48.33"
   ]
  },
  {
   "cell_type": "code",
   "execution_count": 73,
   "metadata": {},
   "outputs": [],
   "source": [
    "cat = np.genfromtxt('/Volumes/Samsung_T5/photRun0520/drcPhot29Apr/catDir_PEGASUS-III/PEGASUS-III_fullCat.dat',\n",
    "                    names=True)"
   ]
  },
  {
   "cell_type": "code",
   "execution_count": 74,
   "metadata": {},
   "outputs": [
    {
     "name": "stdout",
     "output_type": "stream",
     "text": [
      "18.948212444403502 28.41742738562322\n"
     ]
    }
   ],
   "source": [
    "print(min(cat['magr_f606w']),max(cat['magr_f606w']))"
   ]
  },
  {
   "cell_type": "code",
   "execution_count": 75,
   "metadata": {},
   "outputs": [
    {
     "data": {
      "text/plain": [
       "95.99999999999997"
      ]
     },
     "execution_count": 75,
     "metadata": {},
     "output_type": "execute_result"
    }
   ],
   "source": [
    "(28.4-18.8)/0.1"
   ]
  },
  {
   "cell_type": "code",
   "execution_count": 76,
   "metadata": {},
   "outputs": [],
   "source": [
    "test = np.linspace(18.9,28.5,97) # setting up bins in 0.1 steps"
   ]
  },
  {
   "cell_type": "code",
   "execution_count": 77,
   "metadata": {},
   "outputs": [],
   "source": [
    "trial = np.digitize(file['F606W']+21.66,bins=test) # sorting the LF rows into the bins based on their magnitudes\n",
    "# everything beyond the last bin, 28.5 here, is in bin 97"
   ]
  },
  {
   "cell_type": "code",
   "execution_count": 78,
   "metadata": {},
   "outputs": [],
   "source": [
    "# x = np.array([17,18.853,18.953,19.053,19.15])\n",
    "# bins = np.array([18.9,19,19.1,19.2])\n",
    "# inds = np.digitize(x, bins)\n",
    "# print(inds)\n",
    "# for n in range(x.size):\n",
    "#     print(bins[inds[n]-1], \"<=\", x[n], \"<\", bins[inds[n]])"
   ]
  },
  {
   "cell_type": "code",
   "execution_count": 79,
   "metadata": {},
   "outputs": [
    {
     "data": {
      "text/plain": [
       "97"
      ]
     },
     "execution_count": 79,
     "metadata": {},
     "output_type": "execute_result"
    }
   ],
   "source": [
    "len(test)"
   ]
  },
  {
   "cell_type": "code",
   "execution_count": 80,
   "metadata": {},
   "outputs": [
    {
     "data": {
      "text/plain": [
       "array([18.863, 18.963, 19.063, 19.163, 19.263])"
      ]
     },
     "execution_count": 80,
     "metadata": {},
     "output_type": "execute_result"
    }
   ],
   "source": [
    "file['F606W'][:5] + 21.66"
   ]
  },
  {
   "cell_type": "code",
   "execution_count": 81,
   "metadata": {},
   "outputs": [
    {
     "data": {
      "text/plain": [
       "21.747"
      ]
     },
     "execution_count": 81,
     "metadata": {},
     "output_type": "execute_result"
    }
   ],
   "source": [
    "18.95 - file['F606W'][0]"
   ]
  },
  {
   "cell_type": "code",
   "execution_count": 82,
   "metadata": {},
   "outputs": [
    {
     "data": {
      "text/plain": [
       "18.953"
      ]
     },
     "execution_count": 82,
     "metadata": {},
     "output_type": "execute_result"
    }
   ],
   "source": [
    "file['F606W'][0]+21.75"
   ]
  },
  {
   "cell_type": "code",
   "execution_count": 83,
   "metadata": {},
   "outputs": [],
   "source": [
    "bin_sum = [(10**file['Log10dN'][trial == i]).sum() for i in range(0, len(test))]\n",
    "# adding up the number of stars for the binned magnitudes"
   ]
  },
  {
   "cell_type": "code",
   "execution_count": 84,
   "metadata": {},
   "outputs": [],
   "source": [
    "scale = np.array(bin_sum)*0.048 # scaling by the normalization for 100% at 23"
   ]
  },
  {
   "cell_type": "code",
   "execution_count": 85,
   "metadata": {},
   "outputs": [
    {
     "data": {
      "text/plain": [
       "0.012824523490166141"
      ]
     },
     "execution_count": 85,
     "metadata": {},
     "output_type": "execute_result"
    }
   ],
   "source": [
    "scale[0]"
   ]
  },
  {
   "cell_type": "code",
   "execution_count": 86,
   "metadata": {},
   "outputs": [
    {
     "data": {
      "image/png": "[encoded data removed]",
      "text/plain": [
       "<Figure size 432x288 with 1 Axes>"
      ]
     },
     "metadata": {
      "needs_background": "light"
     },
     "output_type": "display_data"
    }
   ],
   "source": [
    "fig,ax = plt.subplots()\n",
    "test2 = ax.hist(cat['magr_f606w'],bins=np.hstack((test,test[-1]+0.1))) # binning the actual data\n",
    "# bins term is to make the last bin go from 28.5 to 28.6"
   ]
  },
  {
   "cell_type": "code",
   "execution_count": 87,
   "metadata": {},
   "outputs": [],
   "source": [
    "# err_arr = np.zeros(len(file))\n",
    "# for ii in range(len(file)):\n",
    "#     s = np.random.randint(-100,101,1000)\n",
    "#     vals = 10**file['Log10dN'][ii] + (np.sqrt(10**file['Log10dN'][ii]) * s/100)\n",
    "#     err_arr[ii] = np.std(vals)"
   ]
  },
  {
   "cell_type": "code",
   "execution_count": 88,
   "metadata": {},
   "outputs": [],
   "source": [
    "# count, bins, ignored = plt.hist(err_arr, 30, density=True)"
   ]
  },
  {
   "cell_type": "code",
   "execution_count": 89,
   "metadata": {},
   "outputs": [],
   "source": [
    "# count, bins, ignored = plt.hist(s, 30, density=True)"
   ]
  },
  {
   "cell_type": "code",
   "execution_count": 90,
   "metadata": {},
   "outputs": [],
   "source": [
    "sub = scale-test2[0]"
   ]
  },
  {
   "cell_type": "code",
   "execution_count": 91,
   "metadata": {},
   "outputs": [],
   "source": [
    "center = (test[:-1] + test[1:]) / 2"
   ]
  },
  {
   "cell_type": "code",
   "execution_count": 92,
   "metadata": {},
   "outputs": [
    {
     "data": {
      "text/plain": [
       "96"
      ]
     },
     "execution_count": 92,
     "metadata": {},
     "output_type": "execute_result"
    }
   ],
   "source": [
    "len(center)"
   ]
  },
  {
   "cell_type": "code",
   "execution_count": 93,
   "metadata": {},
   "outputs": [
    {
     "data": {
      "text/plain": [
       "18.963"
      ]
     },
     "execution_count": 93,
     "metadata": {},
     "output_type": "execute_result"
    }
   ],
   "source": [
    "file['F606W'][1]+21.66 # 18.863 should be plotted at 18.95? plot it at the center"
   ]
  },
  {
   "cell_type": "code",
   "execution_count": 94,
   "metadata": {},
   "outputs": [],
   "source": [
    "center2 = np.hstack((center,center[-1]+0.1))"
   ]
  },
  {
   "cell_type": "code",
   "execution_count": 95,
   "metadata": {},
   "outputs": [
    {
     "data": {
      "image/png": "[encoded data removed]",
      "text/plain": [
       "<Figure size 432x288 with 1 Axes>"
      ]
     },
     "metadata": {
      "needs_background": "light"
     },
     "output_type": "display_data"
    }
   ],
   "source": [
    "fig,ax = plt.subplots()\n",
    "\n",
    "# ax.hist2d(file['F606W']+21.66,10**file['Log10dN']*2/73,bins=test)\n",
    "ax.hist(cat['magr_f606w'],bins=test,label='HistData')\n",
    "ax.plot(center,sub[1:],label='Diff') # test is the right side of the bins, sub is the number difference at each bin\n",
    "ax.scatter(file['F606W']+21.66-0.013,(10**file['Log10dN'])*0.048,label='LF',s=15) # Scaled LF\n",
    "ax.scatter(center,scale[1:],s=5,label='Binned LF')\n",
    "\n",
    "ax.set_xlim(18.9,28.5)\n",
    "# ax.set_xlim(18.8,19.5)\n",
    "ax.set_xlabel('mF606W')\n",
    "ax.set_ylabel('N')\n",
    "\n",
    "ax.legend()\n",
    "\n",
    "plt.show()"
   ]
  },
  {
   "cell_type": "code",
   "execution_count": 96,
   "metadata": {},
   "outputs": [
    {
     "data": {
      "image/png": "[encoded data removed]",
      "text/plain": [
       "<Figure size 432x288 with 1 Axes>"
      ]
     },
     "metadata": {
      "needs_background": "light"
     },
     "output_type": "display_data"
    }
   ],
   "source": [
    "fig,ax = plt.subplots()\n",
    "\n",
    "# ax.hist2d(file['F606W']+21.66,10**file['Log10dN']*2/73,bins=test)\n",
    "hist_out = ax.hist(cat['magr_f606w'],bins=test,label='HistData')\n",
    "# ax.plot(center,sub[1:],label='Diff') # test is the right side of the bins, sub is the number difference at each bin\n",
    "ax.plot(file['F606W']+21.66-0.013,(10**file['Log10dN'])*0.048,label='LF')\n",
    "# ax.plot(file['F606W']+21.66-0.013,(10**file['Log10dN'])*2/73,label='LF')# Scaled LF\n",
    "# ax.scatter(center,scale[1:],s=5,label='Binned LF')\n",
    "\n",
    "ax.set_xlim(22,24)\n",
    "# ax.set_xlim(18.8,19.5)\n",
    "ax.set_xlabel('mF606W')\n",
    "ax.set_ylabel('N')\n",
    "\n",
    "ax.legend()\n",
    "\n",
    "plt.show()"
   ]
  },
  {
   "cell_type": "code",
   "execution_count": 97,
   "metadata": {},
   "outputs": [
    {
     "data": {
      "text/plain": [
       "array([ 1.,  0.,  0.,  0.,  0.,  1.,  1.,  0.,  0.,  0.,  0.,  0.,  0.,\n",
       "        0.,  1.,  0.,  0.,  1.,  2.,  0.,  0.,  1.,  1.,  1.,  1.,  2.,\n",
       "        1.,  1.,  1.,  1.,  0.,  3.,  2.,  5.,  0.,  2.,  6.,  3.,  1.,\n",
       "        1.,  1.,  2.,  5.,  2.,  3.,  3.,  7.,  2.,  5.,  2.,  5.,  5.,\n",
       "        9.,  3.,  4.,  7.,  7.,  4., 13., 13.,  8., 13., 12., 20., 13.,\n",
       "       24., 26., 30., 28., 38., 26., 32., 37., 30., 45., 42., 38., 42.,\n",
       "       31., 45., 46., 35., 35., 55., 37., 35., 21., 12., 16.,  5., 10.,\n",
       "        4.,  0.,  2.,  0.,  1.])"
      ]
     },
     "execution_count": 97,
     "metadata": {},
     "output_type": "execute_result"
    }
   ],
   "source": [
    "hist_out[0]"
   ]
  },
  {
   "cell_type": "code",
   "execution_count": 98,
   "metadata": {},
   "outputs": [],
   "source": [
    "idx = np.logical_and(cat['magr_f606w']<=22.6,cat['magr_f606w']>=22.5)"
   ]
  },
  {
   "cell_type": "code",
   "execution_count": 99,
   "metadata": {},
   "outputs": [
    {
     "name": "stdout",
     "output_type": "stream",
     "text": [
      "6\n"
     ]
    }
   ],
   "source": [
    "cut = cat[idx]\n",
    "print(len(cut))"
   ]
  },
  {
   "cell_type": "code",
   "execution_count": 100,
   "metadata": {},
   "outputs": [
    {
     "data": {
      "text/plain": [
       "20.0"
      ]
     },
     "execution_count": 100,
     "metadata": {},
     "output_type": "execute_result"
    }
   ],
   "source": [
    "(24-22)/0.1"
   ]
  },
  {
   "cell_type": "code",
   "execution_count": 101,
   "metadata": {},
   "outputs": [
    {
     "data": {
      "text/plain": [
       "10.000000000000002"
      ]
     },
     "execution_count": 101,
     "metadata": {},
     "output_type": "execute_result"
    }
   ],
   "source": [
    "(0.05-0.04)/0.001"
   ]
  },
  {
   "cell_type": "code",
   "execution_count": 102,
   "metadata": {},
   "outputs": [],
   "source": [
    "def diff_func(lf_mag,lf_num,dat,norm,dm=21.66):\n",
    "    \n",
    "#     fig,ax = plt.subplots()\n",
    "    \n",
    "    bins = np.linspace(22,24,21)\n",
    "    \n",
    "    idxes = np.digitize(lf_mag+dm,bins=bins)\n",
    "    bin_sum = [(10**lf_num[idxes == i]).sum() for i in range(0, len(bins))]\n",
    "    \n",
    "    scaled = np.array(bin_sum)*norm\n",
    "    \n",
    "    dat_binned = ax.hist(dat,bins=np.hstack((bins,bins[-1]+0.1)))\n",
    "    \n",
    "    chi_sq = (scaled[1:]-dat_binned[0][1:])**2/scaled[1:]\n",
    "#     chi_sq = (scaled[1:]-dat_binned[0][1:])**2/np.sqrt(dat_binned[0][1:])**2\n",
    "#     plt.close()\n",
    "    \n",
    "    return chi_sq.sum()\n",
    "    "
   ]
  },
  {
   "cell_type": "code",
   "execution_count": 103,
   "metadata": {},
   "outputs": [],
   "source": [
    "norm_arr = np.linspace(0.04,0.05,11)"
   ]
  },
  {
   "cell_type": "code",
   "execution_count": 104,
   "metadata": {
    "scrolled": false
   },
   "outputs": [],
   "source": [
    "# chi_arr = np.zeros((len(norm_arr)))\n",
    "# for nn, val in enumerate(norm_arr):\n",
    "#     chi_arr[nn] = diff_func(file['F606W'],file['Log10dN'],cat['magr_f606w'],val,dm=21.66)"
   ]
  },
  {
   "cell_type": "code",
   "execution_count": 105,
   "metadata": {},
   "outputs": [],
   "source": [
    "# np.argsort(chi_arr)"
   ]
  },
  {
   "cell_type": "code",
   "execution_count": 106,
   "metadata": {},
   "outputs": [],
   "source": [
    "# chi_arr[np.argsort(chi_arr)]"
   ]
  },
  {
   "cell_type": "code",
   "execution_count": 107,
   "metadata": {},
   "outputs": [
    {
     "data": {
      "text/plain": [
       "(0.048, 0.047)"
      ]
     },
     "execution_count": 107,
     "metadata": {},
     "output_type": "execute_result"
    }
   ],
   "source": [
    "(norm_arr[8],norm_arr[7])"
   ]
  },
  {
   "cell_type": "code",
   "execution_count": 108,
   "metadata": {},
   "outputs": [],
   "source": [
    "# chi_arr[4]"
   ]
  },
  {
   "cell_type": "code",
   "execution_count": 109,
   "metadata": {},
   "outputs": [],
   "source": [
    "# 10**file['log10dN']*file['F606W'] # number of stars in a bin, magnitude of that bin?"
   ]
  },
  {
   "cell_type": "code",
   "execution_count": 110,
   "metadata": {},
   "outputs": [
    {
     "name": "stdout",
     "output_type": "stream",
     "text": [
      "-2.797 12.303\n"
     ]
    }
   ],
   "source": [
    "print(min(file['F606W']),max(file['F606W']))"
   ]
  },
  {
   "cell_type": "code",
   "execution_count": 111,
   "metadata": {},
   "outputs": [
    {
     "data": {
      "text/plain": [
       "151.0"
      ]
     },
     "execution_count": 111,
     "metadata": {},
     "output_type": "execute_result"
    }
   ],
   "source": [
    "(12.4+2.7)/0.1"
   ]
  },
  {
   "cell_type": "code",
   "execution_count": 112,
   "metadata": {},
   "outputs": [],
   "source": [
    "test_arr = np.linspace(-2.8,12.4,153)"
   ]
  },
  {
   "cell_type": "code",
   "execution_count": 113,
   "metadata": {},
   "outputs": [
    {
     "data": {
      "text/plain": [
       "array([-2.8, -2.7, -2.6, -2.5, -2.4])"
      ]
     },
     "execution_count": 113,
     "metadata": {},
     "output_type": "execute_result"
    }
   ],
   "source": [
    "test_arr[:5]"
   ]
  },
  {
   "cell_type": "code",
   "execution_count": 114,
   "metadata": {},
   "outputs": [
    {
     "name": "stdout",
     "output_type": "stream",
     "text": [
      "153\n",
      "152\n"
     ]
    }
   ],
   "source": [
    "print(len(test_arr))\n",
    "print(len(file['F606W']))"
   ]
  },
  {
   "cell_type": "code",
   "execution_count": 115,
   "metadata": {},
   "outputs": [
    {
     "name": "stdout",
     "output_type": "stream",
     "text": [
      "-2.797\n",
      "-2.8\n"
     ]
    }
   ],
   "source": [
    "print(file['F606W'][0])\n",
    "print(test_arr[0])"
   ]
  },
  {
   "cell_type": "code",
   "execution_count": 116,
   "metadata": {},
   "outputs": [
    {
     "data": {
      "text/plain": [
       "13.182567385564068"
      ]
     },
     "execution_count": 116,
     "metadata": {},
     "output_type": "execute_result"
    }
   ],
   "source": [
    "10**(-0.4*-2.8)"
   ]
  },
  {
   "cell_type": "code",
   "execution_count": 117,
   "metadata": {},
   "outputs": [],
   "source": [
    "def sum_mag(logdN,mag,bins,scale):\n",
    "\n",
    "    temp =  10**(-0.4*mag) * scale * (10**logdN) \n",
    "    empt = np.zeros((len(temp)))\n",
    "    for tt in range(len(temp)):\n",
    "        df = abs(10**(-0.4 * (bins[tt+1])) - 10**(-0.4 * (bins[tt])))\n",
    "        empt[tt] = temp[tt]*df\n",
    "    # calculate bin width (which changes) in flux from magnitude\n",
    "    # flux of a given star * scale * number of stars at that magnitude point\n",
    "    \n",
    "    val = -2.5 * np.log10(empt.sum())\n",
    "    \n",
    "    return val\n",
    "        "
   ]
  },
  {
   "cell_type": "code",
   "execution_count": 121,
   "metadata": {},
   "outputs": [],
   "source": [
    "def err_mag(logdN,mag,bins,scale,num=100):\n",
    "\n",
    "    new_mags = np.zeros(num)\n",
    "    new_logs = np.zeros(len(logdN))\n",
    "    \n",
    "    for jj in range(len(new_mags)):\n",
    "        s = np.random.randint(-100,101,len(logdN))\n",
    "        for ii in range(len(logdN)):\n",
    "            temp_val = 10**file['Log10dN'][ii] + (np.sqrt(10**file['Log10dN'][ii]) * s[ii]/100)\n",
    "            if temp_val < 0:\n",
    "                loop = True\n",
    "                while loop:\n",
    "                    ss = np.random.randint(-100,101,1)\n",
    "                    temp_val = 10**file['Log10dN'][ii] + (np.sqrt(10**file['Log10dN'][ii]) * ss/100)\n",
    "                    if temp_val >= 0:\n",
    "                        loop = False\n",
    "            new_logs[ii] = np.log10(temp_val)\n",
    "            \n",
    "        new_mags[jj] = sum_mag(new_logs,mag,bins,scale)\n",
    "    print(new_mags)   \n",
    "    val = np.std(new_mags)\n",
    "    \n",
    "    return val"
   ]
  },
  {
   "cell_type": "code",
   "execution_count": 119,
   "metadata": {},
   "outputs": [
    {
     "name": "stdout",
     "output_type": "stream",
     "text": [
      "-3.3120355359331484\n"
     ]
    }
   ],
   "source": [
    "mag1 = sum_mag(file['Log10dN'],file['F606W'],bins=test_arr,scale=0.048)\n",
    "print(mag1) # ~ -3.4"
   ]
  },
  {
   "cell_type": "code",
   "execution_count": 122,
   "metadata": {},
   "outputs": [
    {
     "name": "stdout",
     "output_type": "stream",
     "text": [
      "[-3.25053786 -3.41146208 -3.18411886 -3.32036116 -3.37685134 -3.29364547\n",
      " -3.30072726 -3.43806738 -3.38444482 -3.34053949 -3.36322141 -3.29886246\n",
      " -3.36058788 -3.40811034 -3.30508759 -3.3088721  -3.36599242 -3.37005008\n",
      " -3.26696119 -3.2925744  -3.34839028 -3.32125473 -3.2509926  -3.32130517\n",
      " -3.2165202  -3.13583693 -3.37951907 -3.42210393 -3.29001875 -3.29836555\n",
      " -3.36792708 -3.41255031 -3.28118199 -3.19809914 -3.25134921 -3.29915651\n",
      " -3.39047898 -3.32578577 -3.36772896 -3.22716186 -3.40947368 -3.40573886\n",
      " -3.23497869 -3.33191971 -3.33810291 -3.3670974  -3.25233356 -3.24257491\n",
      " -3.3898047  -3.27360469 -3.45848135 -3.34855511 -3.36965727 -3.20881114\n",
      " -3.26199156 -3.20747468 -3.34731319 -3.26420593 -3.08486311 -3.33895319\n",
      " -3.29725097 -3.27662795 -3.4200849  -3.30765768 -3.20759466 -3.36972643\n",
      " -3.34453902 -3.30955706 -3.36577336 -3.27939526 -3.26261915 -3.32815394\n",
      " -3.27804994 -3.24385959 -3.28262661 -3.39253574 -3.17294339 -3.36154198\n",
      " -3.32598915 -3.36596258 -3.29260097 -3.21802916 -3.36941616 -3.32651464\n",
      " -3.30181146 -3.22650102 -3.30647379 -3.31596296 -3.311791   -3.32993062\n",
      " -3.28615901 -3.28985346 -3.37703713 -3.4961016  -3.36843931 -3.27104048\n",
      " -3.2391958  -3.26621676 -3.30101288 -3.37684399]\n",
      "0.06998814820874445\n"
     ]
    }
   ],
   "source": [
    "err1 = err_mag(file['Log10dN'],file['F606W'],bins=test_arr,scale=0.048,num=100)\n",
    "print(err1)"
   ]
  },
  {
   "cell_type": "code",
   "execution_count": 62,
   "metadata": {},
   "outputs": [],
   "source": [
    "def mag2lum(mag):\n",
    "    \n",
    "    L0 = 3.0128e28\n",
    "    Lsun = 3.828e26\n",
    "\n",
    "    num = L0 * 10**(-0.4 * mag)\n",
    "    \n",
    "    return num/Lsun"
   ]
  },
  {
   "cell_type": "code",
   "execution_count": 63,
   "metadata": {},
   "outputs": [
    {
     "name": "stdout",
     "output_type": "stream",
     "text": [
      "1662.6949890858064\n"
     ]
    }
   ],
   "source": [
    "lum1 = mag2lum(mag1)\n",
    "print(lum1)"
   ]
  },
  {
   "cell_type": "code",
   "execution_count": 64,
   "metadata": {},
   "outputs": [
    {
     "data": {
      "text/plain": [
       "2333.5608908843387"
      ]
     },
     "execution_count": 64,
     "metadata": {},
     "output_type": "execute_result"
    }
   ],
   "source": [
    "3.88e6/lum1"
   ]
  }
 ],
 "metadata": {
  "kernelspec": {
   "display_name": "Python 3",
   "language": "python",
   "name": "python3"
  },
  "language_info": {
   "codemirror_mode": {
    "name": "ipython",
    "version": 3
   },
   "file_extension": ".py",
   "mimetype": "text/x-python",
   "name": "python",
   "nbconvert_exporter": "python",
   "pygments_lexer": "ipython3",
   "version": "3.7.6"
  }
 },
 "nbformat": 4,
 "nbformat_minor": 4
}
