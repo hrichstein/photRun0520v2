{
 "cells": [
  {
   "cell_type": "code",
   "execution_count": 3,
   "metadata": {},
   "outputs": [],
   "source": [
    "import numpy as np"
   ]
  },
  {
   "cell_type": "code",
   "execution_count": 4,
   "metadata": {},
   "outputs": [],
   "source": [
    "G = 6.6725985e-8\n",
    "mSun = 1.99e33 # g"
   ]
  },
  {
   "cell_type": "code",
   "execution_count": 20,
   "metadata": {},
   "outputs": [],
   "source": [
    "# dm = 21.66 # +/- 0.12\n",
    "dist = 215 # +/- 12 kpc; Peg3\n",
    "r_h = 2.29\n",
    "# r_h = 0.85"
   ]
  },
  {
   "cell_type": "code",
   "execution_count": 6,
   "metadata": {},
   "outputs": [],
   "source": [
    "vel_dispK = 5.4 # km/s +3.1/-2.4 for Peg III; 5.4 +3.6/-2.4 Kirby 2015\n",
    "vel_dispC = vel_dispK * 1e5 # cm/s"
   ]
  },
  {
   "cell_type": "code",
   "execution_count": 7,
   "metadata": {},
   "outputs": [],
   "source": [
    "def size(r_h,dist):\n",
    "    \n",
    "    r_hAS = r_h * 60 # go from arcmin to arcsec\n",
    "    distKM = dist * 3.086e16 # go from kpc to km\n",
    "    \n",
    "    D = r_hAS * distKM / 206265 # in km\n",
    "    \n",
    "    return D\n",
    "    "
   ]
  },
  {
   "cell_type": "code",
   "execution_count": 8,
   "metadata": {},
   "outputs": [],
   "source": [
    "def mass_func(vel_disp,r_h,dist):\n",
    "    \n",
    "    D = size(r_h,dist)\n",
    "    \n",
    "    M = 4/G * vel_disp**2 * D * 1e5 / mSun\n",
    "    \n",
    "    return M"
   ]
  },
  {
   "cell_type": "code",
   "execution_count": 21,
   "metadata": {},
   "outputs": [
    {
     "name": "stdout",
     "output_type": "stream",
     "text": [
      "3.8823529423982572\n",
      "6.589095014300268\n"
     ]
    }
   ],
   "source": [
    "M = mass_func(vel_dispC,r_h,dist)\n",
    "print(M/1e6)\n",
    "print(np.log10(M))"
   ]
  },
  {
   "cell_type": "code",
   "execution_count": 11,
   "metadata": {},
   "outputs": [],
   "source": [
    "dist2 = 183 # +/- 15 kpc; Psc2\n",
    "r_h2 = 1.21"
   ]
  },
  {
   "cell_type": "code",
   "execution_count": 12,
   "metadata": {},
   "outputs": [
    {
     "name": "stdout",
     "output_type": "stream",
     "text": [
      "1.7460534417289448\n"
     ]
    }
   ],
   "source": [
    "M2 = mass_func(vel_dispC,r_h2,dist2)\n",
    "print(M2/1e6)"
   ]
  },
  {
   "cell_type": "code",
   "execution_count": 14,
   "metadata": {},
   "outputs": [
    {
     "data": {
      "text/plain": [
       "6.242057532091654"
      ]
     },
     "execution_count": 14,
     "metadata": {},
     "output_type": "execute_result"
    }
   ],
   "source": [
    "np.log10(M2)"
   ]
  }
 ],
 "metadata": {
  "kernelspec": {
   "display_name": "Python 3",
   "language": "python",
   "name": "python3"
  },
  "language_info": {
   "codemirror_mode": {
    "name": "ipython",
    "version": 3
   },
   "file_extension": ".py",
   "mimetype": "text/x-python",
   "name": "python",
   "nbconvert_exporter": "python",
   "pygments_lexer": "ipython3",
   "version": "3.7.6"
  }
 },
 "nbformat": 4,
 "nbformat_minor": 4
}
