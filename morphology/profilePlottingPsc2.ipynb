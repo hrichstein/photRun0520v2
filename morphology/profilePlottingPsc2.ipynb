{
 "cells": [
  {
   "cell_type": "code",
   "execution_count": 1,
   "metadata": {},
   "outputs": [],
   "source": [
    "import numpy as np\n",
    "import matplotlib.pyplot as plt\n",
    "# from matplotlib.path import Path\n",
    "# from matplotlib.patches import PathPatch\n",
    "# from astropy import wcs\n",
    "from astropy.io import fits\n",
    "# from matplotlib.mlab import rec2csv\n",
    "\n",
    "# import emcee\n",
    "# import corner\n",
    "\n",
    "# from astropy.io import ascii\n",
    "import _pickle as cPickle"
   ]
  },
  {
   "cell_type": "code",
   "execution_count": 2,
   "metadata": {},
   "outputs": [],
   "source": [
    "import matplotlib as mpl"
   ]
  },
  {
   "cell_type": "code",
   "execution_count": 3,
   "metadata": {},
   "outputs": [],
   "source": [
    "def median_interval(data, alpha=0.32):\n",
    "    \"\"\"\n",
    "    Median including Bayesian credible interval.\n",
    "\n",
    "    Parameters\n",
    "    ----------\n",
    "    data  : posterior samples\n",
    "    alpha : 1 - confidence interval\n",
    "\n",
    "    Returns\n",
    "    -------\n",
    "    [med,[lo, hi]] : median, lower, and upper percentiles\n",
    "    \n",
    "    \"\"\"\n",
    "    q = [100*alpha/2., 50, 100*(1-alpha/2.)]\n",
    "    lo,med,hi = np.percentile(data,q)\n",
    "    return [med,[lo,hi]]"
   ]
  },
  {
   "cell_type": "code",
   "execution_count": 4,
   "metadata": {},
   "outputs": [],
   "source": [
    "psc2e = cPickle.load( open( \"psc2mcmc2d_exp.p\", \"rb\" ) )\n",
    "psc2p = cPickle.load( open( \"psc2mcmc2d_plum.p\", \"rb\" ) )\n",
    "\n",
    "# peg3e = cPickle.load( open( \"peg3mcmc3d_exp14.p\", \"rb\" ) )\n",
    "# peg3p = cPickle.load( open( \"peg3mcmc3d_plum4.p\", \"rb\" ) )"
   ]
  },
  {
   "cell_type": "code",
   "execution_count": 5,
   "metadata": {},
   "outputs": [],
   "source": [
    "psc2cat = np.genfromtxt('psc2xyGood.dat',names=True)\n",
    "# peg3cat = np.genfromtxt('peg3xyGood.dat',names=True)"
   ]
  },
  {
   "cell_type": "code",
   "execution_count": 6,
   "metadata": {},
   "outputs": [],
   "source": [
    "psc2x = psc2cat['xgood']\n",
    "psc2y = psc2cat['ygood']\n",
    "\n",
    "# peg3x = peg3cat['xgood']\n",
    "# peg3y = peg3cat['ygood']"
   ]
  },
  {
   "cell_type": "code",
   "execution_count": 7,
   "metadata": {},
   "outputs": [],
   "source": [
    "rich_p2e,[rich_min_p2e,rich_max_p2e] = median_interval(psc2e[:,0])\n",
    "x_p2e,[xmin_p2e,xmax_p2e] = median_interval(psc2e[:,1])\n",
    "y_p2e,[ymin_p2e,ymax_p2e] = median_interval(psc2e[:,2])\n",
    "psc2e_ext_fit,[psc2e_ext_min,psc2e_ext_max] = median_interval(psc2e[:,3])\n",
    "psc2e_ell_fit,[psc2e_ell_min,psc2e_ell_max] = median_interval(psc2e[:,4])\n",
    "psc2e_pa_fit,[psc2e_pa_min,psc2e_pa_max] = median_interval(psc2e[:,5])\n",
    "psc2e_bg_fit,[psc2e_bg_min,psc2e_bg_max] = median_interval(psc2e[:,6])\n"
   ]
  },
  {
   "cell_type": "code",
   "execution_count": 8,
   "metadata": {},
   "outputs": [],
   "source": [
    "rich_p2p,[rich_min_p2p,rich_max_p2p] = median_interval(psc2p[:,0])\n",
    "x_p2p,[xmin_p2p,xmax_p2p] = median_interval(psc2p[:,1])\n",
    "y_p2p,[ymin_p2p,ymax_p2p] = median_interval(psc2p[:,2])\n",
    "psc2p_ext_fit,[psc2p_ext_min,psc2p_ext_max] = median_interval(psc2p[:,3])\n",
    "psc2p_ell_fit,[psc2p_ell_min,psc2p_ell_max] = median_interval(psc2p[:,4])\n",
    "psc2p_pa_fit,[psc2p_pa_min,psc2p_pa_max] = median_interval(psc2p[:,5])\n",
    "psc2p_bg_fit,[psc2p_bg_min,psc2p_bg_max] = median_interval(psc2p[:,6])"
   ]
  },
  {
   "cell_type": "code",
   "execution_count": 9,
   "metadata": {},
   "outputs": [],
   "source": [
    "# rich_p3e,[rich_min_p3e,rich_max_p3e] = median_interval(peg3e[:,0])\n",
    "# x_p3e,[xmin_p3e,xmax_p3e] = median_interval(peg3e[:,1])\n",
    "# y_p3e,[ymin_p3e,ymax_p3e] = median_interval(peg3e[:,2])\n",
    "# peg3e_ext_fit,[peg3e_ext_min,peg3e_ext_max] = median_interval(peg3e[:,3])\n",
    "# peg3e_ell_fit,[peg3e_ell_min,peg3e_ell_max] = median_interval(peg3e[:,4])\n",
    "# peg3e_pa_fit,[peg3e_pa_min,peg3e_pa_max] = median_interval(peg3e[:,5])\n",
    "# peg3e_bg_fit,[peg3e_bg_min,peg3e_bg_max] = median_interval(peg3e[:,6])"
   ]
  },
  {
   "cell_type": "code",
   "execution_count": 10,
   "metadata": {},
   "outputs": [],
   "source": [
    "# rich_p3p,[rich_min_p3p,rich_max_p3p] = median_interval(peg3p[:,0])\n",
    "# x_p3p,[xmin_p3p,xmax_p3p] = median_interval(peg3p[:,1])\n",
    "# y_p3p,[ymin_p3p,ymax_p3p] = median_interval(peg3p[:,2])\n",
    "# peg3p_ext_fit,[peg3p_ext_min,peg3p_ext_max] = median_interval(peg3p[:,3])\n",
    "# peg3p_ell_fit,[peg3p_ell_min,peg3p_ell_max] = median_interval(peg3p[:,4])\n",
    "# peg3p_pa_fit,[peg3p_pa_min,peg3p_pa_max] = median_interval(peg3p[:,5])\n",
    "# peg3p_bg_fit,[peg3p_bg_min,peg3p_bg_max] = median_interval(peg3p[:,6])"
   ]
  },
  {
   "cell_type": "code",
   "execution_count": 11,
   "metadata": {},
   "outputs": [],
   "source": [
    "def returnPDFp(rich,x0,y0,gal_ext_pix,gal_ell,gal_pa,xbin,ybin):\n",
    "    \n",
    "    costh = np.cos(-1 * np.deg2rad(gal_pa))\n",
    "    sinth = np.sin(-1 * np.deg2rad(gal_pa))\n",
    "\n",
    "    dx = xbin - x0\n",
    "    dy = ybin - y0\n",
    "\n",
    "    r1 = (dx * costh - dy * sinth) / (1 - gal_ell)\n",
    "    r2 = (dx * sinth + dy * costh)\n",
    "\n",
    "    radius = np.sqrt(r1**2 + r2**2)\n",
    "    \n",
    "    r_h = gal_ext_pix\n",
    "    norm = r_h**2 / (np.pi * (1-gal_ell))\n",
    "    # half light radius squared / (pi * 1-ell)\n",
    "    pdf = norm/((radius**2 + r_h**2)**2)\n",
    "    \n",
    "    arr = np.array([0,0.1,0.2,0.3,0.4,0.5,0.6,0.7,0.8,0.9,\n",
    "                   1.,1.1,1.2,1.3,1.4,1.5])\n",
    "    r_annuli = (arr + 0.05) * r_h\n",
    "\n",
    "    # .05r_h, .15r_h\n",
    "    area_annuli = np.pi * ( (r_annuli + (0.05*r_h))**2 - (r_annuli - (0.05*r_h))**2) * (1-gal_ell)\n",
    "    \n",
    "    pix_per_arcsec=20\n",
    "    area_arcmin = area_annuli/(pix_per_arcsec*60)**2\n",
    "    \n",
    "#     aa = area_annuli # trying. to do everything in pixel space right now\n",
    "    aa = area_arcmin\n",
    "    \n",
    "    return pdf, radius, aa\n"
   ]
  },
  {
   "cell_type": "code",
   "execution_count": 12,
   "metadata": {},
   "outputs": [],
   "source": [
    "def returnPDFe(rich,x0,y0,gal_ext_pix,gal_ell,gal_pa,xbin,ybin):\n",
    "    \n",
    "    costh = np.cos(-1 * np.deg2rad(gal_pa))\n",
    "    sinth = np.sin(-1 * np.deg2rad(gal_pa))\n",
    "\n",
    "    dx = xbin - x0\n",
    "    dy = ybin - y0\n",
    "\n",
    "    r1 = (dx * costh - dy * sinth) / (1 - gal_ell)\n",
    "    r2 = (dx * sinth + dy * costh)\n",
    "\n",
    "    radius = np.sqrt(r1**2 + r2**2)\n",
    "    \n",
    "    # Exponential radius (re = rh/1.68)\n",
    "    r_h = gal_ext_pix\n",
    "    r_e = gal_ext_pix/1.68 \n",
    "    #Normalization (integrates to unity over all space) [stars/pix^2)\n",
    "    norm = 1./(2*np.pi*r_e**2 * (1-gal_ell) )\n",
    "\n",
    "    # Exponential PDF\n",
    "    pdf = norm * np.exp(-radius/r_e)\n",
    "    arr = np.array([0,0.1,0.2,0.3,0.4,0.5,0.6,0.7,0.8,0.9,\n",
    "                   1.,1.1,1.2,1.3,1.4,1.5])\n",
    "    r_annuli = (arr + 0.05) * r_h\n",
    "\n",
    "    # .05r_h, .15r_h\n",
    "    area_annuli = np.pi * ( (r_annuli + (0.05*r_h))**2 - (r_annuli - (0.05*r_h))**2) * (1-gal_ell)\n",
    "    \n",
    "    pix_per_arcsec=20\n",
    "    area_arcmin = area_annuli/(pix_per_arcsec*60)**2\n",
    "    \n",
    "#     aa = area_annuli # trying. to do everything in pixel space right now\n",
    "    aa = area_arcmin\n",
    "    \n",
    "    return pdf, radius, aa\n"
   ]
  },
  {
   "cell_type": "code",
   "execution_count": 13,
   "metadata": {},
   "outputs": [],
   "source": [
    "xdel = 30.\n",
    "ydel = 30.\n",
    "pixarea = xdel*ydel  # pixel area in each bin"
   ]
  },
  {
   "cell_type": "code",
   "execution_count": 14,
   "metadata": {},
   "outputs": [],
   "source": [
    "bk = (20**2) * (60**2) / 30**2"
   ]
  },
  {
   "cell_type": "code",
   "execution_count": 15,
   "metadata": {},
   "outputs": [],
   "source": [
    "xbin0 = np.ones((195,1))  # (fltarr(80)+1)\n",
    "xbin1 = np.ones((1,195))  \n",
    "xbin1[0] = np.arange(0,195,1)\n",
    "xbin2 = xbin1 * 30 + 0.5*(30)  # 67.5 pixels wide\n",
    "xbin_p2 = np.matmul(xbin0,xbin2)\n",
    "ybin_p2 = xbin_p2.T\n",
    "\n",
    "# creating x and y arrays to represent the bins across the image"
   ]
  },
  {
   "cell_type": "markdown",
   "metadata": {},
   "source": [
    "# Exponential Portion Psc2"
   ]
  },
  {
   "cell_type": "code",
   "execution_count": 16,
   "metadata": {},
   "outputs": [],
   "source": [
    "pdf_p2e, rad_p2e, aa_p2e = returnPDFe(rich_p2e,x_p2e,y_p2e,psc2e_ext_fit,\n",
    "                             psc2e_ell_fit,psc2e_pa_fit,xbin_p2,ybin_p2)"
   ]
  },
  {
   "cell_type": "code",
   "execution_count": 17,
   "metadata": {},
   "outputs": [],
   "source": [
    "model_counts_p2e = rich_p2e*pdf_p2e*pixarea"
   ]
  },
  {
   "cell_type": "code",
   "execution_count": 18,
   "metadata": {},
   "outputs": [],
   "source": [
    "rad_p2e=rad_p2e.flatten()\n",
    "r_h = psc2e_ext_fit\n",
    "r1_p2e = np.where(rad_p2e < (0.1 * r_h))[0]\n",
    "r2_p2e = np.where((rad_p2e < (0.2 * r_h)) & (rad_p2e >= (0.1 * r_h)))[0]\n",
    "r3_p2e = np.where((rad_p2e < (0.3 * r_h)) & (rad_p2e >= (0.2 * r_h)))[0]\n",
    "r4_p2e = np.where((rad_p2e < (0.4 * r_h)) & (rad_p2e >= (0.3 * r_h)))[0]\n",
    "r5_p2e = np.where((rad_p2e < (0.5 * r_h)) & (rad_p2e >= (0.4 * r_h)))[0]\n",
    "r6_p2e = np.where((rad_p2e < (0.6 * r_h)) & (rad_p2e >= (0.5 * r_h)))[0]\n",
    "r7_p2e = np.where((rad_p2e < (0.7 * r_h)) & (rad_p2e >= (0.6 * r_h)))[0]\n",
    "r8_p2e = np.where((rad_p2e < (0.8 * r_h)) & (rad_p2e >= (0.7 * r_h)))[0]\n",
    "r9_p2e = np.where((rad_p2e < (0.9 * r_h)) & (rad_p2e >= (0.8 * r_h)))[0]\n",
    "r10_p2e = np.where((rad_p2e < r_h) & (rad_p2e >= (0.9 * r_h)))[0]\n",
    "r11_p2e = np.where((rad_p2e < (1.1 * r_h)) & (rad_p2e >= (1.0 * r_h)))[0]\n",
    "r12_p2e = np.where((rad_p2e < (1.2 * r_h)) & (rad_p2e >= (1.1 * r_h)))[0]\n",
    "r13_p2e = np.where((rad_p2e < (1.3 * r_h)) & (rad_p2e >= (1.2 * r_h)))[0]\n",
    "r14_p2e = np.where((rad_p2e < (1.4 * r_h)) & (rad_p2e >= (1.3 * r_h)))[0]\n",
    "r15_p2e = np.where((rad_p2e < (1.5 * r_h)) & (rad_p2e >= (1.4 * r_h)))[0]\n",
    "\n",
    "\n",
    "\n",
    "\n"
   ]
  },
  {
   "cell_type": "code",
   "execution_count": 19,
   "metadata": {},
   "outputs": [],
   "source": [
    "model_counts_p2eF = model_counts_p2e.flatten()\n",
    "\n",
    "model_p2e = [model_counts_p2eF[r1_p2e].sum()/aa_p2e[0],\n",
    "            model_counts_p2eF[r2_p2e].sum()/aa_p2e[1],\n",
    "            model_counts_p2eF[r3_p2e].sum()/aa_p2e[2],\n",
    "            model_counts_p2eF[r4_p2e].sum()/aa_p2e[3],\n",
    "            model_counts_p2eF[r5_p2e].sum()/aa_p2e[4],\n",
    "            model_counts_p2eF[r6_p2e].sum()/aa_p2e[5],\n",
    "            model_counts_p2eF[r7_p2e].sum()/aa_p2e[6],\n",
    "            model_counts_p2eF[r8_p2e].sum()/aa_p2e[7],\n",
    "            model_counts_p2eF[r9_p2e].sum()/aa_p2e[8],\n",
    "            model_counts_p2eF[r10_p2e].sum()/aa_p2e[9],\n",
    "            model_counts_p2eF[r11_p2e].sum()/aa_p2e[10],\n",
    "            model_counts_p2eF[r12_p2e].sum()/aa_p2e[11],\n",
    "            model_counts_p2eF[r13_p2e].sum()/aa_p2e[12],\n",
    "            model_counts_p2eF[r14_p2e].sum()/aa_p2e[13],\n",
    "            model_counts_p2eF[r15_p2e].sum()/aa_p2e[14]]"
   ]
  },
  {
   "cell_type": "markdown",
   "metadata": {},
   "source": [
    "# Plummer Psc2"
   ]
  },
  {
   "cell_type": "code",
   "execution_count": 20,
   "metadata": {},
   "outputs": [],
   "source": [
    "pdf_p2p, rad_p2p, aa_p2p = returnPDFp(rich_p2p,x_p2p,y_p2p,psc2p_ext_fit,\n",
    "                             psc2p_ell_fit,psc2p_pa_fit,xbin_p2,ybin_p2)"
   ]
  },
  {
   "cell_type": "code",
   "execution_count": 21,
   "metadata": {},
   "outputs": [],
   "source": [
    "model_counts_p2p = rich_p2p*pdf_p2p*pixarea"
   ]
  },
  {
   "cell_type": "code",
   "execution_count": 22,
   "metadata": {},
   "outputs": [],
   "source": [
    "rad_p2p=rad_p2p.flatten()\n",
    "r_h = psc2p_ext_fit\n",
    "r1_p2p = np.where(rad_p2p < (0.1 * r_h))[0]\n",
    "r2_p2p = np.where((rad_p2p < (0.2 * r_h)) & (rad_p2p >= (0.1 * r_h)))[0]\n",
    "r3_p2p = np.where((rad_p2p < (0.3 * r_h)) & (rad_p2p >= (0.2 * r_h)))[0]\n",
    "r4_p2p = np.where((rad_p2p < (0.4 * r_h)) & (rad_p2p >= (0.3 * r_h)))[0]\n",
    "r5_p2p = np.where((rad_p2p < (0.5 * r_h)) & (rad_p2p >= (0.4 * r_h)))[0]\n",
    "r6_p2p = np.where((rad_p2p < (0.6 * r_h)) & (rad_p2p >= (0.5 * r_h)))[0]\n",
    "r7_p2p = np.where((rad_p2p < (0.7 * r_h)) & (rad_p2p >= (0.6 * r_h)))[0]\n",
    "r8_p2p = np.where((rad_p2p < (0.8 * r_h)) & (rad_p2p >= (0.7 * r_h)))[0]\n",
    "r9_p2p = np.where((rad_p2p < (0.9 * r_h)) & (rad_p2p >= (0.8 * r_h)))[0]\n",
    "r10_p2p = np.where((rad_p2p < r_h) & (rad_p2p >= (0.9 * r_h)))[0]\n",
    "r11_p2p = np.where((rad_p2p < (1.1 * r_h)) & (rad_p2p >= (1.0 * r_h)))[0]\n",
    "r12_p2p = np.where((rad_p2p < (1.2 * r_h)) & (rad_p2p >= (1.1 * r_h)))[0]\n",
    "r13_p2p = np.where((rad_p2p < (1.3 * r_h)) & (rad_p2p >= (1.2 * r_h)))[0]\n",
    "r14_p2p = np.where((rad_p2p < (1.4 * r_h)) & (rad_p2p >= (1.3 * r_h)))[0]\n",
    "r15_p2p = np.where((rad_p2p < (1.5 * r_h)) & (rad_p2p >= (1.4 * r_h)))[0]\n",
    "\n"
   ]
  },
  {
   "cell_type": "code",
   "execution_count": 23,
   "metadata": {},
   "outputs": [],
   "source": [
    "model_counts_p2pF = model_counts_p2p.flatten()\n",
    "\n",
    "model_p2p = [model_counts_p2pF[r1_p2p].sum()/aa_p2p[0],\n",
    "            model_counts_p2pF[r2_p2p].sum()/aa_p2p[1],\n",
    "            model_counts_p2pF[r3_p2p].sum()/aa_p2p[2],\n",
    "            model_counts_p2pF[r4_p2p].sum()/aa_p2p[3],\n",
    "            model_counts_p2pF[r5_p2p].sum()/aa_p2p[4],\n",
    "            model_counts_p2pF[r6_p2p].sum()/aa_p2p[5],\n",
    "            model_counts_p2pF[r7_p2p].sum()/aa_p2p[6],\n",
    "            model_counts_p2pF[r8_p2p].sum()/aa_p2p[7],\n",
    "            model_counts_p2pF[r9_p2p].sum()/aa_p2p[8],\n",
    "            model_counts_p2pF[r10_p2p].sum()/aa_p2p[9],\n",
    "            model_counts_p2pF[r11_p2p].sum()/aa_p2p[10],\n",
    "            model_counts_p2pF[r12_p2p].sum()/aa_p2p[11],\n",
    "            model_counts_p2pF[r13_p2p].sum()/aa_p2p[12],\n",
    "            model_counts_p2pF[r14_p2p].sum()/aa_p2p[13],\n",
    "            model_counts_p2pF[r15_p2p].sum()/aa_p2p[14]]"
   ]
  },
  {
   "cell_type": "code",
   "execution_count": 24,
   "metadata": {},
   "outputs": [],
   "source": [
    "r_he = psc2e_ext_fit\n",
    "dist_e = np.array([r_he*0.1,r_he*0.2,r_he*0.3,r_he*0.4,r_he*0.5,r_he*0.6,\n",
    "                   r_he*0.7,r_he*0.8,r_he*0.9,r_he,1.1*r_he,1.2*r_he,\n",
    "                  1.3*r_he,1.4*r_he,1.5*r_he])/1200\n",
    "\n"
   ]
  },
  {
   "cell_type": "code",
   "execution_count": 25,
   "metadata": {},
   "outputs": [],
   "source": [
    "r_hp = psc2p_ext_fit\n",
    "dist_p = np.array([r_hp*0.1,r_hp*0.2,r_hp*0.3,r_hp*0.4,r_hp*0.5,r_hp*0.6,\n",
    "                   r_hp*0.7,r_hp*0.8,r_hp*0.9,r_hp,1.1*r_hp,1.2*r_hp,\n",
    "                  1.3*r_hp,1.4*r_hp,1.5*r_hp])/1200"
   ]
  },
  {
   "cell_type": "code",
   "execution_count": 26,
   "metadata": {},
   "outputs": [],
   "source": [
    "##### Observed surface density map\n",
    "binned_surface_density_30 = np.zeros((195,195))\n",
    "for ii in range(195):\n",
    "    for jj in range(195):\n",
    "        idxgood = np.logical_and(np.logical_and(psc2x >= (30 * ii),psc2x <= (30 * (ii + 1))),\n",
    "                     np.logical_and(psc2y >= (30 * jj),psc2y <= (30 * (jj + 1))))\n",
    "\n",
    "        tmp = np.where(idxgood)[0]\n",
    "#         # flipping ii and jj because in IDL, it's col, row.\n",
    "        binned_surface_density_30[jj,ii] = len(tmp)"
   ]
  },
  {
   "cell_type": "code",
   "execution_count": 27,
   "metadata": {},
   "outputs": [],
   "source": [
    "binned_surface_density_30f = binned_surface_density_30.flatten()\n",
    "data_1de = [binned_surface_density_30f[r1_p2e].sum()/aa_p2e[0],\n",
    "           binned_surface_density_30f[r2_p2e].sum()/aa_p2e[1],\n",
    "           binned_surface_density_30f[r3_p2e].sum()/aa_p2e[2],\n",
    "           binned_surface_density_30f[r4_p2e].sum()/aa_p2e[3],\n",
    "           binned_surface_density_30f[r5_p2e].sum()/aa_p2e[4],\n",
    "           binned_surface_density_30f[r6_p2e].sum()/aa_p2e[5],\n",
    "           binned_surface_density_30f[r7_p2e].sum()/aa_p2e[6],\n",
    "           binned_surface_density_30f[r8_p2e].sum()/aa_p2e[7],\n",
    "           binned_surface_density_30f[r9_p2e].sum()/aa_p2e[8],\n",
    "           binned_surface_density_30f[r10_p2e].sum()/aa_p2e[9],\n",
    "           binned_surface_density_30f[r11_p2e].sum()/aa_p2e[10],\n",
    "           binned_surface_density_30f[r12_p2e].sum()/aa_p2e[11],\n",
    "           binned_surface_density_30f[r13_p2e].sum()/aa_p2e[12],\n",
    "           binned_surface_density_30f[r14_p2e].sum()/aa_p2e[13],\n",
    "           binned_surface_density_30f[r15_p2e].sum()/aa_p2e[14]]"
   ]
  },
  {
   "cell_type": "code",
   "execution_count": 28,
   "metadata": {},
   "outputs": [],
   "source": [
    "# binned_surface_density_30f = binned_surface_density_30.flatten()\n",
    "data_1dp = [binned_surface_density_30f[r1_p2p].sum()/aa_p2p[0],\n",
    "           binned_surface_density_30f[r2_p2p].sum()/aa_p2p[1],\n",
    "           binned_surface_density_30f[r3_p2p].sum()/aa_p2p[2],\n",
    "           binned_surface_density_30f[r4_p2p].sum()/aa_p2p[3],\n",
    "           binned_surface_density_30f[r5_p2p].sum()/aa_p2p[4],\n",
    "           binned_surface_density_30f[r6_p2p].sum()/aa_p2p[5],\n",
    "           binned_surface_density_30f[r7_p2p].sum()/aa_p2p[6],\n",
    "           binned_surface_density_30f[r8_p2p].sum()/aa_p2p[7],\n",
    "           binned_surface_density_30f[r9_p2p].sum()/aa_p2p[8],\n",
    "           binned_surface_density_30f[r10_p2p].sum()/aa_p2p[9],\n",
    "           binned_surface_density_30f[r11_p2p].sum()/aa_p2p[10],\n",
    "           binned_surface_density_30f[r12_p2p].sum()/aa_p2p[11],\n",
    "           binned_surface_density_30f[r13_p2p].sum()/aa_p2p[12],\n",
    "           binned_surface_density_30f[r14_p2p].sum()/aa_p2p[13],\n",
    "           binned_surface_density_30f[r15_p2p].sum()/aa_p2p[14]]"
   ]
  },
  {
   "cell_type": "code",
   "execution_count": 29,
   "metadata": {},
   "outputs": [],
   "source": [
    "p2e_err = np.sqrt([len(r1_p2e),len(r2_p2e),len(r3_p2e),len(r4_p2e),\n",
    "                   len(r5_p2e),len(r6_p2e),len(r7_p2e),len(r8_p2e),\n",
    "                   len(r9_p2e),len(r10_p2e),len(r11_p2e),len(r12_p2e),\n",
    "                   len(r13_p2e),len(r14_p2e),len(r15_p2e)])"
   ]
  },
  {
   "cell_type": "code",
   "execution_count": 32,
   "metadata": {},
   "outputs": [
    {
     "data": {
      "text/plain": [
       "738"
      ]
     },
     "execution_count": 32,
     "metadata": {},
     "output_type": "execute_result"
    }
   ],
   "source": [
    "len(psc2x)"
   ]
  },
  {
   "cell_type": "code",
   "execution_count": 30,
   "metadata": {},
   "outputs": [],
   "source": [
    "plt.rcParams[\"font.family\"] = \"serif\"\n",
    "plt.rcParams[\"mathtext.fontset\"] = \"dejavuserif\""
   ]
  },
  {
   "cell_type": "code",
   "execution_count": 31,
   "metadata": {
    "scrolled": true
   },
   "outputs": [
    {
     "data": {
      "image/png": "[encoded data removed]",
      "text/plain": [
       "<Figure size 648x504 with 1 Axes>"
      ]
     },
     "metadata": {
      "needs_background": "light"
     },
     "output_type": "display_data"
    }
   ],
   "source": [
    "fig, ax = plt.subplots(figsize=(9,7))\n",
    "\n",
    "ax.plot(dist_e,model_p2e + bk*psc2e_bg_fit,label='Exponential PDF',\n",
    "       color='lightseagreen')\n",
    "ax.plot(dist_p,model_p2p + bk*psc2p_bg_fit,label='Plummer PDF',\n",
    "       color='seagreen')\n",
    "# ax.errorbar(dist_e,data_1de + bk*psc2e_bg_fit,yerr=np.sqrt(data_1de + bk*psc2e_bg_fit),\n",
    "#             label='Exponential Data',linestyle='')\n",
    "ax.scatter(dist_e,data_1de + bk*psc2e_bg_fit,\n",
    "            label='Exponential-Binned Data',marker='d',\n",
    "           color='mediumspringgreen',s=50)\n",
    "\n",
    "ax.scatter(dist_p,data_1dp + bk*psc2p_bg_fit,\n",
    "            label='Plummer-Binned Data',marker='+',\n",
    "           color='forestgreen',s=50)\n",
    "\n",
    "ax.set_xscale('log')\n",
    "ax.set_yscale('log')\n",
    "\n",
    "ax.set_ylabel(r'log[$\\Sigma_N$ (stars arcmin$^{-1}$)]',fontsize=22)\n",
    "ax.set_xlabel(r'log[R (arcmin)]',fontsize=22)\n",
    "# ax.set_title('Psc II',fontsize=20)\n",
    "\n",
    "ax.set_xticks([1, 2])\n",
    "ax.get_xaxis().set_major_formatter(mpl.ticker.ScalarFormatter())\n",
    "ax.tick_params(axis='both', labelsize=16)\n",
    "\n",
    "# ax.set_yticks([1e+2, 1e+3])\n",
    "ax.get_yaxis().set_major_formatter(mpl.ticker.ScalarFormatter())\n",
    "ax.legend(fontsize=20)\n",
    "\n",
    "# plt.savefig('psc2profile.png',bbox_inches='tight',dpi=660)\n",
    "plt.show()"
   ]
  }
 ],
 "metadata": {
  "kernelspec": {
   "display_name": "Python 3",
   "language": "python",
   "name": "python3"
  },
  "language_info": {
   "codemirror_mode": {
    "name": "ipython",
    "version": 3
   },
   "file_extension": ".py",
   "mimetype": "text/x-python",
   "name": "python",
   "nbconvert_exporter": "python",
   "pygments_lexer": "ipython3",
   "version": "3.7.6"
  }
 },
 "nbformat": 4,
 "nbformat_minor": 4
}
