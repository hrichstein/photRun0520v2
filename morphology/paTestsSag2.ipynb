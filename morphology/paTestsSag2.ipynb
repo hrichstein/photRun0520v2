{
 "cells": [
  {
   "cell_type": "code",
   "execution_count": 1,
   "metadata": {},
   "outputs": [],
   "source": [
    "import numpy as np\n",
    "import matplotlib.pyplot as plt\n",
    "from matplotlib.path import Path\n",
    "from matplotlib.patches import PathPatch\n",
    "# from matplotlib.mlab import rec2csv\n",
    "\n",
    "import emcee\n",
    "import corner\n",
    "\n",
    "import _pickle as cPickle\n",
    "import matplotlib as mpl"
   ]
  },
  {
   "cell_type": "code",
   "execution_count": 2,
   "metadata": {},
   "outputs": [],
   "source": [
    "cat = np.genfromtxt('../forElena16Nov/SAGITTARIUS-II_cat16Nov.dat',names=True)"
   ]
  },
  {
   "cell_type": "code",
   "execution_count": 3,
   "metadata": {},
   "outputs": [],
   "source": [
    "x = cat['x_f606w']\n",
    "y = cat['y_f606w']\n",
    "m606 = cat['magr_f606w']\n",
    "dm606 = cat['err_f606w']\n",
    "m814 = cat['magr_f814w']\n",
    "dm814 = cat['err_f814w']"
   ]
  },
  {
   "cell_type": "code",
   "execution_count": 4,
   "metadata": {},
   "outputs": [],
   "source": [
    "xgood = x\n",
    "ygood = y"
   ]
  },
  {
   "cell_type": "code",
   "execution_count": 5,
   "metadata": {},
   "outputs": [],
   "source": [
    "x0 = 2386.25\n",
    "y0 = 2224.53"
   ]
  },
  {
   "cell_type": "code",
   "execution_count": 7,
   "metadata": {},
   "outputs": [],
   "source": [
    "richness = 6071\n",
    "x0 = 2527\n",
    "y0 = 2235\n",
    "gal_ext_pix = 2677\n",
    "\n",
    "gal_ell = 0.14\n",
    "gal_pa = -8"
   ]
  },
  {
   "cell_type": "code",
   "execution_count": 8,
   "metadata": {},
   "outputs": [],
   "source": [
    "sag_x0 = x0\n",
    "sag_y0 = y0\n",
    "\n",
    "sag_nstar = 4000\n",
    "sag_ext = 1.6/60 # degrees\n",
    "sag_ext_pix = 3000\n",
    "sag_ell = 0.2\n",
    "sag_pa = 70\n",
    "\n",
    "r_h = gal_ext_pix"
   ]
  },
  {
   "cell_type": "code",
   "execution_count": 9,
   "metadata": {},
   "outputs": [],
   "source": [
    "def new_kernel_plummer(x,y,lon=sag_x0,lat=sag_y0,ext=sag_ext_pix,ell=sag_ell,pa=sag_pa):\n",
    "    \"\"\" Evaluate the elliptical Plummer kernel at coordinates x,y. \n",
    "    Normalized to unity over all space...\n",
    "\n",
    "    Parameters\n",
    "    ----------\n",
    "    x: x-coord for evaluating kernel [pix]\n",
    "    y: y-coord for evaluating kernel [pix]\n",
    "    lon: x-coord of kernel centroid [pix]\n",
    "    lat: y-coord of kernel centroid [pix]\n",
    "    ext: extension [pix]\n",
    "    ell: ellipticity\n",
    "    pa:  position angle [deg]\n",
    "\n",
    "    Returns\n",
    "    -------\n",
    "    pdf : probability density (should integrate to unity over all space)\n",
    "    \"\"\"\n",
    "\n",
    "    # Elliptical radius of each x,y coord\n",
    "    costh = np.cos(np.radians(-pa))\n",
    "    sinth = np.sin(np.radians(-pa))\n",
    "    dx = x-lon\n",
    "    dy = y-lat\n",
    "    radius = np.sqrt(((dx*costh-dy*sinth)/(1-ell))**2 + (dx*sinth+dy*costh)**2)\n",
    "\n",
    "    #PLUMMER SCALE RADIUS = HALF-LIGHT RADIUS \n",
    "    r_e = ext\n",
    "    #Normalization (integrates to unity over all space?) [stars/pix^2)\n",
    "    norm = r_e**2/(np.pi*(1-ell))\n",
    "\n",
    "    # Plummer PDF\n",
    "    pdf = norm / ((radius**2 + r_e**2)**2)\n",
    "\n",
    "    return pdf"
   ]
  },
  {
   "cell_type": "code",
   "execution_count": 10,
   "metadata": {},
   "outputs": [],
   "source": [
    "def model(theta_sag):\n",
    "    \"\"\" Calculate the binned model counts. This extends over the\n",
    "    entire pixel range, but we will apply the mask later.\n",
    "\n",
    "    Parameters\n",
    "    ----------\n",
    "    theta : the model parameters\n",
    "    \n",
    "    Returns\n",
    "    -------\n",
    "    model_counts : the model counts in each bin\n",
    "    \"\"\"\n",
    "    #FIT ALL MODEL PARAMETERS\n",
    "    richness = theta_sag[0]\n",
    "    kwargs = dict(lon=theta_sag[1],lat=theta_sag[2],ext=theta_sag[3],ell=theta_sag[4],pa=theta_sag[5])\n",
    "    #THIS CAN BE USED TO HOLD SOME OF THE PARAMETERS FIXED\n",
    "    # Default values for the other parameters\n",
    "    #kwargs.update(ext=ERI_EXT_PIX,ell=ERI_ELL)\n",
    "\n",
    "    #CHANGE KERNEL CALLED HERE TO USE A DIFFERENT FUNCTIONAL FORM FOR THE SURFACE DENSITY OF THE GALAXY\n",
    "    # The new kernel in pixel coordinates\n",
    "    pdf = new_kernel_plummer(xx,yy,**kwargs)\n",
    "#     pdf = new_kernel(xx,yy,**kwargs)\n",
    "\n",
    "    # Calculate the model predicted counts in each pixel\n",
    "    pixarea = xdel*ydel\n",
    "    model_counts = richness * pdf * pixarea\n",
    "    return model_counts"
   ]
  },
  {
   "cell_type": "code",
   "execution_count": 11,
   "metadata": {},
   "outputs": [],
   "source": [
    "xbin0 = np.ones((179,1))  # (fltarr(267)+1)\n",
    "xbin1 = np.ones((1,179))  \n",
    "xbin1[0] = np.arange(0,179,1)\n",
    "xbin2 = xbin1 * 30 + 15  # (findgen(267)*30. + 15)\n",
    "xbin = np.matmul(xbin0,xbin2)\n",
    "ybin = xbin.T\n",
    "\n",
    "# creating x and y arrays to represent the bins across the image"
   ]
  },
  {
   "cell_type": "code",
   "execution_count": 12,
   "metadata": {},
   "outputs": [],
   "source": [
    "def returnPDF(gal_pa_):\n",
    "    costh = np.cos(-1 * np.deg2rad(gal_pa_))\n",
    "    sinth = np.sin(-1 * np.deg2rad(gal_pa_))\n",
    "\n",
    "    dx = xbin - x0\n",
    "    dy = ybin - y0\n",
    "\n",
    "    r1 = (dx * costh - dy * sinth) / (1 - gal_ell)\n",
    "    r2 = (dx * sinth + dy * costh)\n",
    "\n",
    "    radius = np.sqrt(r1**2 + r2**2)\n",
    "    \n",
    "    r_h = gal_ext_pix\n",
    "    norm = r_h**2 / (np.pi * (1-gal_ell))\n",
    "    # half light radius squared / (pi * 1-ell)\n",
    "    pdf = norm/((radius**2 + r_h**2)**2)\n",
    "\n",
    "    return pdf, radius"
   ]
  },
  {
   "cell_type": "code",
   "execution_count": 13,
   "metadata": {},
   "outputs": [],
   "source": [
    "pdf0, radius0 = returnPDF(0)\n",
    "pdf30, radius30 = returnPDF(30)\n",
    "pdf60, radius60 = returnPDF(60)\n",
    "pdf90, radius90 = returnPDF(90)"
   ]
  },
  {
   "cell_type": "code",
   "execution_count": 14,
   "metadata": {},
   "outputs": [],
   "source": [
    "xdel = 30.\n",
    "ydel = 30.\n",
    "pixarea = xdel*ydel  # pixel area in each bin"
   ]
  },
  {
   "cell_type": "code",
   "execution_count": 15,
   "metadata": {},
   "outputs": [],
   "source": [
    "model_counts_gal0 = richness*pdf0*pixarea  # a 179x179 array\n",
    "model_counts_gal30 = richness*pdf30*pixarea  # a 179x179 array\n",
    "model_counts_gal60 = richness*pdf60*pixarea  # a 179x179 array\n",
    "model_counts_gal90 = richness*pdf90*pixarea  # a 179x179 array"
   ]
  },
  {
   "cell_type": "code",
   "execution_count": 16,
   "metadata": {},
   "outputs": [],
   "source": [
    "# Observed surface density map\n",
    "binned_surface_density_30 = np.zeros((179,179))\n",
    "for ii in range(179):\n",
    "    for jj in range(179):\n",
    "        idxgood = np.logical_and(np.logical_and(xgood >= (30 * ii),xgood <= (30 * (ii + 1))),\n",
    "                     np.logical_and(ygood >= (30 * jj),ygood <= (30 * (jj + 1))))\n",
    "\n",
    "        tmp = np.where(idxgood)[0]\n",
    "#         # flipping ii and jj because in IDL, it's col, row.\n",
    "        binned_surface_density_30[jj,ii] = len(tmp)"
   ]
  },
  {
   "cell_type": "code",
   "execution_count": 17,
   "metadata": {},
   "outputs": [],
   "source": [
    "# Define annuli\n",
    "radius1_0=radius0.flatten()\n",
    "r1_0 = np.where(radius1_0 < (0.1 * r_h))[0]\n",
    "r2_0 = np.where((radius1_0 < (0.2 * r_h)) & (radius1_0 >= (0.1 * r_h)))[0]\n",
    "r3_0 = np.where((radius1_0 < (0.3 * r_h)) & (radius1_0 >= (0.2 * r_h)))[0]\n",
    "r4_0 = np.where((radius1_0 < (0.4 * r_h)) & (radius1_0 >= (0.3 * r_h)))[0]\n",
    "r5_0 = np.where((radius1_0 < (0.5 * r_h)) & (radius1_0 >= (0.4 * r_h)))[0]\n",
    "r6_0 = np.where((radius1_0 < (0.6 * r_h)) & (radius1_0 >= (0.5 * r_h)))[0]\n",
    "r7_0 = np.where((radius1_0 < (0.7 * r_h)) & (radius1_0 >= (0.6 * r_h)))[0]\n",
    "r8_0 = np.where((radius1_0 < (0.8 * r_h)) & (radius1_0 >= (0.7 * r_h)))[0]\n",
    "r9_0 = np.where((radius1_0 < (0.9 * r_h)) & (radius1_0 >= (0.8 * r_h)))[0]\n",
    "r10_0 = np.where((radius1_0 < r_h) & (radius1_0 >= (0.9 * r_h)))[0]"
   ]
  },
  {
   "cell_type": "code",
   "execution_count": 18,
   "metadata": {},
   "outputs": [],
   "source": [
    "# Define annuli\n",
    "radius1_30=radius30.flatten()\n",
    "r1_30 = np.where(radius1_30 < (0.1 * r_h))[0]\n",
    "r2_30 = np.where((radius1_30 < (0.2 * r_h)) & (radius1_30 >= (0.1 * r_h)))[0]\n",
    "r3_30 = np.where((radius1_30 < (0.3 * r_h)) & (radius1_30 >= (0.2 * r_h)))[0]\n",
    "r4_30 = np.where((radius1_30 < (0.4 * r_h)) & (radius1_30 >= (0.3 * r_h)))[0]\n",
    "r5_30 = np.where((radius1_30 < (0.5 * r_h)) & (radius1_30 >= (0.4 * r_h)))[0]\n",
    "r6_30 = np.where((radius1_30 < (0.6 * r_h)) & (radius1_30 >= (0.5 * r_h)))[0]\n",
    "r7_30 = np.where((radius1_30 < (0.7 * r_h)) & (radius1_30 >= (0.6 * r_h)))[0]\n",
    "r8_30 = np.where((radius1_30 < (0.8 * r_h)) & (radius1_30 >= (0.7 * r_h)))[0]\n",
    "r9_30 = np.where((radius1_30 < (0.9 * r_h)) & (radius1_30 >= (0.8 * r_h)))[0]\n",
    "r10_30 = np.where((radius1_30 < r_h) & (radius1_30 >= (0.9 * r_h)))[0]"
   ]
  },
  {
   "cell_type": "code",
   "execution_count": 19,
   "metadata": {},
   "outputs": [],
   "source": [
    "# Define annuli\n",
    "radius1_60=radius60.flatten()\n",
    "r1_60 = np.where(radius1_60 < (0.1 * r_h))[0]\n",
    "r2_60 = np.where((radius1_60 < (0.2 * r_h)) & (radius1_60 >= (0.1 * r_h)))[0]\n",
    "r3_60 = np.where((radius1_60 < (0.3 * r_h)) & (radius1_60 >= (0.2 * r_h)))[0]\n",
    "r4_60 = np.where((radius1_60 < (0.4 * r_h)) & (radius1_60 >= (0.3 * r_h)))[0]\n",
    "r5_60 = np.where((radius1_60 < (0.5 * r_h)) & (radius1_60 >= (0.4 * r_h)))[0]\n",
    "r6_60 = np.where((radius1_60 < (0.6 * r_h)) & (radius1_60 >= (0.5 * r_h)))[0]\n",
    "r7_60 = np.where((radius1_60 < (0.7 * r_h)) & (radius1_60 >= (0.6 * r_h)))[0]\n",
    "r8_60 = np.where((radius1_60 < (0.8 * r_h)) & (radius1_60 >= (0.7 * r_h)))[0]\n",
    "r9_60 = np.where((radius1_60 < (0.9 * r_h)) & (radius1_60 >= (0.8 * r_h)))[0]\n",
    "r10_60 = np.where((radius1_60 < r_h) & (radius1_60 >= (0.9 * r_h)))[0]"
   ]
  },
  {
   "cell_type": "code",
   "execution_count": 20,
   "metadata": {},
   "outputs": [],
   "source": [
    "# Define annuli\n",
    "radius1_90=radius90.flatten()\n",
    "r1_90 = np.where(radius1_90 < (0.1 * r_h))[0]\n",
    "r2_90 = np.where((radius1_90 < (0.2 * r_h)) & (radius1_90 >= (0.1 * r_h)))[0]\n",
    "r3_90 = np.where((radius1_90 < (0.3 * r_h)) & (radius1_90 >= (0.2 * r_h)))[0]\n",
    "r4_90 = np.where((radius1_90 < (0.4 * r_h)) & (radius1_90 >= (0.3 * r_h)))[0]\n",
    "r5_90 = np.where((radius1_90 < (0.5 * r_h)) & (radius1_90 >= (0.4 * r_h)))[0]\n",
    "r6_90 = np.where((radius1_90 < (0.6 * r_h)) & (radius1_90 >= (0.5 * r_h)))[0]\n",
    "r7_90 = np.where((radius1_90 < (0.7 * r_h)) & (radius1_90 >= (0.6 * r_h)))[0]\n",
    "r8_90 = np.where((radius1_90 < (0.8 * r_h)) & (radius1_90 >= (0.7 * r_h)))[0]\n",
    "r9_90 = np.where((radius1_90 < (0.9 * r_h)) & (radius1_90 >= (0.8 * r_h)))[0]\n",
    "r10_90 = np.where((radius1_90 < r_h) & (radius1_90 >= (0.9 * r_h)))[0]"
   ]
  },
  {
   "cell_type": "code",
   "execution_count": 21,
   "metadata": {},
   "outputs": [],
   "source": [
    "arr = np.array([0,0.1,0.2,0.3,0.4,0.5,0.6,0.7,0.8,0.9])\n",
    "r_annuli = (arr + 0.05) * r_h\n",
    "\n",
    "# .05r_h, .15r_h\n",
    "area_annuli = np.pi * ( (r_annuli + (0.05*r_h))**2 - (r_annuli - (0.05*r_h))**2) * (1-gal_ell)"
   ]
  },
  {
   "cell_type": "code",
   "execution_count": 22,
   "metadata": {},
   "outputs": [],
   "source": [
    "pix_per_arcsec=20\n",
    "area_arcmin = area_annuli/(pix_per_arcsec*60)**2"
   ]
  },
  {
   "cell_type": "code",
   "execution_count": 23,
   "metadata": {},
   "outputs": [],
   "source": [
    "aa = area_arcmin\n",
    "dist_x = np.array([r_h*0.1,r_h*0.2,r_h*0.3,r_h*0.4,r_h*0.5,r_h*0.6,r_h*0.7,r_h*0.8,r_h*0.9,r_h])/1200"
   ]
  },
  {
   "cell_type": "code",
   "execution_count": 24,
   "metadata": {},
   "outputs": [],
   "source": [
    "binned_surface_density_30f = binned_surface_density_30.flatten()\n",
    "model_counts_galf0 = model_counts_gal0.flatten()\n",
    "model_counts_galf30 = model_counts_gal30.flatten()\n",
    "model_counts_galf60 = model_counts_gal60.flatten()\n",
    "model_counts_galf90 = model_counts_gal90.flatten()\n",
    "# model_counts_expf = model_counts_exp.flatten()\n",
    "data_1d0 = [binned_surface_density_30f[r1_0].sum()/aa[0],\n",
    "           binned_surface_density_30f[r2_0].sum()/aa[1],\n",
    "           binned_surface_density_30f[r3_0].sum()/aa[2],\n",
    "           binned_surface_density_30f[r4_0].sum()/aa[3],\n",
    "           binned_surface_density_30f[r5_0].sum()/aa[4],\n",
    "           binned_surface_density_30f[r6_0].sum()/aa[5],\n",
    "           binned_surface_density_30f[r7_0].sum()/aa[6],\n",
    "           binned_surface_density_30f[r8_0].sum()/aa[7],\n",
    "           binned_surface_density_30f[r9_0].sum()/aa[8],\n",
    "           binned_surface_density_30f[r10_0].sum()/aa[9]]\n",
    "\n",
    "data_1d30 = [binned_surface_density_30f[r1_30].sum()/aa[0],\n",
    "           binned_surface_density_30f[r2_30].sum()/aa[1],\n",
    "           binned_surface_density_30f[r3_30].sum()/aa[2],\n",
    "           binned_surface_density_30f[r4_30].sum()/aa[3],\n",
    "           binned_surface_density_30f[r5_30].sum()/aa[4],\n",
    "           binned_surface_density_30f[r6_30].sum()/aa[5],\n",
    "           binned_surface_density_30f[r7_30].sum()/aa[6],\n",
    "           binned_surface_density_30f[r8_30].sum()/aa[7],\n",
    "           binned_surface_density_30f[r9_30].sum()/aa[8],\n",
    "           binned_surface_density_30f[r10_30].sum()/aa[9]]\n",
    "\n",
    "data_1d60 = [binned_surface_density_30f[r1_60].sum()/aa[0],\n",
    "           binned_surface_density_30f[r2_60].sum()/aa[1],\n",
    "           binned_surface_density_30f[r3_60].sum()/aa[2],\n",
    "           binned_surface_density_30f[r4_60].sum()/aa[3],\n",
    "           binned_surface_density_30f[r5_60].sum()/aa[4],\n",
    "           binned_surface_density_30f[r6_60].sum()/aa[5],\n",
    "           binned_surface_density_30f[r7_60].sum()/aa[6],\n",
    "           binned_surface_density_30f[r8_60].sum()/aa[7],\n",
    "           binned_surface_density_30f[r9_60].sum()/aa[8],\n",
    "           binned_surface_density_30f[r10_60].sum()/aa[9]]\n",
    "\n",
    "data_1d90 = [binned_surface_density_30f[r1_90].sum()/aa[0],\n",
    "           binned_surface_density_30f[r2_90].sum()/aa[1],\n",
    "           binned_surface_density_30f[r3_90].sum()/aa[2],\n",
    "           binned_surface_density_30f[r4_90].sum()/aa[3],\n",
    "           binned_surface_density_30f[r5_90].sum()/aa[4],\n",
    "           binned_surface_density_30f[r6_90].sum()/aa[5],\n",
    "           binned_surface_density_30f[r7_90].sum()/aa[6],\n",
    "           binned_surface_density_30f[r8_90].sum()/aa[7],\n",
    "           binned_surface_density_30f[r9_90].sum()/aa[8],\n",
    "           binned_surface_density_30f[r10_90].sum()/aa[9]]\n",
    "\n",
    "model_1d0 = [model_counts_galf0[r1_0].sum()/aa[0],\n",
    "            model_counts_galf0[r2_0].sum()/aa[1],\n",
    "            model_counts_galf0[r3_0].sum()/aa[2],\n",
    "            model_counts_galf0[r4_0].sum()/aa[3],\n",
    "            model_counts_galf0[r5_0].sum()/aa[4],\n",
    "            model_counts_galf0[r6_0].sum()/aa[5],\n",
    "            model_counts_galf0[r7_0].sum()/aa[6],\n",
    "            model_counts_galf0[r8_0].sum()/aa[7],\n",
    "            model_counts_galf0[r9_0].sum()/aa[8],\n",
    "            model_counts_galf0[r10_0].sum()/aa[9]]"
   ]
  },
  {
   "cell_type": "code",
   "execution_count": 25,
   "metadata": {},
   "outputs": [],
   "source": [
    "model_1d30 = [model_counts_galf30[r1_30].sum()/aa[0],\n",
    "            model_counts_galf30[r2_30].sum()/aa[1],\n",
    "            model_counts_galf30[r3_30].sum()/aa[2],\n",
    "            model_counts_galf30[r4_30].sum()/aa[3],\n",
    "            model_counts_galf30[r5_30].sum()/aa[4],\n",
    "            model_counts_galf30[r6_30].sum()/aa[5],\n",
    "            model_counts_galf30[r7_30].sum()/aa[6],\n",
    "            model_counts_galf30[r8_30].sum()/aa[7],\n",
    "            model_counts_galf30[r9_30].sum()/aa[8],\n",
    "            model_counts_galf30[r10_30].sum()/aa[9]]\n",
    "\n",
    "model_1d60 = [model_counts_galf60[r1_60].sum()/aa[0],\n",
    "            model_counts_galf60[r2_60].sum()/aa[1],\n",
    "            model_counts_galf60[r3_60].sum()/aa[2],\n",
    "            model_counts_galf60[r4_60].sum()/aa[3],\n",
    "            model_counts_galf60[r5_60].sum()/aa[4],\n",
    "            model_counts_galf60[r6_60].sum()/aa[5],\n",
    "            model_counts_galf60[r7_60].sum()/aa[6],\n",
    "            model_counts_galf60[r8_60].sum()/aa[7],\n",
    "            model_counts_galf60[r9_60].sum()/aa[8],\n",
    "            model_counts_galf60[r10_60].sum()/aa[9]]\n",
    "\n",
    "model_1d90 = [model_counts_galf90[r1_90].sum()/aa[0],\n",
    "            model_counts_galf90[r2_90].sum()/aa[1],\n",
    "            model_counts_galf90[r3_90].sum()/aa[2],\n",
    "            model_counts_galf90[r4_90].sum()/aa[3],\n",
    "            model_counts_galf90[r5_90].sum()/aa[4],\n",
    "            model_counts_galf90[r6_90].sum()/aa[5],\n",
    "            model_counts_galf90[r7_90].sum()/aa[6],\n",
    "            model_counts_galf90[r8_90].sum()/aa[7],\n",
    "            model_counts_galf90[r9_90].sum()/aa[8],\n",
    "            model_counts_galf90[r10_90].sum()/aa[9]]"
   ]
  },
  {
   "cell_type": "code",
   "execution_count": 26,
   "metadata": {},
   "outputs": [
    {
     "data": {
      "image/png": "[encoded data removed]",
      "text/plain": [
       "<Figure size 648x504 with 1 Axes>"
      ]
     },
     "metadata": {
      "needs_background": "light"
     },
     "output_type": "display_data"
    }
   ],
   "source": [
    "fig, ax = plt.subplots(figsize=(9,7))\n",
    "\n",
    "ax.plot(dist_x,data_1d0,label='Data 0')\n",
    "ax.plot(dist_x,data_1d30,label='Data 30')\n",
    "ax.plot(dist_x,data_1d60,label='Data 60')\n",
    "ax.plot(dist_x,data_1d90,label='Data 90')\n",
    "ax.plot(dist_x,model_1d0,label='Model Plummer 0')\n",
    "ax.plot(dist_x,model_1d30,label='Model Plummer 30')\n",
    "ax.plot(dist_x,model_1d60,label='Model Plummer 60')\n",
    "ax.plot(dist_x,model_1d90,label='Model Plummer 90')\n",
    "\n",
    "# ax.plot(dist_x,model_1de,label='Model Exp')\n",
    "\n",
    "ax.set_xscale('log')\n",
    "ax.set_yscale('log')\n",
    "\n",
    "ax.set_ylabel(r'log[$\\Sigma_N$ (stars arcmin$^{-2}$)]',fontsize=16)\n",
    "ax.set_xlabel(r'log[R (arcmin)]',fontsize=16)\n",
    "ax.set_title('Sgr II',fontsize=20)\n",
    "\n",
    "ax.set_xticks([1, 2])\n",
    "ax.get_xaxis().set_major_formatter(mpl.ticker.ScalarFormatter())\n",
    "\n",
    "ax.set_yticks([1e+2, 1e+3])\n",
    "ax.get_yaxis().set_major_formatter(mpl.ticker.ScalarFormatter())\n",
    "\n",
    "ax.legend()\n",
    "plt.savefig('figures/sgr2_1802pa.png')\n",
    "plt.show()"
   ]
  }
 ],
 "metadata": {
  "kernelspec": {
   "display_name": "Python 3",
   "language": "python",
   "name": "python3"
  },
  "language_info": {
   "codemirror_mode": {
    "name": "ipython",
    "version": 3
   },
   "file_extension": ".py",
   "mimetype": "text/x-python",
   "name": "python",
   "nbconvert_exporter": "python",
   "pygments_lexer": "ipython3",
   "version": "3.7.6"
  }
 },
 "nbformat": 4,
 "nbformat_minor": 4
}
