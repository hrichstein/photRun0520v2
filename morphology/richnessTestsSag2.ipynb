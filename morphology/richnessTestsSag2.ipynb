{
 "cells": [
  {
   "cell_type": "code",
   "execution_count": 1,
   "metadata": {},
   "outputs": [],
   "source": [
    "import numpy as np\n",
    "import matplotlib.pyplot as plt\n",
    "from matplotlib.path import Path\n",
    "from matplotlib.patches import PathPatch\n",
    "# from matplotlib.mlab import rec2csv\n",
    "\n",
    "import emcee\n",
    "import corner\n",
    "\n",
    "import _pickle as cPickle\n",
    "import matplotlib as mpl"
   ]
  },
  {
   "cell_type": "code",
   "execution_count": 2,
   "metadata": {},
   "outputs": [],
   "source": [
    "cat = np.genfromtxt('../forElena16Nov/SAGITTARIUS-II_cat16Nov.dat',names=True)"
   ]
  },
  {
   "cell_type": "code",
   "execution_count": 3,
   "metadata": {},
   "outputs": [],
   "source": [
    "x = cat['x_f606w']\n",
    "y = cat['y_f606w']\n",
    "m606 = cat['magr_f606w']\n",
    "dm606 = cat['err_f606w']\n",
    "m814 = cat['magr_f814w']\n",
    "dm814 = cat['err_f814w']"
   ]
  },
  {
   "cell_type": "code",
   "execution_count": 4,
   "metadata": {},
   "outputs": [],
   "source": [
    "xgood = x\n",
    "ygood = y"
   ]
  },
  {
   "cell_type": "code",
   "execution_count": 5,
   "metadata": {},
   "outputs": [],
   "source": [
    "x0 = 2386.25\n",
    "y0 = 2224.53"
   ]
  },
  {
   "cell_type": "code",
   "execution_count": 6,
   "metadata": {},
   "outputs": [],
   "source": [
    "sag_x0 = x0\n",
    "sag_y0 = y0\n",
    "\n",
    "sag_nstar = 4000\n",
    "sag_ext = 1.6/60 # degrees\n",
    "sag_ext_pix = 3000\n",
    "sag_ell = 0.2\n",
    "sag_pa = 70"
   ]
  },
  {
   "cell_type": "code",
   "execution_count": 7,
   "metadata": {},
   "outputs": [],
   "source": [
    "def new_kernel_plummer(x,y,lon=sag_x0,lat=sag_y0,ext=sag_ext_pix,ell=sag_ell,pa=sag_pa):\n",
    "    \"\"\" Evaluate the elliptical Plummer kernel at coordinates x,y. \n",
    "    Normalized to unity over all space...\n",
    "\n",
    "    Parameters\n",
    "    ----------\n",
    "    x: x-coord for evaluating kernel [pix]\n",
    "    y: y-coord for evaluating kernel [pix]\n",
    "    lon: x-coord of kernel centroid [pix]\n",
    "    lat: y-coord of kernel centroid [pix]\n",
    "    ext: extension [pix]\n",
    "    ell: ellipticity\n",
    "    pa:  position angle [deg]\n",
    "\n",
    "    Returns\n",
    "    -------\n",
    "    pdf : probability density (should integrate to unity over all space)\n",
    "    \"\"\"\n",
    "\n",
    "    # Elliptical radius of each x,y coord\n",
    "    costh = np.cos(np.radians(-pa))\n",
    "    sinth = np.sin(np.radians(-pa))\n",
    "    dx = x-lon\n",
    "    dy = y-lat\n",
    "    radius = np.sqrt(((dx*costh-dy*sinth)/(1-ell))**2 + (dx*sinth+dy*costh)**2)\n",
    "\n",
    "    #PLUMMER SCALE RADIUS = HALF-LIGHT RADIUS \n",
    "    r_e = ext\n",
    "    #Normalization (integrates to unity over all space?) [stars/pix^2)\n",
    "    norm = r_e**2/(np.pi*(1-ell))\n",
    "\n",
    "    # Plummer PDF\n",
    "    pdf = norm / ((radius**2 + r_e**2)**2)\n",
    "\n",
    "    return pdf"
   ]
  },
  {
   "cell_type": "code",
   "execution_count": 8,
   "metadata": {},
   "outputs": [],
   "source": [
    "def model(theta_sag):\n",
    "    \"\"\" Calculate the binned model counts. This extends over the\n",
    "    entire pixel range, but we will apply the mask later.\n",
    "\n",
    "    Parameters\n",
    "    ----------\n",
    "    theta : the model parameters\n",
    "    \n",
    "    Returns\n",
    "    -------\n",
    "    model_counts : the model counts in each bin\n",
    "    \"\"\"\n",
    "    #FIT ALL MODEL PARAMETERS\n",
    "    richness = theta_sag[0]\n",
    "    kwargs = dict(lon=theta_sag[1],lat=theta_sag[2],ext=theta_sag[3],ell=theta_sag[4],pa=theta_sag[5])\n",
    "    #THIS CAN BE USED TO HOLD SOME OF THE PARAMETERS FIXED\n",
    "    # Default values for the other parameters\n",
    "    #kwargs.update(ext=ERI_EXT_PIX,ell=ERI_ELL)\n",
    "\n",
    "    #CHANGE KERNEL CALLED HERE TO USE A DIFFERENT FUNCTIONAL FORM FOR THE SURFACE DENSITY OF THE GALAXY\n",
    "    # The new kernel in pixel coordinates\n",
    "    pdf = new_kernel_plummer(xx,yy,**kwargs)\n",
    "#     pdf = new_kernel(xx,yy,**kwargs)\n",
    "\n",
    "    # Calculate the model predicted counts in each pixel\n",
    "    pixarea = xdel*ydel\n",
    "    model_counts = richness * pdf * pixarea\n",
    "    return model_counts"
   ]
  },
  {
   "cell_type": "code",
   "execution_count": 9,
   "metadata": {},
   "outputs": [],
   "source": [
    "xbin0 = np.ones((179,1))  # (fltarr(267)+1)\n",
    "xbin1 = np.ones((1,179))  \n",
    "xbin1[0] = np.arange(0,179,1)\n",
    "xbin2 = xbin1 * 30 + 15  # (findgen(267)*30. + 15)\n",
    "xbin = np.matmul(xbin0,xbin2)\n",
    "ybin = xbin.T\n",
    "\n",
    "# creating x and y arrays to represent the bins across the image"
   ]
  },
  {
   "cell_type": "code",
   "execution_count": 10,
   "metadata": {},
   "outputs": [],
   "source": [
    "richness = 6071\n",
    "x0 = 2527\n",
    "y0 = 2235\n",
    "gal_ext_pix = 2677\n",
    "\n",
    "gal_ell = 0.14\n",
    "gal_pa = -8"
   ]
  },
  {
   "cell_type": "code",
   "execution_count": 11,
   "metadata": {},
   "outputs": [],
   "source": [
    "costh = np.cos(-1 * np.deg2rad(gal_pa))\n",
    "sinth = np.sin(-1 * np.deg2rad(gal_pa))\n",
    "\n",
    "dx = xbin - x0\n",
    "dy = ybin - y0\n",
    "\n",
    "r1 = (dx * costh - dy * sinth) / (1 - gal_ell)\n",
    "r2 = (dx * sinth + dy * costh)\n",
    "\n",
    "radius = np.sqrt(r1**2 + r2**2)\n",
    "# calculating distances to different bins in the annuli based on the PA"
   ]
  },
  {
   "cell_type": "code",
   "execution_count": 12,
   "metadata": {},
   "outputs": [],
   "source": [
    "r_h = gal_ext_pix\n",
    "norm = r_h**2 / (np.pi * (1-gal_ell))\n",
    "# half light radius squared / (pi * 1-ell)\n",
    "pdf = norm/((radius**2 + r_h**2)**2)\n",
    "\n",
    "xdel = 30.\n",
    "ydel = 30.\n",
    "pixarea = xdel*ydel  # pixel area in each bin"
   ]
  },
  {
   "cell_type": "code",
   "execution_count": 28,
   "metadata": {},
   "outputs": [],
   "source": [
    "costh2 = np.cos(-1 * np.deg2rad(81))\n",
    "sinth2 = np.sin(-1 * np.deg2rad(81))\n",
    "\n",
    "dx2 = xbin - x0\n",
    "dy2 = ybin - y0\n",
    "\n",
    "r1_2 = (dx2 * costh2 - dy2 * sinth2) / (1 - 0.37)\n",
    "r2_2 = (dx2 * sinth2 + dy2 * costh2)\n",
    "\n",
    "radius_2 = np.sqrt(r1_2**2 + r2_2**2)\n",
    "\n",
    "norm2 = r_h**2 / (np.pi * (1-0.37))\n",
    "# half light radius squared / (pi * 1-ell)\n",
    "pdf2 = norm2/((radius_2**2 + r_h**2)**2)"
   ]
  },
  {
   "cell_type": "code",
   "execution_count": 29,
   "metadata": {},
   "outputs": [],
   "source": [
    "model_counts_gal = richness*pdf*pixarea  # a 179x179 array"
   ]
  },
  {
   "cell_type": "code",
   "execution_count": 30,
   "metadata": {},
   "outputs": [],
   "source": [
    "model_counts_gal_t = richness*pdf2*pixarea  # a 179x179 array"
   ]
  },
  {
   "cell_type": "code",
   "execution_count": 31,
   "metadata": {},
   "outputs": [],
   "source": [
    "model_counts_gal2 = 9000*pdf*pixarea  # a 179x179 array"
   ]
  },
  {
   "cell_type": "code",
   "execution_count": 32,
   "metadata": {},
   "outputs": [],
   "source": [
    "model_counts_gal3 = 4000*pdf*pixarea  # a 179x179 array"
   ]
  },
  {
   "cell_type": "code",
   "execution_count": 33,
   "metadata": {},
   "outputs": [],
   "source": [
    "# Observed surface density map\n",
    "binned_surface_density_30 = np.zeros((179,179))\n",
    "for ii in range(179):\n",
    "    for jj in range(179):\n",
    "        idxgood = np.logical_and(np.logical_and(xgood >= (30 * ii),xgood <= (30 * (ii + 1))),\n",
    "                     np.logical_and(ygood >= (30 * jj),ygood <= (30 * (jj + 1))))\n",
    "\n",
    "        tmp = np.where(idxgood)[0]\n",
    "#         # flipping ii and jj because in IDL, it's col, row.\n",
    "        binned_surface_density_30[jj,ii] = len(tmp)"
   ]
  },
  {
   "cell_type": "code",
   "execution_count": 34,
   "metadata": {},
   "outputs": [],
   "source": [
    "# Define annuli\n",
    "radius1=radius.flatten()\n",
    "r1 = np.where(radius1 < (0.1 * r_h))\n",
    "r2 = np.where((radius1 < (0.2 * r_h)) & (radius1 >= (0.1 * r_h)))\n",
    "r3 = np.where((radius1 < (0.3 * r_h)) & (radius1 >= (0.2 * r_h)))\n",
    "r4 = np.where((radius1 < (0.4 * r_h)) & (radius1 >= (0.3 * r_h)))\n",
    "r5 = np.where((radius1 < (0.5 * r_h)) & (radius1 >= (0.4 * r_h)))\n",
    "r6 = np.where((radius1 < (0.6 * r_h)) & (radius1 >= (0.5 * r_h)))\n",
    "r7 = np.where((radius1 < (0.7 * r_h)) & (radius1 >= (0.6 * r_h)))\n",
    "r8 = np.where((radius1 < (0.8 * r_h)) & (radius1 >= (0.7 * r_h)))\n",
    "r9 = np.where((radius1 < (0.9 * r_h)) & (radius1 >= (0.8 * r_h)))\n",
    "r10 = np.where((radius1 < r_h) & (radius1 >= (0.9 * r_h)))"
   ]
  },
  {
   "cell_type": "code",
   "execution_count": 35,
   "metadata": {},
   "outputs": [],
   "source": [
    "# To get the actual indices\n",
    "r1v = r1[0]\n",
    "r2v = r2[0]\n",
    "r3v = r3[0]\n",
    "r4v = r4[0]\n",
    "r5v = r5[0]\n",
    "r6v = r6[0]\n",
    "r7v = r7[0]\n",
    "r8v = r8[0]\n",
    "r9v = r9[0]\n",
    "r10v = r10[0]"
   ]
  },
  {
   "cell_type": "code",
   "execution_count": 43,
   "metadata": {},
   "outputs": [],
   "source": [
    "# Define annuli\n",
    "radius_3=radius_2.flatten()\n",
    "r1t = np.where(radius_3 < (0.1 * r_h))[0]\n",
    "r2t = np.where((radius_3 < (0.2 * r_h)) & (radius_3 >= (0.1 * r_h)))[0]\n",
    "r3t = np.where((radius_3 < (0.3 * r_h)) & (radius_3 >= (0.2 * r_h)))[0]\n",
    "r4t = np.where((radius_3 < (0.4 * r_h)) & (radius_3 >= (0.3 * r_h)))[0]\n",
    "r5t = np.where((radius_3 < (0.5 * r_h)) & (radius_3 >= (0.4 * r_h)))[0]\n",
    "r6t = np.where((radius_3 < (0.6 * r_h)) & (radius_3 >= (0.5 * r_h)))[0]\n",
    "r7t = np.where((radius_3 < (0.7 * r_h)) & (radius_3 >= (0.6 * r_h)))[0]\n",
    "r8t = np.where((radius_3 < (0.8 * r_h)) & (radius_3 >= (0.7 * r_h)))[0]\n",
    "r9t = np.where((radius_3 < (0.9 * r_h)) & (radius_3 >= (0.8 * r_h)))[0]\n",
    "r10t = np.where((radius_3 < r_h) & (radius_3 >= (0.9 * r_h)))[0]"
   ]
  },
  {
   "cell_type": "code",
   "execution_count": 36,
   "metadata": {},
   "outputs": [],
   "source": [
    "arr = np.array([0,0.1,0.2,0.3,0.4,0.5,0.6,0.7,0.8,0.9])\n",
    "r_annuli = (arr + 0.05) * r_h\n",
    "\n",
    "# .05r_h, .15r_h\n",
    "area_annuli = np.pi * ( (r_annuli + (0.05*r_h))**2 - (r_annuli - (0.05*r_h))**2) * (1-gal_ell)"
   ]
  },
  {
   "cell_type": "code",
   "execution_count": 37,
   "metadata": {},
   "outputs": [],
   "source": [
    "area_annuli2 = np.pi * ( (r_annuli + (0.05*r_h))**2 - (r_annuli - (0.05*r_h))**2) * (1-0.37)"
   ]
  },
  {
   "cell_type": "code",
   "execution_count": 38,
   "metadata": {},
   "outputs": [],
   "source": [
    "pix_per_arcsec=20\n",
    "area_arcmin = area_annuli/(pix_per_arcsec*60)**2"
   ]
  },
  {
   "cell_type": "code",
   "execution_count": 39,
   "metadata": {},
   "outputs": [],
   "source": [
    "aa = area_arcmin\n",
    "dist_x = np.array([r_h*0.1,r_h*0.2,r_h*0.3,r_h*0.4,r_h*0.5,r_h*0.6,r_h*0.7,r_h*0.8,r_h*0.9,r_h])/1200"
   ]
  },
  {
   "cell_type": "code",
   "execution_count": 40,
   "metadata": {},
   "outputs": [],
   "source": [
    "area_arcmin2 = area_annuli2/(pix_per_arcsec*60)**2\n",
    "aa2 = area_arcmin2"
   ]
  },
  {
   "cell_type": "code",
   "execution_count": 44,
   "metadata": {},
   "outputs": [],
   "source": [
    "binned_surface_density_30f = binned_surface_density_30.flatten()\n",
    "model_counts_galf = model_counts_gal.flatten()\n",
    "model_counts_galft = model_counts_gal_t.flatten()\n",
    "model_counts_galf2 = model_counts_gal2.flatten()\n",
    "model_counts_galf3 = model_counts_gal3.flatten()\n",
    "# model_counts_expf = model_counts_exp.flatten()\n",
    "data_1d = [binned_surface_density_30f[r1v].sum()/aa[0],\n",
    "           binned_surface_density_30f[r2v].sum()/aa[1],\n",
    "           binned_surface_density_30f[r3v].sum()/aa[2],\n",
    "           binned_surface_density_30f[r4v].sum()/aa[3],\n",
    "           binned_surface_density_30f[r5v].sum()/aa[4],\n",
    "           binned_surface_density_30f[r6v].sum()/aa[5],\n",
    "           binned_surface_density_30f[r7v].sum()/aa[6],\n",
    "           binned_surface_density_30f[r8v].sum()/aa[7],\n",
    "           binned_surface_density_30f[r9v].sum()/aa[8],\n",
    "           binned_surface_density_30f[r10v].sum()/aa[9]]\n",
    "\n",
    "model_1d = [model_counts_galf[r1v].sum()/aa[0],\n",
    "            model_counts_galf[r2v].sum()/aa[1],\n",
    "            model_counts_galf[r3v].sum()/aa[2],\n",
    "            model_counts_galf[r4v].sum()/aa[3],\n",
    "            model_counts_galf[r5v].sum()/aa[4],\n",
    "            model_counts_galf[r6v].sum()/aa[5],\n",
    "            model_counts_galf[r7v].sum()/aa[6],\n",
    "            model_counts_galf[r8v].sum()/aa[7],\n",
    "            model_counts_galf[r9v].sum()/aa[8],\n",
    "            model_counts_galf[r10v].sum()/aa[9]]\n",
    "\n",
    "model_1dt = [model_counts_galft[r1t].sum()/aa2[0],\n",
    "            model_counts_galft[r2t].sum()/aa2[1],\n",
    "            model_counts_galft[r3t].sum()/aa2[2],\n",
    "            model_counts_galft[r4t].sum()/aa2[3],\n",
    "            model_counts_galft[r5t].sum()/aa2[4],\n",
    "            model_counts_galft[r6t].sum()/aa2[5],\n",
    "            model_counts_galft[r7t].sum()/aa2[6],\n",
    "            model_counts_galft[r8t].sum()/aa2[7],\n",
    "            model_counts_galft[r9t].sum()/aa2[8],\n",
    "            model_counts_galft[r10t].sum()/aa2[9]]\n",
    "\n",
    "model_1d2 = [model_counts_galf2[r1v].sum()/aa[0],\n",
    "            model_counts_galf2[r2v].sum()/aa[1],\n",
    "            model_counts_galf2[r3v].sum()/aa[2],\n",
    "            model_counts_galf2[r4v].sum()/aa[3],\n",
    "            model_counts_galf2[r5v].sum()/aa[4],\n",
    "            model_counts_galf2[r6v].sum()/aa[5],\n",
    "            model_counts_galf2[r7v].sum()/aa[6],\n",
    "            model_counts_galf2[r8v].sum()/aa[7],\n",
    "            model_counts_galf2[r9v].sum()/aa[8],\n",
    "            model_counts_galf2[r10v].sum()/aa[9]]\n",
    "\n",
    "model_1d3 = [model_counts_galf3[r1v].sum()/aa[0],\n",
    "            model_counts_galf3[r2v].sum()/aa[1],\n",
    "            model_counts_galf3[r3v].sum()/aa[2],\n",
    "            model_counts_galf3[r4v].sum()/aa[3],\n",
    "            model_counts_galf3[r5v].sum()/aa[4],\n",
    "            model_counts_galf3[r6v].sum()/aa[5],\n",
    "            model_counts_galf3[r7v].sum()/aa[6],\n",
    "            model_counts_galf3[r8v].sum()/aa[7],\n",
    "            model_counts_galf3[r9v].sum()/aa[8],\n",
    "            model_counts_galf3[r10v].sum()/aa[9]]"
   ]
  },
  {
   "cell_type": "code",
   "execution_count": 46,
   "metadata": {},
   "outputs": [
    {
     "data": {
      "image/png": "[encoded data removed]",
      "text/plain": [
       "<Figure size 648x504 with 1 Axes>"
      ]
     },
     "metadata": {
      "needs_background": "light"
     },
     "output_type": "display_data"
    }
   ],
   "source": [
    "fig, ax = plt.subplots(figsize=(9,7))\n",
    "\n",
    "ax.plot(dist_x,data_1d,label='Data')\n",
    "ax.plot(dist_x,model_1d,label='Model Plummer - 6000')\n",
    "ax.plot(dist_x,model_1d2,label='Model Plummer - 9000')\n",
    "ax.plot(dist_x,model_1d3,label='Model Plummer - 4000')\n",
    "ax.plot(dist_x,model_1dt,label='Model Plummer - 6000, my param')\n",
    "# ax.plot(dist_x,model_1de,label='Model Exp')\n",
    "\n",
    "ax.set_xscale('log')\n",
    "ax.set_yscale('log')\n",
    "\n",
    "ax.set_ylabel(r'log[$\\Sigma_N$ (stars arcmin$^{-2}$)]',fontsize=16)\n",
    "ax.set_xlabel(r'log[R (arcmin)]',fontsize=16)\n",
    "ax.set_title('Sgr II',fontsize=20)\n",
    "\n",
    "ax.set_xticks([1, 2])\n",
    "ax.get_xaxis().set_major_formatter(mpl.ticker.ScalarFormatter())\n",
    "\n",
    "ax.set_yticks([1e+2, 1e+3])\n",
    "ax.get_yaxis().set_major_formatter(mpl.ticker.ScalarFormatter())\n",
    "\n",
    "ax.legend()\n",
    "plt.savefig('figures/sgr2_1802rich.png')\n",
    "plt.show()"
   ]
  }
 ],
 "metadata": {
  "kernelspec": {
   "display_name": "Python 3",
   "language": "python",
   "name": "python3"
  },
  "language_info": {
   "codemirror_mode": {
    "name": "ipython",
    "version": 3
   },
   "file_extension": ".py",
   "mimetype": "text/x-python",
   "name": "python",
   "nbconvert_exporter": "python",
   "pygments_lexer": "ipython3",
   "version": "3.7.6"
  }
 },
 "nbformat": 4,
 "nbformat_minor": 4
}
