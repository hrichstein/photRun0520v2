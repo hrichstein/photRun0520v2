{
 "cells": [
  {
   "cell_type": "code",
   "execution_count": 1,
   "metadata": {},
   "outputs": [],
   "source": [
    "import numpy as np\n",
    "import _pickle as cPickle\n",
    "import matplotlib.pyplot as plt\n",
    "from astropy.io import ascii\n",
    "import matplotlib as mpl"
   ]
  },
  {
   "cell_type": "code",
   "execution_count": 2,
   "metadata": {},
   "outputs": [],
   "source": [
    "def median_interval(data, alpha=0.32):\n",
    "    \"\"\"\n",
    "    Median including Bayesian credible interval.\n",
    "\n",
    "    Parameters\n",
    "    ----------\n",
    "    data  : posterior samples\n",
    "    alpha : 1 - confidence interval\n",
    "\n",
    "    Returns\n",
    "    -------\n",
    "    [med,[lo, hi]] : median, lower, and upper percentiles\n",
    "    \n",
    "    \"\"\"\n",
    "    q = [100*alpha/2., 50, 100*(1-alpha/2.)]\n",
    "    lo,med,hi = np.percentile(data,q)\n",
    "    \n",
    "    return [med,[lo,hi]]"
   ]
  },
  {
   "cell_type": "code",
   "execution_count": 3,
   "metadata": {},
   "outputs": [],
   "source": [
    "def returnPDF(rich,x0,y0,gal_ext_pix,gal_ell,gal_pa):\n",
    "    \n",
    "    costh = np.cos(-1 * np.deg2rad(gal_pa))\n",
    "    sinth = np.sin(-1 * np.deg2rad(gal_pa))\n",
    "\n",
    "    dx = xbin - x0\n",
    "    dy = ybin - y0\n",
    "\n",
    "    r1 = (dx * costh - dy * sinth) / (1 - gal_ell)\n",
    "    r2 = (dx * sinth + dy * costh)\n",
    "\n",
    "    radius = np.sqrt(r1**2 + r2**2)\n",
    "    \n",
    "    r_h = gal_ext_pix\n",
    "    norm = r_h**2 / (np.pi * (1-gal_ell))\n",
    "    # half light radius squared / (pi * 1-ell)\n",
    "    pdf = norm/((radius**2 + r_h**2)**2)\n",
    "    \n",
    "    arr = np.array([0,0.1,0.2,0.3,0.4,0.5,0.6,0.7,0.8,0.9])\n",
    "    r_annuli = (arr + 0.05) * r_h\n",
    "\n",
    "    # .05r_h, .15r_h\n",
    "    area_annuli = np.pi * ( (r_annuli + (0.05*r_h))**2 - (r_annuli - (0.05*r_h))**2) * (1-gal_ell)\n",
    "    \n",
    "    pix_per_arcsec=20\n",
    "    area_arcmin = area_annuli/(pix_per_arcsec*60)**2\n",
    "    \n",
    "    aa = area_arcmin\n",
    "\n",
    "    return pdf, radius, aa\n"
   ]
  },
  {
   "cell_type": "code",
   "execution_count": 4,
   "metadata": {},
   "outputs": [],
   "source": [
    "xbin0 = np.ones((267,1))  # (fltarr(267)+1)\n",
    "xbin1 = np.ones((1,267))  \n",
    "xbin1[0] = np.arange(0,267,1)\n",
    "xbin2 = xbin1 * 30 + 15  # (findgen(267)*30. + 15)\n",
    "xbin = np.matmul(xbin0,xbin2)\n",
    "ybin = xbin.T\n",
    "\n",
    "# creating x and y arrays to represent the bins across the image"
   ]
  },
  {
   "cell_type": "code",
   "execution_count": 5,
   "metadata": {},
   "outputs": [],
   "source": [
    "xdel = 30.\n",
    "ydel = 30.\n",
    "pixarea = xdel*ydel  # pixel area in each bin"
   ]
  },
  {
   "cell_type": "code",
   "execution_count": 6,
   "metadata": {
    "scrolled": true
   },
   "outputs": [
    {
     "name": "stdout",
     "output_type": "stream",
     "text": [
      "[14794.44339013712, 157.7273085016841, 150.77800740169005, 4008.153035122044, 22.8879428929381, 21.51425092634736, 3691.637282342737, 15.344826752084373, 15.053022206633159, 2548.6645355921128, 37.65204413508445, 33.67722868613919, 0.22735713130840676, 0.013626216072110203, 0.012223969679549446, 78.79415114112807, 1.6031123739009416, 1.5238732338333847]\n"
     ]
    }
   ],
   "source": [
    "samples_mask = cPickle.load( open( \"eri2mcmcFullMask2002-2.p\", \"rb\" ) )\n",
    "#MEDIAN VALUES AND +/-1 SIGMA FOR EACH FIT PARAMETER\n",
    "rich_m,[rich_min,rich_max] = median_interval(samples_mask[:,0])\n",
    "x_m,[xmin,xmax] = median_interval(samples_mask[:,1])\n",
    "y_m,[ymin,ymax] = median_interval(samples_mask[:,2])\n",
    "eri2_ext_fit_m,[eri2_ext_min,eri2_ext_max] = median_interval(samples_mask[:,3])\n",
    "eri2_ell_fit_m,[eri2_ell_min,eri2_ell_max] = median_interval(samples_mask[:,4])\n",
    "eri2_pa_fit_m,[eri2_pa_min,eri2_pa_max] = median_interval(samples_mask[:,5])\n",
    "\n",
    "res = [rich_m,rich_max-rich_m,rich_m-rich_min,x_m,xmax-x_m,x_m-xmin,y_m,ymax-y_m,y_m-ymin,\n",
    "           eri2_ext_fit_m,eri2_ext_max-eri2_ext_fit_m,eri2_ext_fit_m-eri2_ext_min,\n",
    "           eri2_ell_fit_m,eri2_ell_max-eri2_ell_fit_m,eri2_ell_fit_m-eri2_ell_min,\n",
    "           eri2_pa_fit_m,eri2_pa_max-eri2_pa_fit_m,eri2_pa_fit_m-eri2_pa_min]\n",
    "\n",
    "print(res)"
   ]
  },
  {
   "cell_type": "code",
   "execution_count": 7,
   "metadata": {},
   "outputs": [],
   "source": [
    "pdf_mask, rad_mask, aa_mask = returnPDF(rich_m,x_m,y_m,eri2_ext_fit_m,\n",
    "                                        eri2_ell_fit_m,eri2_pa_fit_m)"
   ]
  },
  {
   "cell_type": "code",
   "execution_count": 8,
   "metadata": {},
   "outputs": [
    {
     "name": "stdout",
     "output_type": "stream",
     "text": [
      "[14780.062447307018, 172.10825133178514, 142.46725794966915, 4006.2482789745254, 20.009706682636534, 18.455461136553822, 3693.452587488708, 14.812848466800915, 14.998999129837557, 2546.6875100662646, 32.65788844119743, 32.390933245908855, 0.22627813525163698, 0.010686862900533778, 0.011092779458008378, 78.645179721305, 1.5560801822001764, 1.5573098051294494]\n"
     ]
    }
   ],
   "source": [
    "samples_noMask = cPickle.load( open( \"eri2mcmcnoMask2002.p\", \"rb\" ) )\n",
    "#MEDIAN VALUES AND +/-1 SIGMA FOR EACH FIT PARAMETER\n",
    "rich_nm,[rich_min,richa_noMx] = median_interval(samples_noMask[:,0])\n",
    "x_nm,[xmin,xmax] = median_interval(samples_noMask[:,1])\n",
    "y_nm,[ymin,ymax] = median_interval(samples_noMask[:,2])\n",
    "eri2_ext_fit_nm,[eri2_ext_min,eri2_ext_max] = median_interval(samples_noMask[:,3])\n",
    "eri2_ell_fit_nm,[eri2_ell_min,eri2_ell_max] = median_interval(samples_noMask[:,4])\n",
    "eri2_pa_fit_nm,[eri2_pa_min,eri2_pa_max] = median_interval(samples_noMask[:,5])\n",
    "\n",
    "res_noMask = [rich_nm,rich_max-rich_nm,rich_nm-rich_min,x_nm,xmax-x_nm,x_nm-xmin,y_nm,ymax-y_nm,y_nm-ymin,\n",
    "           eri2_ext_fit_nm,eri2_ext_max-eri2_ext_fit_nm,eri2_ext_fit_nm-eri2_ext_min,\n",
    "           eri2_ell_fit_nm,eri2_ell_max-eri2_ell_fit_nm,eri2_ell_fit_nm-eri2_ell_min,\n",
    "           eri2_pa_fit_nm,eri2_pa_max-eri2_pa_fit_nm,eri2_pa_fit_nm-eri2_pa_min]\n",
    "print(res_noMask)"
   ]
  },
  {
   "cell_type": "code",
   "execution_count": 9,
   "metadata": {},
   "outputs": [],
   "source": [
    "pdf_noMask, rad_noMask, aa_noMask = returnPDF(rich_nm,x_nm,y_nm,eri2_ext_fit_nm,\n",
    "                                        eri2_ell_fit_nm,eri2_pa_fit_nm)"
   ]
  },
  {
   "cell_type": "code",
   "execution_count": 10,
   "metadata": {},
   "outputs": [],
   "source": [
    "model_counts_eri2_mask = rich_m*pdf_mask*pixarea  # a 267x267 array"
   ]
  },
  {
   "cell_type": "code",
   "execution_count": 11,
   "metadata": {},
   "outputs": [],
   "source": [
    "model_counts_eri2_noMask = rich_nm*pdf_noMask*pixarea  # a 267x267 array"
   ]
  },
  {
   "cell_type": "code",
   "execution_count": 12,
   "metadata": {},
   "outputs": [],
   "source": [
    "cat = ascii.read(\"eri2cut.cat\")  \n",
    "\n",
    "xgood=cat[cat.colnames[0]]\n",
    "ygood=cat[cat.colnames[1]]\n",
    "m606=cat[cat.colnames[2]]\n",
    "dm606=cat[cat.colnames[3]]\n",
    "m814=cat[cat.colnames[4]]\n",
    "dm814=cat[cat.colnames[5]]\n",
    "flag=cat[cat.colnames[6]]"
   ]
  },
  {
   "cell_type": "code",
   "execution_count": 13,
   "metadata": {},
   "outputs": [],
   "source": [
    "# Observed surface density map\n",
    "binned_surface_density_30 = np.zeros((267,267))\n",
    "for ii in range(267):\n",
    "    for jj in range(267):\n",
    "        idx = np.logical_and(np.logical_and(xgood >= (30 * ii),xgood <= (30 * (ii + 1))),\n",
    "                     np.logical_and(ygood >= (30 * jj),ygood <= (30 * (jj + 1))))\n",
    "\n",
    "        tmp = np.where(idx)[0]\n",
    "#         # flipping ii and jj because in IDL, it's col, row.\n",
    "        binned_surface_density_30[jj,ii] = len(tmp)"
   ]
  },
  {
   "cell_type": "code",
   "execution_count": 14,
   "metadata": {},
   "outputs": [],
   "source": [
    "# Define annuli\n",
    "radius1=rad_noMask.flatten()\n",
    "r_h = eri2_ext_fit_nm\n",
    "r1 = np.where(radius1 < (0.1 * r_h))[0]\n",
    "r2 = np.where((radius1 < (0.2 * r_h)) & (radius1 >= (0.1 * r_h)))[0]\n",
    "r3 = np.where((radius1 < (0.3 * r_h)) & (radius1 >= (0.2 * r_h)))[0]\n",
    "r4 = np.where((radius1 < (0.4 * r_h)) & (radius1 >= (0.3 * r_h)))[0]\n",
    "r5 = np.where((radius1 < (0.5 * r_h)) & (radius1 >= (0.4 * r_h)))[0]\n",
    "r6 = np.where((radius1 < (0.6 * r_h)) & (radius1 >= (0.5 * r_h)))[0]\n",
    "r7 = np.where((radius1 < (0.7 * r_h)) & (radius1 >= (0.6 * r_h)))[0]\n",
    "r8 = np.where((radius1 < (0.8 * r_h)) & (radius1 >= (0.7 * r_h)))[0]\n",
    "r9 = np.where((radius1 < (0.9 * r_h)) & (radius1 >= (0.8 * r_h)))[0]\n",
    "r10 = np.where((radius1 < r_h) & (radius1 >= (0.9 * r_h)))[0]"
   ]
  },
  {
   "cell_type": "code",
   "execution_count": 15,
   "metadata": {},
   "outputs": [],
   "source": [
    "# Define annuli\n",
    "radius1_m=rad_mask.flatten()\n",
    "r_h_m = eri2_ext_fit_m\n",
    "r1_m = np.where(radius1_m< (0.1 * r_h_m))[0]\n",
    "r2_m = np.where((radius1_m< (0.2 * r_h_m)) & (radius1_m>= (0.1 * r_h_m)))[0]\n",
    "r3_m = np.where((radius1_m< (0.3 * r_h_m)) & (radius1_m>= (0.2 * r_h_m)))[0]\n",
    "r4_m = np.where((radius1_m< (0.4 * r_h_m)) & (radius1_m>= (0.3 * r_h_m)))[0]\n",
    "r5_m = np.where((radius1_m< (0.5 * r_h_m)) & (radius1_m>= (0.4 * r_h_m)))[0]\n",
    "r6_m = np.where((radius1_m< (0.6 * r_h_m)) & (radius1_m>= (0.5 * r_h_m)))[0]\n",
    "r7_m = np.where((radius1_m< (0.7 * r_h_m)) & (radius1_m>= (0.6 * r_h_m)))[0]\n",
    "r8_m = np.where((radius1_m< (0.8 * r_h_m)) & (radius1_m>= (0.7 * r_h_m)))[0]\n",
    "r9_m = np.where((radius1_m< (0.9 * r_h_m)) & (radius1_m>= (0.8 * r_h_m)))[0]\n",
    "r10_m = np.where((radius1_m< r_h_m) & (radius1_m>= (0.9 * r_h_m)))[0]"
   ]
  },
  {
   "cell_type": "code",
   "execution_count": 16,
   "metadata": {},
   "outputs": [],
   "source": [
    "binned_surface_density_30f = binned_surface_density_30.flatten()\n",
    "model_counts_eri2_mask_f = model_counts_eri2_mask.flatten()\n",
    "model_counts_eri2_noMask_f = model_counts_eri2_noMask.flatten()\n",
    "\n",
    "data_1d_m = [binned_surface_density_30f[r1_m].sum()/aa_mask[0],\n",
    "           binned_surface_density_30f[r2_m].sum()/aa_mask[1],\n",
    "           binned_surface_density_30f[r3_m].sum()/aa_mask[2],\n",
    "           binned_surface_density_30f[r4_m].sum()/aa_mask[3],\n",
    "           binned_surface_density_30f[r5_m].sum()/aa_mask[4],\n",
    "           binned_surface_density_30f[r6_m].sum()/aa_mask[5],\n",
    "           binned_surface_density_30f[r7_m].sum()/aa_mask[6],\n",
    "           binned_surface_density_30f[r8_m].sum()/aa_mask[7],\n",
    "           binned_surface_density_30f[r9_m].sum()/aa_mask[8],\n",
    "           binned_surface_density_30f[r10_m].sum()/aa_mask[9]]\n",
    "\n",
    "data_1d_nm = [binned_surface_density_30f[r1].sum()/aa_noMask[0],\n",
    "           binned_surface_density_30f[r2].sum()/aa_noMask[1],\n",
    "           binned_surface_density_30f[r3].sum()/aa_noMask[2],\n",
    "           binned_surface_density_30f[r4].sum()/aa_noMask[3],\n",
    "           binned_surface_density_30f[r5].sum()/aa_noMask[4],\n",
    "           binned_surface_density_30f[r6].sum()/aa_noMask[5],\n",
    "           binned_surface_density_30f[r7].sum()/aa_noMask[6],\n",
    "           binned_surface_density_30f[r8].sum()/aa_noMask[7],\n",
    "           binned_surface_density_30f[r9].sum()/aa_noMask[8],\n",
    "           binned_surface_density_30f[r10].sum()/aa_noMask[9]]\n",
    "\n",
    "model_1d_nm = [model_counts_eri2_noMask_f[r1].sum()/aa_noMask[0],\n",
    "            model_counts_eri2_noMask_f[r2].sum()/aa_noMask[1],\n",
    "            model_counts_eri2_noMask_f[r3].sum()/aa_noMask[2],\n",
    "            model_counts_eri2_noMask_f[r4].sum()/aa_noMask[3],\n",
    "            model_counts_eri2_noMask_f[r5].sum()/aa_noMask[4],\n",
    "            model_counts_eri2_noMask_f[r6].sum()/aa_noMask[5],\n",
    "            model_counts_eri2_noMask_f[r7].sum()/aa_noMask[6],\n",
    "            model_counts_eri2_noMask_f[r8].sum()/aa_noMask[7],\n",
    "            model_counts_eri2_noMask_f[r9].sum()/aa_noMask[8],\n",
    "            model_counts_eri2_noMask_f[r10].sum()/aa_noMask[9]]\n",
    "\n",
    "model_1d_m = [model_counts_eri2_mask_f[r1_m].sum()/aa_mask[0],\n",
    "            model_counts_eri2_mask_f[r2_m].sum()/aa_mask[1],\n",
    "            model_counts_eri2_mask_f[r3_m].sum()/aa_mask[2],\n",
    "            model_counts_eri2_mask_f[r4_m].sum()/aa_mask[3],\n",
    "            model_counts_eri2_mask_f[r5_m].sum()/aa_mask[4],\n",
    "            model_counts_eri2_mask_f[r6_m].sum()/aa_mask[5],\n",
    "            model_counts_eri2_mask_f[r7_m].sum()/aa_mask[6],\n",
    "            model_counts_eri2_mask_f[r8_m].sum()/aa_mask[7],\n",
    "            model_counts_eri2_mask_f[r9_m].sum()/aa_mask[8],\n",
    "            model_counts_eri2_mask_f[r10_m].sum()/aa_mask[9]]\n"
   ]
  },
  {
   "cell_type": "code",
   "execution_count": 17,
   "metadata": {},
   "outputs": [],
   "source": [
    "dist_x = np.array([r_h*0.1,r_h*0.2,r_h*0.3,r_h*0.4,r_h*0.5,r_h*0.6,r_h*0.7,r_h*0.8,r_h*0.9,r_h])/1200"
   ]
  },
  {
   "cell_type": "code",
   "execution_count": 18,
   "metadata": {},
   "outputs": [],
   "source": [
    "dist_x_m = np.array([r_h_m*0.1,r_h_m*0.2,r_h_m*0.3,r_h_m*0.4,r_h_m*0.5,r_h_m*0.6,r_h_m*0.7,r_h_m*0.8,r_h_m*0.9,r_h_m])/1200"
   ]
  },
  {
   "cell_type": "code",
   "execution_count": 19,
   "metadata": {},
   "outputs": [
    {
     "data": {
      "image/png": "[encoded data removed]",
      "text/plain": [
       "<Figure size 648x504 with 1 Axes>"
      ]
     },
     "metadata": {
      "needs_background": "light"
     },
     "output_type": "display_data"
    }
   ],
   "source": [
    "fig, ax = plt.subplots(figsize=(9,7))\n",
    "\n",
    "ax.plot(dist_x_m,data_1d_m,label='Data Masked Param',color='blue')\n",
    "ax.plot(dist_x,data_1d_nm,label='Data Non-Masked Param',color='hotpink')\n",
    "\n",
    "ax.plot(dist_x_m,model_1d_m,label='Model Masked Param',color='blue',linestyle='--')\n",
    "ax.plot(dist_x,model_1d_nm,label='Model Non-Masked Param',color='hotpink',linestyle='--')\n",
    "\n",
    "\n",
    "ax.set_xscale('log')\n",
    "ax.set_yscale('log')\n",
    "\n",
    "ax.set_ylabel(r'log[$\\Sigma_N$ (stars arcmin$^{-2}$)]',fontsize=16)\n",
    "ax.set_xlabel(r'log[R (arcmin)]',fontsize=16)\n",
    "ax.set_title('Eri II',fontsize=20)\n",
    "\n",
    "ax.set_xticks([1, 2])\n",
    "ax.get_xaxis().set_major_formatter(mpl.ticker.ScalarFormatter())\n",
    "\n",
    "ax.set_yticks([1e+2, 1e+3])\n",
    "ax.get_yaxis().set_major_formatter(mpl.ticker.ScalarFormatter())\n",
    "ax.set_ylim(300,2000)\n",
    "\n",
    "ax.legend()\n",
    "plt.savefig('figures/eri2_2202masks.png')\n",
    "plt.show()"
   ]
  }
 ],
 "metadata": {
  "kernelspec": {
   "display_name": "Python 3",
   "language": "python",
   "name": "python3"
  },
  "language_info": {
   "codemirror_mode": {
    "name": "ipython",
    "version": 3
   },
   "file_extension": ".py",
   "mimetype": "text/x-python",
   "name": "python",
   "nbconvert_exporter": "python",
   "pygments_lexer": "ipython3",
   "version": "3.7.6"
  }
 },
 "nbformat": 4,
 "nbformat_minor": 4
}
