{
 "cells": [
  {
   "cell_type": "code",
   "execution_count": 1,
   "metadata": {},
   "outputs": [],
   "source": [
    "import numpy as np\n",
    "import matplotlib.pyplot as plt\n",
    "\n",
    "import emcee\n",
    "import corner\n",
    "\n",
    "import _pickle as cPickle\n",
    "import matplotlib as mpl"
   ]
  },
  {
   "cell_type": "code",
   "execution_count": 2,
   "metadata": {},
   "outputs": [],
   "source": [
    "cat = np.genfromtxt('../forElena16Nov/SAGITTARIUS-II_cat16Nov.dat',names=True)"
   ]
  },
  {
   "cell_type": "code",
   "execution_count": 3,
   "metadata": {},
   "outputs": [],
   "source": [
    "xgood = cat['x_f606w']\n",
    "ygood = cat['y_f606w']\n",
    "m606 = cat['magr_f606w']\n",
    "dm606 = cat['err_f606w']\n",
    "m814 = cat['magr_f814w']\n",
    "dm814 = cat['err_f814w']"
   ]
  },
  {
   "cell_type": "code",
   "execution_count": 4,
   "metadata": {},
   "outputs": [],
   "source": [
    "def median_interval(data, alpha=0.32):\n",
    "    \"\"\"\n",
    "    Median including Bayesian credible interval.\n",
    "\n",
    "    Parameters\n",
    "    ----------\n",
    "    data  : posterior samples\n",
    "    alpha : 1 - confidence interval\n",
    "\n",
    "    Returns\n",
    "    -------\n",
    "    [med,[lo, hi]] : median, lower, and upper percentiles\n",
    "    \n",
    "    \"\"\"\n",
    "    q = [100*alpha/2., 50, 100*(1-alpha/2.)]\n",
    "    lo,med,hi = np.percentile(data,q)\n",
    "    return [med,[lo,hi]]"
   ]
  },
  {
   "cell_type": "code",
   "execution_count": 5,
   "metadata": {},
   "outputs": [],
   "source": [
    "def returnPDF(rich,x0,y0,gal_ext_pix,gal_ell,gal_pa):\n",
    "    \n",
    "    costh = np.cos(-1 * np.deg2rad(gal_pa))\n",
    "    sinth = np.sin(-1 * np.deg2rad(gal_pa))\n",
    "\n",
    "    dx = xbin - x0\n",
    "    dy = ybin - y0\n",
    "\n",
    "    r1 = (dx * costh - dy * sinth) / (1 - gal_ell)\n",
    "    r2 = (dx * sinth + dy * costh)\n",
    "\n",
    "    radius = np.sqrt(r1**2 + r2**2)\n",
    "    \n",
    "    r_h = gal_ext_pix\n",
    "    norm = r_h**2 / (np.pi * (1-gal_ell))\n",
    "    # half light radius squared / (pi * 1-ell)\n",
    "    pdf = norm/((radius**2 + r_h**2)**2)\n",
    "    \n",
    "    arr = np.array([0,0.1,0.2,0.3,0.4,0.5,0.6,0.7,0.8,0.9])\n",
    "    r_annuli = (arr + 0.05) * r_h\n",
    "\n",
    "    # .05r_h, .15r_h\n",
    "    area_annuli = np.pi * ( (r_annuli + (0.05*r_h))**2 - (r_annuli - (0.05*r_h))**2) * (1-gal_ell)\n",
    "    \n",
    "#     pix_per_arcsec=20\n",
    "#     area_arcmin = area_annuli/(pix_per_arcsec*60)**2\n",
    "    \n",
    "    aa = area_annuli # trying. to do everything in pixel space right now\n",
    "\n",
    "    return pdf, radius, aa\n"
   ]
  },
  {
   "cell_type": "code",
   "execution_count": 6,
   "metadata": {},
   "outputs": [
    {
     "name": "stdout",
     "output_type": "stream",
     "text": [
      "[7797.203862521483, 175.1170013876881, 169.9691550171883, 2329.9465406833224, 23.077491706560068, 23.190543779932796, 2181.2670905972664, 27.52270906633248, 27.484441464997417, 2216.950480728354, 62.63551251306626, 60.09283508331464, 0.14159011019323087, 0.02659166698660012, 0.027261593328883893, -16.455886266280395, 5.2845732523603814, 5.6478025933461815]\n"
     ]
    }
   ],
   "source": [
    "samples_h = cPickle.load( open( \"sag2mcmcPL1902-2.p\", \"rb\" ) )\n",
    "#MEDIAN VALUES AND +/-1 SIGMA FOR EACH FIT PARAMETER\n",
    "rich_h,[rich_min,rich_max] = median_interval(samples_h[:,0])\n",
    "x_h,[xmin,xmax] = median_interval(samples_h[:,1])\n",
    "y_h,[ymin,ymax] = median_interval(samples_h[:,2])\n",
    "sag2_ext_fit_h,[sag2_ext_min,sag2_ext_max] = median_interval(samples_h[:,3])\n",
    "sag2_ell_fit_h,[sag2_ell_min,sag2_ell_max] = median_interval(samples_h[:,4])\n",
    "sag2_pa_fit_h,[sag2_pa_min,sag2_pa_max] = median_interval(samples_h[:,5])\n",
    "\n",
    "res = [rich_h,rich_max-rich_h,rich_h-rich_min,x_h,xmax-x_h,x_h-xmin,y_h,ymax-y_h,y_h-ymin,\n",
    "           sag2_ext_fit_h,sag2_ext_max-sag2_ext_fit_h,sag2_ext_fit_h-sag2_ext_min,\n",
    "           sag2_ell_fit_h,sag2_ell_max-sag2_ell_fit_h,sag2_ell_fit_h-sag2_ell_min,\n",
    "           sag2_pa_fit_h,sag2_pa_max-sag2_pa_fit_h,sag2_pa_fit_h-sag2_pa_min]\n",
    "\n",
    "print(res)"
   ]
  },
  {
   "cell_type": "code",
   "execution_count": 7,
   "metadata": {},
   "outputs": [
    {
     "name": "stdout",
     "output_type": "stream",
     "text": [
      "[11058.514800217721, 410.80570512263694, 384.54375710644854, 2449.699861527494, 34.908823537881744, 33.60034012419965, 2313.4310797801118, 38.567992124142165, 37.616934485424736, 2747.509317185759, 115.06638174281034, 103.9546230160372, 0.09916711817333089, 0.0441457761467164, 0.0474369229317573, -4.664992553440199, 10.716709517610987, 11.33436094542974]\n"
     ]
    }
   ],
   "source": [
    "samples_m = cPickle.load( open( \"sag2mcmcPL2202-mask.p\", \"rb\" ) )\n",
    "#MEDIAN VALUES AND +/-1 SIGMA FOR EACH FIT PARAMETER\n",
    "rich_m,[rich_min,rich_max] = median_interval(samples_m[:,0])\n",
    "x_m,[xmin,xmax] = median_interval(samples_m[:,1])\n",
    "y_m,[ymin,ymax] = median_interval(samples_m[:,2])\n",
    "sag2_ext_fit_m,[sag2_ext_min,sag2_ext_max] = median_interval(samples_m[:,3])\n",
    "sag2_ell_fit_m,[sag2_ell_min,sag2_ell_max] = median_interval(samples_m[:,4])\n",
    "sag2_pa_fit_m,[sag2_pa_min,sag2_pa_max] = median_interval(samples_m[:,5])\n",
    "\n",
    "res = [rich_m,rich_max-rich_m,rich_m-rich_min,x_m,xmax-x_m,x_m-xmin,y_m,ymax-y_m,y_m-ymin,\n",
    "           sag2_ext_fit_m,sag2_ext_max-sag2_ext_fit_m,sag2_ext_fit_m-sag2_ext_min,\n",
    "           sag2_ell_fit_m,sag2_ell_max-sag2_ell_fit_m,sag2_ell_fit_m-sag2_ell_min,\n",
    "           sag2_pa_fit_m,sag2_pa_max-sag2_pa_fit_m,sag2_pa_fit_m-sag2_pa_min]\n",
    "\n",
    "print(res)"
   ]
  },
  {
   "cell_type": "code",
   "execution_count": 8,
   "metadata": {},
   "outputs": [],
   "source": [
    "# richness = 6071 +720/-960  [seems large, given the total number of stars in the catalog]\n",
    "# x_center = 2527 + 47/-45\n",
    "# y_center = 2235 +53/-51\n",
    "# rhalf = 2677 +195/-202 -> 2.23’\n",
    "# ellip = 0.14 +0.05/-0.06   [maybe marginally consistent with published limits]\n",
    "# PA = -8 +11/-12"
   ]
  },
  {
   "cell_type": "code",
   "execution_count": 9,
   "metadata": {},
   "outputs": [],
   "source": [
    "xbin0 = np.ones((179,1))  # (fltarr(267)+1)\n",
    "xbin1 = np.ones((1,179))  \n",
    "xbin1[0] = np.arange(0,179,1)\n",
    "xbin2 = xbin1 * 30 + 15  # (findgen(267)*30. + 15)\n",
    "xbin = np.matmul(xbin0,xbin2)\n",
    "ybin = xbin.T\n",
    "\n",
    "xdel = 30.\n",
    "ydel = 30.\n",
    "pixarea = xdel*ydel  # pixel area in each bin"
   ]
  },
  {
   "cell_type": "code",
   "execution_count": 10,
   "metadata": {},
   "outputs": [],
   "source": [
    "pdf_h, rad_h, aa_h = returnPDF(rich_h,x_h,y_h,sag2_ext_fit_h,\n",
    "                                        sag2_ell_fit_h,sag2_pa_fit_h)"
   ]
  },
  {
   "cell_type": "code",
   "execution_count": 11,
   "metadata": {},
   "outputs": [],
   "source": [
    "pdf_m, rad_m, aa_m = returnPDF(rich_m,x_m,y_m,sag2_ext_fit_m,\n",
    "                                        sag2_ell_fit_m,sag2_pa_fit_m)"
   ]
  },
  {
   "cell_type": "code",
   "execution_count": 12,
   "metadata": {},
   "outputs": [],
   "source": [
    "model_counts_h = rich_h*pdf_h*pixarea  # a 179x179 array\n",
    "model_counts_m = rich_m*pdf_m*pixarea  # a 179x179 array"
   ]
  },
  {
   "cell_type": "code",
   "execution_count": 13,
   "metadata": {},
   "outputs": [],
   "source": [
    "# Observed surface density map\n",
    "binned_surface_density_30 = np.zeros((179,179))\n",
    "for ii in range(179):\n",
    "    for jj in range(179):\n",
    "        idx = np.logical_and(np.logical_and(xgood >= (30 * ii),xgood <= (30 * (ii + 1))),\n",
    "                     np.logical_and(ygood >= (30 * jj),ygood <= (30 * (jj + 1))))\n",
    "\n",
    "        tmp = np.where(idx)[0]\n",
    "#         # flipping ii and jj because in IDL, it's col, row.\n",
    "        binned_surface_density_30[jj,ii] = len(tmp)"
   ]
  },
  {
   "cell_type": "code",
   "execution_count": 14,
   "metadata": {},
   "outputs": [],
   "source": [
    "# Define annuli\n",
    "radiusH=rad_h.flatten()\n",
    "r_h_h = sag2_ext_fit_h\n",
    "r1_h = np.where(radiusH < (0.1 * r_h_h))[0]\n",
    "r2_h = np.where((radiusH < (0.2 * r_h_h)) & (radiusH >= (0.1 * r_h_h)))[0]\n",
    "r3_h = np.where((radiusH < (0.3 * r_h_h)) & (radiusH >= (0.2 * r_h_h)))[0]\n",
    "r4_h = np.where((radiusH < (0.4 * r_h_h)) & (radiusH >= (0.3 * r_h_h)))[0]\n",
    "r5_h = np.where((radiusH < (0.5 * r_h_h)) & (radiusH >= (0.4 * r_h_h)))[0]\n",
    "r6_h = np.where((radiusH < (0.6 * r_h_h)) & (radiusH >= (0.5 * r_h_h)))[0]\n",
    "r7_h = np.where((radiusH < (0.7 * r_h_h)) & (radiusH >= (0.6 * r_h_h)))[0]\n",
    "r8_h = np.where((radiusH < (0.8 * r_h_h)) & (radiusH >= (0.7 * r_h_h)))[0]\n",
    "r9_h = np.where((radiusH < (0.9 * r_h_h)) & (radiusH >= (0.8 * r_h_h)))[0]\n",
    "r10_h = np.where((radiusH < r_h_h) & (radiusH >= (0.9 * r_h_h)))[0]"
   ]
  },
  {
   "cell_type": "code",
   "execution_count": 15,
   "metadata": {},
   "outputs": [],
   "source": [
    "r0_c = np.where(radiusH < (0.1 * r_h_h))[0]\n",
    "aa_c = np.pi * (r0_c )**2 * (1-sag2_ell_fit_h)"
   ]
  },
  {
   "cell_type": "code",
   "execution_count": 16,
   "metadata": {},
   "outputs": [],
   "source": [
    "# Define annuli\n",
    "radiusM=rad_m.flatten()\n",
    "r_h_m = sag2_ext_fit_m\n",
    "r1_m = np.where(radiusM < (0.1 * r_h_m))[0]\n",
    "r2_m = np.where((radiusM < (0.2 * r_h_m)) & (radiusM >= (0.1 * r_h_m)))[0]\n",
    "r3_m = np.where((radiusM < (0.3 * r_h_m)) & (radiusM >= (0.2 * r_h_m)))[0]\n",
    "r4_m = np.where((radiusM < (0.4 * r_h_m)) & (radiusM >= (0.3 * r_h_m)))[0]\n",
    "r5_m = np.where((radiusM < (0.5 * r_h_m)) & (radiusM >= (0.4 * r_h_m)))[0]\n",
    "r6_m = np.where((radiusM < (0.6 * r_h_m)) & (radiusM >= (0.5 * r_h_m)))[0]\n",
    "r7_m = np.where((radiusM < (0.7 * r_h_m)) & (radiusM >= (0.6 * r_h_m)))[0]\n",
    "r8_m = np.where((radiusM < (0.8 * r_h_m)) & (radiusM >= (0.7 * r_h_m)))[0]\n",
    "r9_m = np.where((radiusM < (0.9 * r_h_m)) & (radiusM >= (0.8 * r_h_m)))[0]\n",
    "r10_m = np.where((radiusM < r_h_m) & (radiusM >= (0.9 * r_h_m)))[0]"
   ]
  },
  {
   "cell_type": "code",
   "execution_count": 17,
   "metadata": {},
   "outputs": [],
   "source": [
    "binned_surface_density_30f = binned_surface_density_30.flatten()\n",
    "model_counts_sag2_h_f = model_counts_h.flatten()\n",
    "model_counts_sag2_m_f = model_counts_m.flatten()"
   ]
  },
  {
   "cell_type": "code",
   "execution_count": 18,
   "metadata": {},
   "outputs": [],
   "source": [
    "rho0 = binned_surface_density_30f[r0_c].sum()/aa_c[0]"
   ]
  },
  {
   "cell_type": "code",
   "execution_count": 19,
   "metadata": {},
   "outputs": [],
   "source": [
    "data_1d_h = [binned_surface_density_30f[r1_h].sum()/aa_h[0],\n",
    "           binned_surface_density_30f[r2_h].sum()/aa_h[1],\n",
    "           binned_surface_density_30f[r3_h].sum()/aa_h[2],\n",
    "           binned_surface_density_30f[r4_h].sum()/aa_h[3],\n",
    "           binned_surface_density_30f[r5_h].sum()/aa_h[4],\n",
    "           binned_surface_density_30f[r6_h].sum()/aa_h[5],\n",
    "           binned_surface_density_30f[r7_h].sum()/aa_h[6],\n",
    "           binned_surface_density_30f[r8_h].sum()/aa_h[7],\n",
    "           binned_surface_density_30f[r9_h].sum()/aa_h[8],\n",
    "           binned_surface_density_30f[r10_h].sum()/aa_h[9]]\n",
    "\n",
    "data_1d_m = [binned_surface_density_30f[r1_m].sum()/aa_m[0],\n",
    "           binned_surface_density_30f[r2_m].sum()/aa_m[1],\n",
    "           binned_surface_density_30f[r3_m].sum()/aa_m[2],\n",
    "           binned_surface_density_30f[r4_m].sum()/aa_m[3],\n",
    "           binned_surface_density_30f[r5_m].sum()/aa_m[4],\n",
    "           binned_surface_density_30f[r6_m].sum()/aa_m[5],\n",
    "           binned_surface_density_30f[r7_m].sum()/aa_m[6],\n",
    "           binned_surface_density_30f[r8_m].sum()/aa_m[7],\n",
    "           binned_surface_density_30f[r9_m].sum()/aa_m[8],\n",
    "           binned_surface_density_30f[r10_m].sum()/aa_m[9]]\n",
    "\n",
    "model_1d_h = [model_counts_sag2_h_f[r1_h].sum()/aa_h[0],\n",
    "            model_counts_sag2_h_f[r2_h].sum()/aa_h[1],\n",
    "            model_counts_sag2_h_f[r3_h].sum()/aa_h[2],\n",
    "            model_counts_sag2_h_f[r4_h].sum()/aa_h[3],\n",
    "            model_counts_sag2_h_f[r5_h].sum()/aa_h[4],\n",
    "            model_counts_sag2_h_f[r6_h].sum()/aa_h[5],\n",
    "            model_counts_sag2_h_f[r7_h].sum()/aa_h[6],\n",
    "            model_counts_sag2_h_f[r8_h].sum()/aa_h[7],\n",
    "            model_counts_sag2_h_f[r9_h].sum()/aa_h[8],\n",
    "            model_counts_sag2_h_f[r10_h].sum()/aa_h[9]]\n",
    "\n",
    "model_1d_m = [model_counts_sag2_m_f[r1_m].sum()/aa_m[0],\n",
    "            model_counts_sag2_m_f[r2_m].sum()/aa_m[1],\n",
    "            model_counts_sag2_m_f[r3_m].sum()/aa_m[2],\n",
    "            model_counts_sag2_m_f[r4_m].sum()/aa_m[3],\n",
    "            model_counts_sag2_m_f[r5_m].sum()/aa_m[4],\n",
    "            model_counts_sag2_m_f[r6_m].sum()/aa_m[5],\n",
    "            model_counts_sag2_m_f[r7_m].sum()/aa_m[6],\n",
    "            model_counts_sag2_m_f[r8_m].sum()/aa_m[7],\n",
    "            model_counts_sag2_m_f[r9_m].sum()/aa_m[8],\n",
    "            model_counts_sag2_m_f[r10_m].sum()/aa_m[9]]"
   ]
  },
  {
   "cell_type": "code",
   "execution_count": 20,
   "metadata": {},
   "outputs": [],
   "source": [
    "dist_h = np.array([r_h_h*0.1,r_h_h*0.2,r_h_h*0.3,r_h_h*0.4,r_h_h*0.5,r_h_h*0.6,r_h_h*0.7,r_h_h*0.8,r_h_h*0.9,r_h_h])\n",
    "dist_m = np.array([r_h_m*0.1,r_h_m*0.2,r_h_m*0.3,r_h_m*0.4,r_h_m*0.5,r_h_m*0.6,r_h_m*0.7,r_h_m*0.8,r_h_m*0.9,r_h_m])"
   ]
  },
  {
   "cell_type": "code",
   "execution_count": 21,
   "metadata": {},
   "outputs": [
    {
     "data": {
      "image/png": "[encoded data removed]",
      "text/plain": [
       "<Figure size 648x504 with 1 Axes>"
      ]
     },
     "metadata": {
      "needs_background": "light"
     },
     "output_type": "display_data"
    }
   ],
   "source": [
    "fig, ax = plt.subplots(figsize=(9,7))\n",
    "\n",
    "ax.plot(dist_h,data_1d_h,label='Data Non-Mask Param',color='blue')\n",
    "ax.plot(dist_m,data_1d_m,label='Data Masked Param',color='hotpink')\n",
    "\n",
    "ax.plot(dist_h,model_1d_h,label='Model Non-Mask Param',color='blue',linestyle='--')\n",
    "ax.plot(dist_m,model_1d_m,label='Model Masked Param',color='hotpink',linestyle='--')\n",
    "\n",
    "\n",
    "ax.set_xscale('log')\n",
    "ax.set_yscale('log')\n",
    "\n",
    "ax.set_ylabel(r'log[$\\Sigma_N$ (stars pixel$^{-2}$)]',fontsize=16)\n",
    "ax.set_xlabel(r'log[R (pixel)]',fontsize=16)\n",
    "ax.set_title('Sag II',fontsize=20)\n",
    "\n",
    "# ax.set_xticks([1, 2])\n",
    "# ax.get_xaxis().set_major_formatter(mpl.ticker.ScalarFormatter())\n",
    "\n",
    "# ax.set_yticks([1e+2, 1e+3])\n",
    "# ax.get_yaxis().set_major_formatter(mpl.ticker.ScalarFormatter())\n",
    "\n",
    "\n",
    "ax.legend()\n",
    "plt.savefig('figures/sgr2_2202mask.png')\n",
    "plt.show()"
   ]
  },
  {
   "cell_type": "code",
   "execution_count": 22,
   "metadata": {},
   "outputs": [],
   "source": [
    "from scipy.optimize import curve_fit"
   ]
  },
  {
   "cell_type": "code",
   "execution_count": 23,
   "metadata": {},
   "outputs": [],
   "source": [
    "rho0 = data_1d_h[0]"
   ]
  },
  {
   "cell_type": "code",
   "execution_count": 24,
   "metadata": {},
   "outputs": [],
   "source": [
    "def func(radius,a):\n",
    "    \n",
    "    val = rho0/(1 + (radius/a)**2)**(5/2)\n",
    "    \n",
    "    return val"
   ]
  },
  {
   "cell_type": "code",
   "execution_count": 25,
   "metadata": {},
   "outputs": [],
   "source": [
    "popt, _ = curve_fit(func,xdata=dist_h,ydata=data_1d_h,p0=r_h_h)\n"
   ]
  },
  {
   "cell_type": "code",
   "execution_count": 26,
   "metadata": {},
   "outputs": [],
   "source": [
    "# popt2, _ = curve_fit(func,xdata=dist_h,ydata=data_1d_h,p0=popt)"
   ]
  },
  {
   "cell_type": "code",
   "execution_count": 27,
   "metadata": {},
   "outputs": [
    {
     "data": {
      "image/png": "[encoded data removed]",
      "text/plain": [
       "<Figure size 648x504 with 1 Axes>"
      ]
     },
     "metadata": {
      "needs_background": "light"
     },
     "output_type": "display_data"
    }
   ],
   "source": [
    "fig,ax= plt.subplots(figsize=(9,7))\n",
    "\n",
    "y = func(dist_h,r_h_h)\n",
    "ax.set_yscale('log')\n",
    "ax.set_xscale('log')\n",
    "\n",
    "plt.plot(dist_h,y,label='MCMC r_h func')  # inputting MCMC r_h\n",
    "# into function that I am fitting to find r_h\n",
    "plt.plot(dist_h,model_1d_h,label='MCMC r_h model')  # what the MCMC\n",
    "# model looks like with r_h value\n",
    "plt.plot(dist_h,data_1d_h,label='Data')  # just the data\n",
    "plt.plot(dist_h,func(dist_h,popt),label='Fit r_h')  # what the fit\n",
    "# r_h ends up being\n",
    "\n",
    "\n",
    "ax.legend()\n",
    "\n",
    "plt.savefig('figures/rh_fitting.png')\n",
    "plt.show()"
   ]
  },
  {
   "cell_type": "code",
   "execution_count": 28,
   "metadata": {},
   "outputs": [
    {
     "data": {
      "text/plain": [
       "array([1.23572221])"
      ]
     },
     "execution_count": 28,
     "metadata": {},
     "output_type": "execute_result"
    }
   ],
   "source": [
    "popt/r_h_h"
   ]
  },
  {
   "cell_type": "code",
   "execution_count": 29,
   "metadata": {},
   "outputs": [
    {
     "name": "stdout",
     "output_type": "stream",
     "text": [
      "[2.28294579] arcmin\n",
      "1.8474587339402948 arcmin\n"
     ]
    }
   ],
   "source": [
    "#pixel/20 = arcsec\n",
    "#arcsec/60 = arcmin\n",
    "\n",
    "print(popt/1200,'arcmin')\n",
    "print(r_h_h/1200,'arcmin')"
   ]
  },
  {
   "cell_type": "code",
   "execution_count": 30,
   "metadata": {},
   "outputs": [],
   "source": [
    "# find value of central luminosity density\n",
    "# find # of stars in small area in center, divide by that area"
   ]
  }
 ],
 "metadata": {
  "kernelspec": {
   "display_name": "Python 3",
   "language": "python",
   "name": "python3"
  },
  "language_info": {
   "codemirror_mode": {
    "name": "ipython",
    "version": 3
   },
   "file_extension": ".py",
   "mimetype": "text/x-python",
   "name": "python",
   "nbconvert_exporter": "python",
   "pygments_lexer": "ipython3",
   "version": "3.7.6"
  }
 },
 "nbformat": 4,
 "nbformat_minor": 4
}
