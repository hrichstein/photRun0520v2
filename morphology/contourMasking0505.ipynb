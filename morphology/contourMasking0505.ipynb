{
 "cells": [
  {
   "cell_type": "code",
   "execution_count": 1,
   "metadata": {},
   "outputs": [],
   "source": [
    "#MCMC FIT TO HST DATA INCLUDING BOTH ERI II AND CLUSTER, BINNED BY 30 PIXELS, AND MASKED \n",
    "#APPROPRIATELY\n",
    "#PLUMMER PROFILE FOR ERI II, SERSIC PROFILE FOR CLUSTER\n",
    "#UPDATED TO FIT ALL MODEL PARAMETERS INSTEAD OF JUST RICHNESS AND CENTER POSITION\n",
    "import numpy as np\n",
    "import matplotlib.pyplot as plt\n",
    "from matplotlib.path import Path\n",
    "from matplotlib.patches import PathPatch\n",
    "from astropy import wcs\n",
    "from astropy.io import fits\n"
   ]
  },
  {
   "cell_type": "code",
   "execution_count": 2,
   "metadata": {},
   "outputs": [],
   "source": [
    "cat = np.genfromtxt('/Volumes/Spare Data/photRun0520/drcPhot29Apr/catDir_PEGASUS-III/PEGASUS-III_fullCat.dat',\n",
    "                    names=True)\n"
   ]
  },
  {
   "cell_type": "code",
   "execution_count": 4,
   "metadata": {},
   "outputs": [],
   "source": [
    "good = np.logical_and(np.logical_and(cat['magr_f606w']<=30,cat['magr_f606w']-cat['magr_f814w']<=0),np.logical_or(cat['six_4_flag_f606w'] == 1,\n",
    "                       cat['six_4_flag_f814w'] == 1))\n",
    "# good = np.logical_or(cat['six_4_flag_f606w'] == 1,\n",
    "#                        cat['six_4_flag_f814w'] == 1)\n",
    "\n",
    "#                     cat['magRaw_v']<26)\n",
    "\n",
    "# good = np.logical_and(cat['class_Star_i']>=0.8,\n",
    "#                       cat['class_Star_v']>=0.8)"
   ]
  },
  {
   "cell_type": "code",
   "execution_count": 5,
   "metadata": {},
   "outputs": [],
   "source": [
    "xgood = cat['xcenter_f606w'][good]\n",
    "ygood = cat['ycenter_f606w'][good]"
   ]
  },
  {
   "cell_type": "code",
   "execution_count": 3,
   "metadata": {},
   "outputs": [],
   "source": [
    "orientat = -106.8615917223524"
   ]
  },
  {
   "cell_type": "code",
   "execution_count": 6,
   "metadata": {},
   "outputs": [],
   "source": [
    "theta = np.deg2rad(orientat)\n",
    "c,s = np.cos(theta), np.sin(theta)"
   ]
  },
  {
   "cell_type": "code",
   "execution_count": 7,
   "metadata": {},
   "outputs": [],
   "source": [
    "#BEGIN DEFINITION OF A MASK DESCRIBING THE PORTIONS OF THE IMAGE IN WHICH THERE IS DATA\n",
    "\n",
    "IMAGE = Path([ [222, 4043], \n",
    "\t[1, 1], \n",
    "\t[4096, 101], \n",
    "\t[4217, 4245], \n",
    "\t[222, 4043]])\n",
    "\n",
    "GAP = Path([ [100, 2079], \n",
    "\t[106, 2034], \n",
    "\t[4156, 2183], \n",
    "\t[4151, 2231], \n",
    "\t[100, 2079]])\n",
    "\n",
    "\n",
    "\n",
    "IMG_BIT = 0b01\n",
    "GAP_BIT = 0b10"
   ]
  },
  {
   "cell_type": "code",
   "execution_count": 8,
   "metadata": {},
   "outputs": [],
   "source": [
    "xpath = np.array([222,1,4096,4217,222])\n",
    "ypath = np.array([4043,1,101,4245,4043])\n",
    "\n",
    "xgap = np.array([100,106,4156,4151,100])\n",
    "ygap = np.array([2079,2034,2183,2231,2079])"
   ]
  },
  {
   "cell_type": "code",
   "execution_count": 9,
   "metadata": {},
   "outputs": [],
   "source": [
    "x0 = 2523.17585813\n",
    "y0 = 2395.41373595"
   ]
  },
  {
   "cell_type": "code",
   "execution_count": 10,
   "metadata": {},
   "outputs": [],
   "source": [
    "xpT = c*(xpath-x0) - s*(ypath-(y0)) + x0\n",
    "ypT = s*(xpath-x0) + c*(ypath-(y0)) + (y0)\n",
    "xgT = c*(xgap-x0) - s*(ygap-(y0)) + x0\n",
    "ygT = s*(xgap-x0) + c*(ygap-(y0)) + (y0)\n",
    "xT = c*(xgood-x0) - s*(ygood-(y0)) + x0\n",
    "yT = s*(xgood-x0) + c*(ygood-(y0)) + (y0)"
   ]
  },
  {
   "cell_type": "code",
   "execution_count": 11,
   "metadata": {},
   "outputs": [],
   "source": [
    "xgood = xT\n",
    "ygood = yT"
   ]
  },
  {
   "cell_type": "code",
   "execution_count": 12,
   "metadata": {},
   "outputs": [],
   "source": [
    "#BEGIN DEFINITION OF A MASK DESCRIBING THE PORTIONS OF THE IMAGE IN WHICH THERE IS DATA\n",
    "\n",
    "IMAGE = Path([ [4767, 4120], \n",
    "\t[963, 5504], \n",
    "\t[-129, 1556], \n",
    "\t[3801, 238], \n",
    "\t[4767, 4120]])\n",
    "\n",
    "GAP = Path([ [2923,4806], \n",
    "\t[2878,4813], \n",
    "\t[1846,894], \n",
    "\t[1893,885], \n",
    "\t[2923,4806]])\n",
    "\n",
    "\n",
    "\n",
    "IMG_BIT = 0b01\n",
    "GAP_BIT = 0b10"
   ]
  },
  {
   "cell_type": "code",
   "execution_count": 13,
   "metadata": {},
   "outputs": [
    {
     "data": {
      "text/plain": [
       "<matplotlib.image.AxesImage at 0x11e486490>"
      ]
     },
     "execution_count": 13,
     "metadata": {},
     "output_type": "execute_result"
    },
    {
     "data": {
      "image/png": "[encoded data removed]",
      "text/plain": [
       "<Figure size 432x288 with 1 Axes>"
      ]
     },
     "metadata": {
      "needs_background": "light"
     },
     "output_type": "display_data"
    }
   ],
   "source": [
    "#DEFINE A GRID OF 30X30 PIXEL BINS COVERING THE IMAGE\n",
    "NBINS = 540\n",
    "XMIN,XMAX = 0,5400\n",
    "YMIN,YMAX = 0,5400\n",
    "XEDGE = np.linspace(XMIN,XMAX,NBINS)\n",
    "YEDGE = np.linspace(XMIN,XMAX,NBINS)\n",
    "\n",
    "#BIN CENTERS\n",
    "XCENT = (XEDGE[1:] + XEDGE[:-1])/2.\n",
    "YCENT = (YEDGE[1:] + YEDGE[:-1])/2.\n",
    "#BIN SIZE\n",
    "XDEL = XEDGE[1]-XEDGE[0]\n",
    "YDEL = YEDGE[1]-YEDGE[0]\n",
    "\n",
    "# Pre-calculate these instead of doing it in each evaluation of the model...\n",
    "XX,YY= np.meshgrid(XCENT,YCENT,indexing='ij')\n",
    "\n",
    "\n",
    "#USE THE MASKED REGIONS FROM ABOVE TO CREATE AN IMAGE MASK WITH THE APPROPRIATE BINNING\n",
    "#REQUIRES FLATTENING THE ARRAYS\n",
    "MASK = np.zeros((NBINS-1,NBINS-1))\n",
    "image_mask = IMAGE.contains_points(np.vstack([XX.flatten(),YY.flatten()]).T).T.reshape(XX.shape)\n",
    "gap_mask = GAP.contains_points(np.vstack([XX.flatten(),YY.flatten()]).T).T.reshape(XX.shape)\n",
    "masked_indices_image = np.where(image_mask==1) # Array indices\n",
    "masked_indices_gap = np.where(gap_mask==1) # Array indices\n",
    "MASK[masked_indices_image] = 1\n",
    "MASK[masked_indices_gap] = 0\n",
    "IDX = np.where(MASK==1)\n",
    "\n",
    "#DISPLAY THE MASK TO CHECK THAT IT'S CORRECT\n",
    "plt.imshow(MASK.T,origin='lower')"
   ]
  },
  {
   "cell_type": "code",
   "execution_count": 14,
   "metadata": {},
   "outputs": [],
   "source": [
    "def data(x,y):\n",
    "    \"\"\" Calculate the binned data counts. This only needs to be done\n",
    "    once (not at each model evaluation), but this seemed easier to\n",
    "    understand if it paralleled the model counts calculation.\n",
    "\n",
    "    Parameters\n",
    "    ----------\n",
    "    x : the x coordinate of the data\n",
    "    y : the y coordinate of the data\n",
    "\n",
    "    Returns\n",
    "    -------\n",
    "    data_counts : the data counts in each bin\n",
    "    \"\"\"\n",
    "    data_counts,_,_ = np.histogram2d(x,y,bins=[XEDGE,YEDGE])\n",
    "    return data_counts"
   ]
  },
  {
   "cell_type": "code",
   "execution_count": 15,
   "metadata": {},
   "outputs": [],
   "source": [
    "data_counts = data(xgood,ygood)\n",
    "data_counts_masked = np.copy(data_counts)\n",
    "data_counts_masked[np.where(MASK==0)] = np.nan\n",
    "# data_counts_masked = data_counts[IDX]"
   ]
  },
  {
   "cell_type": "code",
   "execution_count": 16,
   "metadata": {},
   "outputs": [],
   "source": [
    "from mpl_toolkits.axes_grid1 import make_axes_locatable"
   ]
  },
  {
   "cell_type": "code",
   "execution_count": 17,
   "metadata": {},
   "outputs": [
    {
     "data": {
      "image/png": "[encoded data removed]",
      "text/plain": [
       "<Figure size 432x288 with 2 Axes>"
      ]
     },
     "metadata": {
      "needs_background": "light"
     },
     "output_type": "display_data"
    }
   ],
   "source": [
    "# fig, ax = plt.subplots()\n",
    "# im = ax.imshow(data_counts_masked.T,origin='lower',cmap='viridis')\n",
    "\n",
    "# # cax = fig.add_axes([0.27, 0.8, 0.5, 0.05])\n",
    "\n",
    "# fig.colorbar(im, orientation='horizontal')\n",
    "# fig.colorbar(cm.ScalarMappable(norm=norm, cmap=cmap), ax=ax)\n",
    "\n",
    "fig, ax = plt.subplots()\n",
    "divider = make_axes_locatable(ax)\n",
    "cax = divider.append_axes('right', size='5%', pad=0.05)\n",
    "\n",
    "im = ax.imshow(data_counts_masked.T,origin='lower', cmap='viridis')\n",
    "\n",
    "fig.colorbar(im, cax=cax, orientation='vertical')\n",
    "\n",
    "plt.show()"
   ]
  },
  {
   "cell_type": "code",
   "execution_count": 18,
   "metadata": {},
   "outputs": [],
   "source": [
    "from scipy.stats import kde"
   ]
  },
  {
   "cell_type": "code",
   "execution_count": 19,
   "metadata": {},
   "outputs": [],
   "source": [
    "import scipy.ndimage"
   ]
  },
  {
   "cell_type": "code",
   "execution_count": 22,
   "metadata": {},
   "outputs": [
    {
     "data": {
      "text/plain": [
       "<matplotlib.image.AxesImage at 0x1a224c3110>"
      ]
     },
     "execution_count": 22,
     "metadata": {},
     "output_type": "execute_result"
    },
    {
     "data": {
      "image/png": "[encoded data removed]",
      "text/plain": [
       "<Figure size 432x288 with 1 Axes>"
      ]
     },
     "metadata": {
      "needs_background": "light"
     },
     "output_type": "display_data"
    }
   ],
   "source": [
    "plt.imshow(data_counts,interpolation='gaussian')\n",
    "plt.clim()"
   ]
  },
  {
   "cell_type": "code",
   "execution_count": 26,
   "metadata": {},
   "outputs": [
    {
     "data": {
      "text/plain": [
       "(539, 539)"
      ]
     },
     "execution_count": 26,
     "metadata": {},
     "output_type": "execute_result"
    }
   ],
   "source": [
    "data_counts.shape"
   ]
  },
  {
   "cell_type": "code",
   "execution_count": null,
   "metadata": {},
   "outputs": [],
   "source": []
  },
  {
   "cell_type": "code",
   "execution_count": 27,
   "metadata": {},
   "outputs": [],
   "source": [
    "from scipy.ndimage.filters import gaussian_filter\n",
    "from matplotlib.pyplot import contour, show"
   ]
  }
 ],
 "metadata": {
  "kernelspec": {
   "display_name": "Python 3",
   "language": "python",
   "name": "python3"
  },
  "language_info": {
   "codemirror_mode": {
    "name": "ipython",
    "version": 3
   },
   "file_extension": ".py",
   "mimetype": "text/x-python",
   "name": "python",
   "nbconvert_exporter": "python",
   "pygments_lexer": "ipython3",
   "version": "3.7.6"
  }
 },
 "nbformat": 4,
 "nbformat_minor": 4
}
