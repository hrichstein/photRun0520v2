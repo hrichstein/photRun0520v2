{
 "cells": [
  {
   "cell_type": "code",
   "execution_count": 1,
   "metadata": {},
   "outputs": [],
   "source": [
    "import numpy as np\n",
    "import matplotlib.pyplot as plt"
   ]
  },
  {
   "cell_type": "code",
   "execution_count": 2,
   "metadata": {},
   "outputs": [],
   "source": [
    "file = np.genfromtxt('../psc2_130m18.lf',skip_header=8,names=True)"
   ]
  },
  {
   "cell_type": "code",
   "execution_count": 3,
   "metadata": {},
   "outputs": [
    {
     "data": {
      "text/plain": [
       "('N', 'F606W', 'Log10N', 'Log10dN')"
      ]
     },
     "execution_count": 3,
     "metadata": {},
     "output_type": "execute_result"
    }
   ],
   "source": [
    "file.dtype.names"
   ]
  },
  {
   "cell_type": "code",
   "execution_count": 4,
   "metadata": {},
   "outputs": [
    {
     "data": {
      "image/png": "[encoded data removed]",
      "text/plain": [
       "<Figure size 432x288 with 1 Axes>"
      ]
     },
     "metadata": {
      "needs_background": "light"
     },
     "output_type": "display_data"
    }
   ],
   "source": [
    "plt.plot(file['F606W']+21.66,10**file['Log10dN'])\n",
    "\n",
    "plt.show()"
   ]
  },
  {
   "cell_type": "code",
   "execution_count": 5,
   "metadata": {},
   "outputs": [],
   "source": [
    "idx1 = np.logical_and(file['F606W']+21.66<=22.1,file['F606W']+21.66>=22)"
   ]
  },
  {
   "cell_type": "code",
   "execution_count": 6,
   "metadata": {},
   "outputs": [],
   "source": [
    "cut1 = file[idx1]"
   ]
  },
  {
   "cell_type": "code",
   "execution_count": 7,
   "metadata": {},
   "outputs": [
    {
     "name": "stdout",
     "output_type": "stream",
     "text": [
      "[22.011]\n",
      "[33.91563869]\n"
     ]
    }
   ],
   "source": [
    "print(cut1['F606W']+21.66)\n",
    "print(10**cut1['Log10dN'])"
   ]
  },
  {
   "cell_type": "code",
   "execution_count": 8,
   "metadata": {},
   "outputs": [],
   "source": [
    "cat = np.genfromtxt('/Volumes/Samsung_T5/photRun0520/drcPhot29Apr/catDir_PISCES-II/PISCES-II_fullCat.dat',\n",
    "                    names=True)"
   ]
  },
  {
   "cell_type": "code",
   "execution_count": 9,
   "metadata": {},
   "outputs": [
    {
     "name": "stdout",
     "output_type": "stream",
     "text": [
      "19.403931802090085 28.93975547644679\n"
     ]
    }
   ],
   "source": [
    "print(min(cat['magr_f606w']),max(cat['magr_f606w']))"
   ]
  },
  {
   "cell_type": "code",
   "execution_count": 10,
   "metadata": {},
   "outputs": [
    {
     "data": {
      "text/plain": [
       "95.0"
      ]
     },
     "execution_count": 10,
     "metadata": {},
     "output_type": "execute_result"
    }
   ],
   "source": [
    "(28.9-19.4)/0.1"
   ]
  },
  {
   "cell_type": "code",
   "execution_count": 11,
   "metadata": {},
   "outputs": [
    {
     "data": {
      "image/png": "[encoded data removed]",
      "text/plain": [
       "<Figure size 432x288 with 1 Axes>"
      ]
     },
     "metadata": {
      "needs_background": "light"
     },
     "output_type": "display_data"
    }
   ],
   "source": [
    "fig,ax = plt.subplots()\n",
    "\n",
    "ax.hist(cat['magr_f606w'],bins=95)\n",
    "ax.plot(file['F606W']+21.66,10**file['Log10dN']*0.066)\n",
    "\n",
    "ax.set_xlim(19,28.5)\n",
    "ax.set_xlabel('mF606W')\n",
    "ax.set_ylabel('N')\n",
    "\n",
    "plt.show()"
   ]
  },
  {
   "cell_type": "code",
   "execution_count": 12,
   "metadata": {},
   "outputs": [],
   "source": [
    "idx = np.logical_and(cat['magr_f606w']<=22.1,cat['magr_f606w']>=22.0)"
   ]
  },
  {
   "cell_type": "code",
   "execution_count": 13,
   "metadata": {},
   "outputs": [
    {
     "name": "stdout",
     "output_type": "stream",
     "text": [
      "3\n"
     ]
    }
   ],
   "source": [
    "cut = cat[idx]\n",
    "print(len(cut))"
   ]
  },
  {
   "cell_type": "code",
   "execution_count": 14,
   "metadata": {},
   "outputs": [],
   "source": [
    "def diff_func(lf_mag,lf_num,dat,norm,dm=21.31):\n",
    "    \n",
    "#     fig,ax = plt.subplots()\n",
    "    \n",
    "    bins = np.linspace(22,24,21)\n",
    "    \n",
    "    idxes = np.digitize(lf_mag+dm,bins=bins)\n",
    "    bin_sum = [(10**lf_num[idxes == i]).sum() for i in range(0, len(bins))]\n",
    "    \n",
    "    scaled = np.array(bin_sum)*norm\n",
    "    \n",
    "    dat_binned = ax.hist(dat,bins=np.hstack((bins,bins[-1]+0.1)))\n",
    "    \n",
    "    chi_sq = (scaled[1:]-dat_binned[0][1:])**2/scaled[1:]\n",
    "#     chi_sq = (scaled[1:]-dat_binned[0][1:])**2/np.sqrt(dat_binned[0][1:])**2\n",
    "#     plt.close()\n",
    "    \n",
    "    return chi_sq.sum()\n",
    "    "
   ]
  },
  {
   "cell_type": "code",
   "execution_count": 15,
   "metadata": {},
   "outputs": [],
   "source": [
    "# norm_arr = np.linspace(0.01,0.10,19)\n",
    "norm_arr = np.linspace(0.065,0.07,5)"
   ]
  },
  {
   "cell_type": "code",
   "execution_count": 16,
   "metadata": {},
   "outputs": [
    {
     "data": {
      "text/plain": [
       "5.000000000000004"
      ]
     },
     "execution_count": 16,
     "metadata": {},
     "output_type": "execute_result"
    }
   ],
   "source": [
    "(0.07-0.065)/0.001"
   ]
  },
  {
   "cell_type": "code",
   "execution_count": 17,
   "metadata": {},
   "outputs": [
    {
     "name": "stdout",
     "output_type": "stream",
     "text": [
      "[0.065   0.06625 0.0675  0.06875 0.07   ]\n"
     ]
    }
   ],
   "source": [
    "print(norm_arr)"
   ]
  },
  {
   "cell_type": "code",
   "execution_count": 18,
   "metadata": {},
   "outputs": [],
   "source": [
    "# chi_arr = np.zeros((len(norm_arr)))\n",
    "# for nn, val in enumerate(norm_arr):\n",
    "#     chi_arr[nn] = diff_func(file['F606W'],file['Log10dN'],cat['magr_f606w'],val,dm=21.66)"
   ]
  },
  {
   "cell_type": "code",
   "execution_count": 19,
   "metadata": {},
   "outputs": [],
   "source": [
    "# norm_arr[np.argsort(chi_arr)]"
   ]
  },
  {
   "cell_type": "code",
   "execution_count": 20,
   "metadata": {},
   "outputs": [
    {
     "name": "stdout",
     "output_type": "stream",
     "text": [
      "-2.849 12.551\n"
     ]
    }
   ],
   "source": [
    "print(min(file['F606W']),max(file['F606W']))"
   ]
  },
  {
   "cell_type": "code",
   "execution_count": 21,
   "metadata": {},
   "outputs": [
    {
     "data": {
      "text/plain": [
       "155.0"
      ]
     },
     "execution_count": 21,
     "metadata": {},
     "output_type": "execute_result"
    }
   ],
   "source": [
    "(12.6+2.9)/0.1"
   ]
  },
  {
   "cell_type": "code",
   "execution_count": 22,
   "metadata": {},
   "outputs": [
    {
     "name": "stdout",
     "output_type": "stream",
     "text": [
      "[-2.9 -2.8 -2.7 -2.6 -2.5]\n"
     ]
    }
   ],
   "source": [
    "bin_arr = np.linspace(-2.9,12.6,156)\n",
    "print(bin_arr[:5])"
   ]
  },
  {
   "cell_type": "code",
   "execution_count": 23,
   "metadata": {},
   "outputs": [],
   "source": [
    "# scale = 0.066"
   ]
  },
  {
   "cell_type": "code",
   "execution_count": 24,
   "metadata": {},
   "outputs": [],
   "source": [
    "def sum_mag(logdN,mag,bins,scale):\n",
    "\n",
    "    temp =  10**(-0.4*mag) * scale * (10**logdN) \n",
    "    empt = np.zeros((len(temp)))\n",
    "    for tt in range(len(temp)):\n",
    "        df = abs(10**(-0.4 * (bins[tt+1])) - 10**(-0.4 * (bins[tt])))\n",
    "        empt[tt] = temp[tt]*df\n",
    "    # calculate bin width (which changes) in flux from magnitude\n",
    "    # flux of a given star * scale * number of stars at that magnitude point\n",
    "    \n",
    "    val = -2.5 * np.log10(empt.sum())\n",
    "    \n",
    "    return val\n",
    "        "
   ]
  },
  {
   "cell_type": "code",
   "execution_count": 25,
   "metadata": {},
   "outputs": [],
   "source": [
    "def err_mag(logdN,mag,bins,scale,num=100):\n",
    "\n",
    "    new_mags = np.zeros(num)\n",
    "    new_logs = np.zeros(len(logdN))\n",
    "    \n",
    "    for jj in range(len(new_mags)):\n",
    "        s = np.random.randint(-100,101,len(logdN))\n",
    "        for ii in range(len(logdN)):\n",
    "            temp_val = 10**file['Log10dN'][ii] + (np.sqrt(10**file['Log10dN'][ii]) * s[ii]/100)\n",
    "            if temp_val < 0:\n",
    "                loop = True\n",
    "                while loop:\n",
    "                    ss = np.random.randint(-100,101,1)\n",
    "                    temp_val = 10**file['Log10dN'][ii] + (np.sqrt(10**file['Log10dN'][ii]) * ss/100)\n",
    "                    if temp_val >= 0:\n",
    "                        loop = False\n",
    "            new_logs[ii] = np.log10(temp_val)\n",
    "            \n",
    "        new_mags[jj] = sum_mag(new_logs,mag,bins,scale)\n",
    "    print(new_mags)   \n",
    "    val = np.std(new_mags)\n",
    "    \n",
    "    return val"
   ]
  },
  {
   "cell_type": "code",
   "execution_count": 26,
   "metadata": {},
   "outputs": [
    {
     "name": "stdout",
     "output_type": "stream",
     "text": [
      "-3.8894349088622517\n"
     ]
    }
   ],
   "source": [
    "mag1 = sum_mag(file['Log10dN'],file['F606W'],bins=bin_arr,scale=0.066)\n",
    "print(mag1) # -4.1"
   ]
  },
  {
   "cell_type": "code",
   "execution_count": 28,
   "metadata": {},
   "outputs": [
    {
     "name": "stdout",
     "output_type": "stream",
     "text": [
      "[-3.51619613 -3.62673377 -3.60586567 -3.67627545 -3.56468981 -3.48695781\n",
      " -3.53210908 -3.50136119 -3.57604567 -3.55157457 -3.4698497  -3.59558452\n",
      " -3.53124    -3.62718077 -3.4988008  -3.52262877 -3.56068567 -3.40293861\n",
      " -3.56149086 -3.50410838 -3.50674012 -3.67868041 -3.47000907 -3.54698117\n",
      " -3.53109965 -3.47176346 -3.59626429 -3.62921184 -3.50978383 -3.47156443\n",
      " -3.59537546 -3.59373541 -3.50728326 -3.57513488 -3.5667403  -3.51611687\n",
      " -3.52108591 -3.43372625 -3.58650654 -3.51869977 -3.60297389 -3.59955992\n",
      " -3.49599056 -3.4765129  -3.45500814 -3.49152124 -3.57726978 -3.57113738\n",
      " -3.54676901 -3.67506601 -3.5269643  -3.68890389 -3.58762186 -3.57154528\n",
      " -3.53225259 -3.43498336 -3.49258803 -3.49761462 -3.47657583 -3.65564182\n",
      " -3.54769445 -3.49320009 -3.51831011 -3.58949714 -3.5374238  -3.46788111\n",
      " -3.47374055 -3.54911384 -3.52884169 -3.59849621 -3.5112431  -3.54648961\n",
      " -3.46954313 -3.48329577 -3.63656059 -3.56285594 -3.38852322 -3.60936755\n",
      " -3.56296005 -3.4799121  -3.51721003 -3.53252204 -3.52053269 -3.50440812\n",
      " -3.5577223  -3.56520987 -3.35325265 -3.42960791 -3.36929601 -3.55156516\n",
      " -3.5248537  -3.49616693 -3.56613117 -3.53334488 -3.52138266 -3.59107779\n",
      " -3.58409526 -3.63656121 -3.63778279 -3.60717073]\n",
      "0.06542892512097845\n"
     ]
    }
   ],
   "source": [
    "err1 = err_mag(file['Log10dN'],file['F606W'],bins=bin_arr,scale=0.048,num=100)\n",
    "print(err1)"
   ]
  },
  {
   "cell_type": "code",
   "execution_count": 27,
   "metadata": {},
   "outputs": [],
   "source": [
    "def mag2lum(mag):\n",
    "    \n",
    "    L0 = 3.0128e28\n",
    "    Lsun = 3.828e26\n",
    "\n",
    "    num = L0 * 10**(-0.4 * mag)\n",
    "    \n",
    "    return num/Lsun"
   ]
  },
  {
   "cell_type": "code",
   "execution_count": 28,
   "metadata": {},
   "outputs": [
    {
     "name": "stdout",
     "output_type": "stream",
     "text": [
      "2829.9081317886703\n"
     ]
    }
   ],
   "source": [
    "lum1 = mag2lum(mag1)\n",
    "print(lum1)"
   ]
  },
  {
   "cell_type": "code",
   "execution_count": 29,
   "metadata": {},
   "outputs": [
    {
     "data": {
      "text/plain": [
       "618.3946327946328"
      ]
     },
     "execution_count": 29,
     "metadata": {},
     "output_type": "execute_result"
    }
   ],
   "source": [
    "1.75e6/lum1"
   ]
  },
  {
   "cell_type": "code",
   "execution_count": 54,
   "metadata": {},
   "outputs": [],
   "source": [
    "tryErr = err_mag(file['Log10dN'],file['F606W'],bins=bin_arr,scale=0.066)\n",
    "# print(tryErr) # -4.1"
   ]
  },
  {
   "cell_type": "code",
   "execution_count": 55,
   "metadata": {},
   "outputs": [
    {
     "name": "stdout",
     "output_type": "stream",
     "text": [
      "2.692703184448015\n"
     ]
    }
   ],
   "source": [
    "print(tryErr)"
   ]
  },
  {
   "cell_type": "code",
   "execution_count": null,
   "metadata": {},
   "outputs": [],
   "source": []
  }
 ],
 "metadata": {
  "kernelspec": {
   "display_name": "Python 3",
   "language": "python",
   "name": "python3"
  },
  "language_info": {
   "codemirror_mode": {
    "name": "ipython",
    "version": 3
   },
   "file_extension": ".py",
   "mimetype": "text/x-python",
   "name": "python",
   "nbconvert_exporter": "python",
   "pygments_lexer": "ipython3",
   "version": "3.7.6"
  }
 },
 "nbformat": 4,
 "nbformat_minor": 4
}
