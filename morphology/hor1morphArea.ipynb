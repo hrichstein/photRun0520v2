{
 "cells": [
  {
   "cell_type": "code",
   "execution_count": 34,
   "metadata": {},
   "outputs": [],
   "source": [
    "import numpy as np\n",
    "from astropy.io import ascii\n",
    "\n",
    "import matplotlib.pyplot as plt\n",
    "import matplotlib as mpl"
   ]
  },
  {
   "cell_type": "code",
   "execution_count": 63,
   "metadata": {},
   "outputs": [],
   "source": [
    "import _pickle as cPickle\n",
    "from matplotlib.path import Path"
   ]
  },
  {
   "cell_type": "code",
   "execution_count": 64,
   "metadata": {},
   "outputs": [],
   "source": [
    "cat = np.genfromtxt('../catRawMags20Aug/catDir_HOROLOGIUM-I/sgCut_HOROLOGIUM-I_tcCut.dat',names=True)\n",
    "xa = cat['xt1_f606w']\n",
    "ya = cat['yt1_f606w']\n",
    "flux_606 = cat['flux_f606w']"
   ]
  },
  {
   "cell_type": "code",
   "execution_count": 4,
   "metadata": {},
   "outputs": [],
   "source": [
    "orientat = -84.68262068777894 \n",
    "theta = np.deg2rad(orientat)\n",
    "c,s = np.cos(theta), np.sin(theta)"
   ]
  },
  {
   "cell_type": "code",
   "execution_count": 5,
   "metadata": {},
   "outputs": [],
   "source": [
    "#IMAGE BOUNDARY\n",
    "IMAGE = Path([ [220,4045],\n",
    "              [4217,4248],\n",
    "              [4099,100],\n",
    "              [0,0],\n",
    "              [220,4045]])"
   ]
  },
  {
   "cell_type": "code",
   "execution_count": 6,
   "metadata": {},
   "outputs": [],
   "source": [
    "xpath = np.array([220,4217,4099,0])\n",
    "ypath = np.array([4045,4248,100,0])\n",
    "xgap = np.array([100,99,4157,4156])\n",
    "ygap = np.array([2033,2078,2233,2187])\n",
    "\n",
    "x0 = (4248)/2\n",
    "y0 = 4248/2\n",
    "\n",
    "xpT = c*(xpath-x0+300) - s*(ypath-y0+400) + x0+300\n",
    "ypT = s*(xpath-x0+300) + c*(ypath-y0+400) + y0+400\n",
    "xgT = c*(xgap-x0+300) - s*(ygap-y0+400) + x0+300\n",
    "ygT = s*(xgap-x0+300) + c*(ygap-y0+400) + y0+400\n",
    "xT = c*(xa-x0+300) - s*(ya-y0+400) + x0+300\n",
    "yT = s*(xa-x0+300) + c*(ya-y0+400) + y0+400\n",
    "xgood = xT\n",
    "ygood = yT"
   ]
  },
  {
   "cell_type": "code",
   "execution_count": 76,
   "metadata": {},
   "outputs": [
    {
     "name": "stdout",
     "output_type": "stream",
     "text": [
      "4324.439454858057\n"
     ]
    }
   ],
   "source": [
    "print(c*(x0-x0+300) - s*(y0-y0+400) + x0+300)"
   ]
  },
  {
   "cell_type": "code",
   "execution_count": 77,
   "metadata": {},
   "outputs": [
    {
     "name": "stdout",
     "output_type": "stream",
     "text": [
      "2284.8192328978485\n"
     ]
    }
   ],
   "source": [
    "print(s*(x0-x0+300) + c*(y0-y0+400) + y0+400)"
   ]
  },
  {
   "cell_type": "code",
   "execution_count": 97,
   "metadata": {},
   "outputs": [
    {
     "data": {
      "image/png": "[encoded data removed]",
      "text/plain": [
       "<Figure size 432x432 with 1 Axes>"
      ]
     },
     "metadata": {
      "needs_background": "light"
     },
     "output_type": "display_data"
    }
   ],
   "source": [
    "fig,ax = plt.subplots(figsize=(6,6))\n",
    "\n",
    "ax.scatter(xgood,ygood,s=10)\n",
    "ax.plot(3593.342377662885, 2156.8983238238898,ms=10,color='red',marker='o')\n",
    "# ax.plot(x0+300,y0+400,marker='o',ms=12,color='red')\n",
    "ax.plot(3100,2260,marker='o',ms=5,color='red')\n",
    "\n",
    "\n",
    "plt.show()"
   ]
  },
  {
   "cell_type": "code",
   "execution_count": 62,
   "metadata": {},
   "outputs": [
    {
     "name": "stdout",
     "output_type": "stream",
     "text": [
      "4997.563157665636 4420.82706681162\n"
     ]
    }
   ],
   "source": [
    "print(max(xgood),max(ygood))"
   ]
  },
  {
   "cell_type": "code",
   "execution_count": 7,
   "metadata": {},
   "outputs": [],
   "source": [
    "def median_interval(data, alpha=0.32):\n",
    "    \"\"\"\n",
    "    Median including Bayesian credible interval.\n",
    "\n",
    "    Parameters\n",
    "    ----------\n",
    "    data  : posterior samples\n",
    "    alpha : 1 - confidence interval\n",
    "\n",
    "    Returns\n",
    "    -------\n",
    "    [med,[lo, hi]] : median, lower, and upper percentiles\n",
    "    \n",
    "    \"\"\"\n",
    "    q = [100*alpha/2., 50, 100*(1-alpha/2.)]\n",
    "    lo,med,hi = np.percentile(data,q)\n",
    "    return [med,[lo,hi]]"
   ]
  },
  {
   "cell_type": "code",
   "execution_count": 8,
   "metadata": {},
   "outputs": [],
   "source": [
    "samples = cPickle.load( open( \"hor1mcmc.p\", \"rb\" ) )\n",
    "#MEDIAN VALUES AND +/-1 SIGMA FOR EACH FIT PARAMETER\n",
    "rich,[rich_min,rich_max] = median_interval(samples[:,0])\n",
    "x,[xmin,xmax] = median_interval(samples[:,1])\n",
    "y,[ymin,ymax] = median_interval(samples[:,2])\n",
    "hor_ext_fit,[hor_ext_min,hor_ext_max] = median_interval(samples[:,3])\n",
    "hor_ell_fit,[hor_ell_min,hor_ell_max] = median_interval(samples[:,4])\n",
    "hor_pa_fit,[hor_pa_min,hor_pa_max] = median_interval(samples[:,5])\n",
    "\n",
    "res = [rich,rich_min,rich_max,x,xmin,xmax,y,ymin,ymax,hor_ext_fit,hor_ext_min,hor_ext_max,\\\n",
    "       hor_ell_fit,hor_ell_min,hor_ell_max,hor_pa_fit,hor_pa_min,hor_pa_max]#,rich_cluster,rich_cluster_min,rich_cluster_max,x_cluster,x_cluster_min,x_cluster_max,y_cluster,y_cluster_min,y_cluster_max,cluster_ext_fit,cluster_ext_min,cluster_ext_max,cluster_ell_fit,cluster_ell_min,cluster_ell_max,cluster_pa_fit,cluster_pa_min,cluster_pa_max]\n",
    "# results.append(res)"
   ]
  },
  {
   "cell_type": "code",
   "execution_count": 9,
   "metadata": {},
   "outputs": [
    {
     "name": "stdout",
     "output_type": "stream",
     "text": [
      "[867.6552879827121, 792.1365518905711, 945.1886753572494, 3593.342377662885, 3457.508391315219, 3746.518044547849, 2156.8983238238898, 2088.551713834557, 2225.82086561419, 2651.6978038248662, 2380.264226967439, 2950.0410691116954, 0.3633989647876723, 0.28044237211627987, 0.4392049734096666, 78.98315185689994, 72.02980469383657, 84.9871861840118]\n"
     ]
    }
   ],
   "source": [
    "print(res)"
   ]
  },
  {
   "cell_type": "code",
   "execution_count": 92,
   "metadata": {},
   "outputs": [],
   "source": [
    "# BEST-FIT HOR I PARAMETERS (FROM MCMC_STRUCTURAL_FIT)\n",
    "richness = rich\n",
    "x0 = x\n",
    "y0 = y\n",
    "gal_ext_pix = hor_ext_fit\n",
    "gal_ell = hor_ell_fit\n",
    "gal_pa = hor_pa_fit"
   ]
  },
  {
   "cell_type": "code",
   "execution_count": 93,
   "metadata": {},
   "outputs": [
    {
     "name": "stdout",
     "output_type": "stream",
     "text": [
      "3593.342377662885 2156.8983238238898\n"
     ]
    }
   ],
   "source": [
    "print(x0,y0)"
   ]
  },
  {
   "cell_type": "code",
   "execution_count": 11,
   "metadata": {},
   "outputs": [],
   "source": [
    "xbin0 = np.ones((179,1))  # (fltarr(267)+1)\n",
    "xbin1 = np.ones((1,179))  \n",
    "xbin1[0] = np.arange(0,179,1)\n",
    "xbin2 = xbin1 * 30 + 15  # (findgen(267)*30. + 15)\n",
    "xbin = np.matmul(xbin0,xbin2)\n",
    "ybin = xbin.T\n",
    "\n",
    "# creating x and y arrays to represent the bins across the image"
   ]
  },
  {
   "cell_type": "code",
   "execution_count": 12,
   "metadata": {},
   "outputs": [],
   "source": [
    "costh = np.cos(-1 * np.deg2rad(gal_pa))\n",
    "sinth = np.sin(-1 * np.deg2rad(gal_pa))\n",
    "\n",
    "dx = xbin - x0\n",
    "dy = ybin - y0"
   ]
  },
  {
   "cell_type": "code",
   "execution_count": 13,
   "metadata": {},
   "outputs": [],
   "source": [
    "r1 = (dx * costh - dy * sinth) / (1 - gal_ell)\n",
    "r2 = (dx * sinth + dy * costh)\n",
    "\n",
    "radius = np.sqrt(r1**2 + r2**2)\n",
    "# calculating distances to different bins in the annuli based on the PA"
   ]
  },
  {
   "cell_type": "code",
   "execution_count": 68,
   "metadata": {},
   "outputs": [],
   "source": [
    "rad_dist = np.sqrt( (xa-x0)**2 + (ya-y0)**2)\n",
    "sort_idx = np.argsort(rad_dist)\n",
    "flat_flux = flux_606.flatten()\n",
    "\n",
    "sorted_rad = rad_dist[sort_idx]\n",
    "sorted_flux = flat_flux[sort_idx]\n",
    "\n",
    "total_flux = flat_flux.sum()"
   ]
  },
  {
   "cell_type": "code",
   "execution_count": 73,
   "metadata": {},
   "outputs": [
    {
     "name": "stdout",
     "output_type": "stream",
     "text": [
      "2.3404644575871236\n"
     ]
    }
   ],
   "source": [
    "part_flux = 0\n",
    "ii = 0\n",
    "\n",
    "while part_flux <= (0.5*total_flux):\n",
    "    part_flux += sorted_flux[ii]\n",
    "    ii += 1\n",
    "    \n",
    "idx_take = ii - 1\n",
    "rad_half = rad_dist[ii-1]\n",
    "\n",
    "print(rad_half/1200)  # arcmin"
   ]
  },
  {
   "cell_type": "code",
   "execution_count": 14,
   "metadata": {},
   "outputs": [],
   "source": [
    "r_h = gal_ext_pix\n",
    "norm = r_h**2 / (np.pi * (1-gal_ell))\n",
    "# half light radius squared / (pi * 1-ell)\n",
    "pdf = norm/((radius**2 + r_h**2)**2)"
   ]
  },
  {
   "cell_type": "code",
   "execution_count": 15,
   "metadata": {},
   "outputs": [],
   "source": [
    "xdel = 30.\n",
    "ydel = 30.\n",
    "pixarea = xdel*ydel  # pixel area in each bin"
   ]
  },
  {
   "cell_type": "code",
   "execution_count": 16,
   "metadata": {},
   "outputs": [],
   "source": [
    "model_counts_gal = richness*pdf*pixarea  # a 267x267 array"
   ]
  },
  {
   "cell_type": "code",
   "execution_count": 17,
   "metadata": {},
   "outputs": [],
   "source": [
    "# Observed surface densitygood map\n",
    "binned_surface_density_30 = np.zeros((179,179))\n",
    "for ii in range(179):\n",
    "    for jj in range(179):\n",
    "        idxgood = np.logical_and(np.logical_and(xgood >= (30 * ii),xgood <= (30 * (ii + 1))),\n",
    "                     np.logical_and(ygood >= (30 * jj),ygood <= (30 * (jj + 1))))\n",
    "\n",
    "        tmp = np.where(idxgood)[0]\n",
    "#         # flipping ii and jj because in IDL, it's col, row.\n",
    "        binned_surface_density_30[jj,ii] = len(tmp)"
   ]
  },
  {
   "cell_type": "code",
   "execution_count": 18,
   "metadata": {},
   "outputs": [],
   "source": [
    "# Define annuli\n",
    "radius1=radius.flatten()\n",
    "r1 = np.where(radius1 < (0.1 * r_h))\n",
    "r2 = np.where((radius1 < (0.2 * r_h)) & (radius1 >= (0.1 * r_h)))\n",
    "r3 = np.where((radius1 < (0.3 * r_h)) & (radius1 >= (0.2 * r_h)))\n",
    "r4 = np.where((radius1 < (0.4 * r_h)) & (radius1 >= (0.3 * r_h)))\n",
    "r5 = np.where((radius1 < (0.5 * r_h)) & (radius1 >= (0.4 * r_h)))\n",
    "r6 = np.where((radius1 < (0.6 * r_h)) & (radius1 >= (0.5 * r_h)))\n",
    "r7 = np.where((radius1 < (0.7 * r_h)) & (radius1 >= (0.6 * r_h)))\n",
    "r8 = np.where((radius1 < (0.8 * r_h)) & (radius1 >= (0.7 * r_h)))\n",
    "r9 = np.where((radius1 < (0.9 * r_h)) & (radius1 >= (0.8 * r_h)))\n",
    "r10 = np.where((radius1 < r_h) & (radius1 >= (0.9 * r_h)))"
   ]
  },
  {
   "cell_type": "code",
   "execution_count": 19,
   "metadata": {},
   "outputs": [],
   "source": [
    "# To get the actual indices\n",
    "r1v = r1[0]\n",
    "r2v = r2[0]\n",
    "r3v = r3[0]\n",
    "r4v = r4[0]\n",
    "r5v = r5[0]\n",
    "r6v = r6[0]\n",
    "r7v = r7[0]\n",
    "r8v = r8[0]\n",
    "r9v = r9[0]\n",
    "r10v = r10[0]"
   ]
  },
  {
   "cell_type": "code",
   "execution_count": 41,
   "metadata": {},
   "outputs": [],
   "source": [
    "# areas of annuli in arcmin**2\n",
    "pix_per_arcsec=20\n",
    "\n",
    "a1 = (np.pi*(r_h*0.1)**2*(1-gal_ell))/(pix_per_arcsec*60)**2\n",
    "a2 = (np.pi*(r_h*0.2)**2*(1-gal_ell) - np.pi*(r_h*0.1)**2*(1-gal_ell))/(pix_per_arcsec*60)**2\n",
    "a3 = (np.pi*(r_h*0.3)**2*(1-gal_ell) - np.pi*(r_h*0.2)**2*(1-gal_ell))/(pix_per_arcsec*60)**2\n",
    "a4 = (np.pi*(r_h*0.4)**2*(1-gal_ell) - np.pi*(r_h*0.3)**2*(1-gal_ell))/(pix_per_arcsec*60)**2\n",
    "a5 = (np.pi*(r_h*0.5)**2*(1-gal_ell) - np.pi*(r_h*0.4)**2*(1-gal_ell))/(pix_per_arcsec*60)**2\n",
    "a6 = (np.pi*(r_h*0.6)**2*(1-gal_ell) - np.pi*(r_h*0.5)**2*(1-gal_ell))/(pix_per_arcsec*60)**2\n",
    "a7 = (np.pi*(r_h*0.7)**2*(1-gal_ell) - np.pi*(r_h*0.6)**2*(1-gal_ell))/(pix_per_arcsec*60)**2\n",
    "a8 = (np.pi*(r_h*0.8)**2*(1-gal_ell) - np.pi*(r_h*0.7)**2*(1-gal_ell))/(pix_per_arcsec*60)**2\n",
    "a9 = (np.pi*(r_h*0.9)**2*(1-gal_ell) - np.pi*(r_h*0.8)**2*(1-gal_ell))/(pix_per_arcsec*60)**2\n",
    "a10 = (np.pi*(r_h*1.0)**2*(1-gal_ell) - np.pi*(r_h*0.9)**2*(1-gal_ell))/(pix_per_arcsec*60)**2"
   ]
  },
  {
   "cell_type": "code",
   "execution_count": 42,
   "metadata": {},
   "outputs": [
    {
     "name": "stdout",
     "output_type": "stream",
     "text": [
      "0.09765686513714568 0.29297059541143705\n"
     ]
    }
   ],
   "source": [
    "print(a1,a2)"
   ]
  },
  {
   "cell_type": "code",
   "execution_count": 43,
   "metadata": {},
   "outputs": [],
   "source": [
    "dist_x = np.array([r_h*0.1,r_h*0.2,r_h*0.3,r_h*0.4,r_h*0.5,r_h*0.6,r_h*0.7,r_h*0.8,r_h*0.9,r_h])/1200"
   ]
  },
  {
   "cell_type": "code",
   "execution_count": 44,
   "metadata": {},
   "outputs": [],
   "source": [
    "ra1 = np.arange(0,10,1)\n",
    "r_annuli = (ra1 + 0.05) * r_h\n",
    "\n",
    "binned_surface_density_30f = binned_surface_density_30.flatten()\n",
    "model_counts_galf = model_counts_gal.flatten()\n",
    "data_1d = [binned_surface_density_30f[r1v].sum()/a1,\n",
    "           binned_surface_density_30f[r2v].sum()/a2,\n",
    "           binned_surface_density_30f[r3v].sum()/a3,\n",
    "           binned_surface_density_30f[r4v].sum()/a4,\n",
    "           binned_surface_density_30f[r5v].sum()/a5,\n",
    "           binned_surface_density_30f[r6v].sum()/a6,\n",
    "           binned_surface_density_30f[r7v].sum()/a7,\n",
    "           binned_surface_density_30f[r8v].sum()/a8,\n",
    "           binned_surface_density_30f[r9v].sum()/a9,\n",
    "           binned_surface_density_30f[r10v].sum()/a10]\n",
    "\n",
    "model_1d = [model_counts_galf[r1v].sum()/a1,\n",
    "            model_counts_galf[r2v].sum()/a2,\n",
    "            model_counts_galf[r3v].sum()/a3,\n",
    "            model_counts_galf[r4v].sum()/a4,\n",
    "            model_counts_galf[r5v].sum()/a5,\n",
    "            model_counts_galf[r6v].sum()/a6,\n",
    "            model_counts_galf[r7v].sum()/a7,\n",
    "            model_counts_galf[r8v].sum()/a8,\n",
    "            model_counts_galf[r9v].sum()/a9,\n",
    "            model_counts_galf[r10v].sum()/a10]"
   ]
  },
  {
   "cell_type": "code",
   "execution_count": 45,
   "metadata": {},
   "outputs": [
    {
     "data": {
      "image/png": "[encoded data removed]",
      "text/plain": [
       "<Figure size 432x288 with 1 Axes>"
      ]
     },
     "metadata": {
      "needs_background": "light"
     },
     "output_type": "display_data"
    }
   ],
   "source": [
    "fig, ax = plt.subplots(figsize=(9,7))\n",
    "\n",
    "ax.plot(dist_x,data_1d,label='Data')\n",
    "ax.plot(dist_x,model_1d)\n",
    "\n",
    "ax.set_xscale('log')\n",
    "ax.set_yscale('log')\n",
    "\n",
    "ax.set_ylabel(r'log[$\\Sigma_b$ (stars arcmin$^{-1}$)]',fontsize=16)\n",
    "ax.set_xlabel(r'log[R (arcmin)]',fontsize=16)\n",
    "ax.set_title('Hor I',fontsize=20)\n",
    "\n",
    "ax.set_xticks([1, 2])\n",
    "ax.get_xaxis().set_major_formatter(mpl.ticker.ScalarFormatter())\n",
    "\n",
    "\n",
    "\n",
    "ax.legend()\n",
    "plt.savefig('figures/hor1.png')\n",
    "\n",
    "plt.show()"
   ]
  },
  {
   "cell_type": "code",
   "execution_count": 46,
   "metadata": {},
   "outputs": [
    {
     "data": {
      "text/plain": [
       "0.09765686513714568"
      ]
     },
     "execution_count": 46,
     "metadata": {},
     "output_type": "execute_result"
    }
   ],
   "source": [
    "a1"
   ]
  },
  {
   "cell_type": "code",
   "execution_count": 49,
   "metadata": {},
   "outputs": [],
   "source": [
    "samples = cPickle.load( open( \"hor1mcmcEXP.p\", \"rb\" ) )\n",
    "#MEDIAN VALUES AND +/-1 SIGMA FOR EACH FIT PARAMETER\n",
    "rich2,[rich_min,rich_max] = median_interval(samples[:,0])\n",
    "x2,[xmin,xmax] = median_interval(samples[:,1])\n",
    "y2,[ymin,ymax] = median_interval(samples[:,2])\n",
    "hor_ext_fit2,[hor_ext_min,hor_ext_max] = median_interval(samples[:,3])\n",
    "hor_ell_fit2,[hor_ell_min,hor_ell_max] = median_interval(samples[:,4])\n",
    "hor_pa_fit2,[hor_pa_min,hor_pa_max] = median_interval(samples[:,5])\n",
    "\n",
    "res2 = [rich2,rich_min,rich_max,x2,xmin,xmax,y2,ymin,ymax,hor_ext_fit2,hor_ext_min,hor_ext_max,\\\n",
    "       hor_ell_fit2,hor_ell_min,hor_ell_max,hor_pa_fit2,hor_pa_min,hor_pa_max]#,rich_cluster,rich_cluster_min,rich_cluster_max,x_cluster,x_cluster_min,x_cluster_max,y_cluster,y_cluster_min,y_cluster_max,cluster_ext_fit,cluster_ext_min,cluster_ext_max,cluster_ell_fit,cluster_ell_min,cluster_ell_max,cluster_pa_fit,cluster_pa_min,cluster_pa_max]\n",
    "# results.append(res)"
   ]
  },
  {
   "cell_type": "code",
   "execution_count": 50,
   "metadata": {},
   "outputs": [
    {
     "name": "stdout",
     "output_type": "stream",
     "text": [
      "[861.5136666312228, 776.4319689137357, 944.5222109630377, 3598.359017494765, 3470.1137918102195, 3739.8057578163694, 2146.45917804443, 2076.528683174721, 2217.9168246274403, 2665.960964838636, 2364.696251740118, 2991.379244994376, 0.36116506688207095, 0.27155046788909903, 0.4417834873534952, 78.29472995008028, 70.56913778398716, 84.80339772937853]\n"
     ]
    }
   ],
   "source": [
    "print(res2)"
   ]
  },
  {
   "cell_type": "code",
   "execution_count": 51,
   "metadata": {},
   "outputs": [],
   "source": [
    "richness = rich2\n",
    "x0 = x2\n",
    "y0 = y2\n",
    "gal_ext_pix = hor_ext_fit2\n",
    "gal_ell = hor_ell_fit2\n",
    "gal_pa = hor_pa_fit2\n",
    "r_e = gal_ext_pix/1.68\n",
    "r_h = gal_ext_pix"
   ]
  },
  {
   "cell_type": "code",
   "execution_count": 52,
   "metadata": {},
   "outputs": [],
   "source": [
    "costh = np.cos(-1 * np.deg2rad(gal_pa))\n",
    "sinth = np.sin(-1 * np.deg2rad(gal_pa))\n",
    "\n",
    "dx = xbin - x0\n",
    "dy = ybin - y0"
   ]
  },
  {
   "cell_type": "code",
   "execution_count": 53,
   "metadata": {},
   "outputs": [],
   "source": [
    "r1 = (dx * costh - dy * sinth) / (1 - gal_ell)\n",
    "r2 = (dx * sinth + dy * costh)\n",
    "\n",
    "radius2 = np.sqrt(r1**2 + r2**2)\n",
    "# calculating distances to different bins in the annuli based on the PA"
   ]
  },
  {
   "cell_type": "code",
   "execution_count": 54,
   "metadata": {},
   "outputs": [],
   "source": [
    "#Normalization (integrates to unity over all space) [stars/pix^2)\n",
    "norm2 = 1./(2*np.pi*r_e**2 * (1-gal_ell) )\n",
    "\n",
    "# Exponential PDF\n",
    "pdf2 = norm2 * np.exp(-radius2/r_e)"
   ]
  },
  {
   "cell_type": "code",
   "execution_count": 55,
   "metadata": {},
   "outputs": [],
   "source": [
    "model_counts_exp = richness*pdf2*pixarea"
   ]
  },
  {
   "cell_type": "code",
   "execution_count": 56,
   "metadata": {},
   "outputs": [],
   "source": [
    "# Define annuli\n",
    "radius3=radius2.flatten()\n",
    "r1 = np.where(radius3 < (0.1 * r_h))\n",
    "r2 = np.where((radius3 < (0.2 * r_h)) & (radius3 >= (0.1 * r_h)))\n",
    "r3 = np.where((radius3 < (0.3 * r_h)) & (radius3 >= (0.2 * r_h)))\n",
    "r4 = np.where((radius3 < (0.4 * r_h)) & (radius3 >= (0.3 * r_h)))\n",
    "r5 = np.where((radius3 < (0.5 * r_h)) & (radius3 >= (0.4 * r_h)))\n",
    "r6 = np.where((radius3 < (0.6 * r_h)) & (radius3 >= (0.5 * r_h)))\n",
    "r7 = np.where((radius3 < (0.7 * r_h)) & (radius3 >= (0.6 * r_h)))\n",
    "r8 = np.where((radius3 < (0.8 * r_h)) & (radius3 >= (0.7 * r_h)))\n",
    "r9 = np.where((radius3 < (0.9 * r_h)) & (radius3 >= (0.8 * r_h)))\n",
    "r10 = np.where((radius3 < r_h) & (radius3 >= (0.9 * r_h)))"
   ]
  },
  {
   "cell_type": "code",
   "execution_count": 57,
   "metadata": {},
   "outputs": [],
   "source": [
    "# To get the actual indices\n",
    "r1ve = r1[0]\n",
    "r2ve = r2[0]\n",
    "r3ve = r3[0]\n",
    "r4ve = r4[0]\n",
    "r5ve = r5[0]\n",
    "r6ve = r6[0]\n",
    "r7ve = r7[0]\n",
    "r8ve = r8[0]\n",
    "r9ve = r9[0]\n",
    "r10ve = r10[0]"
   ]
  },
  {
   "cell_type": "code",
   "execution_count": 58,
   "metadata": {},
   "outputs": [],
   "source": [
    "ra1 = np.arange(0,10,1)\n",
    "r_annuli = (ra1 + 0.05) * r_h\n",
    "\n",
    "binned_surface_density_30f = binned_surface_density_30.flatten()\n",
    "model_counts_galf = model_counts_gal.flatten()\n",
    "model_counts_expf = model_counts_exp.flatten()\n",
    "data_1d = [binned_surface_density_30f[r1v].sum()/a1,\n",
    "           binned_surface_density_30f[r2v].sum()/a2,\n",
    "           binned_surface_density_30f[r3v].sum()/a3,\n",
    "           binned_surface_density_30f[r4v].sum()/a4,\n",
    "           binned_surface_density_30f[r5v].sum()/a5,\n",
    "           binned_surface_density_30f[r6v].sum()/a6,\n",
    "           binned_surface_density_30f[r7v].sum()/a7,\n",
    "           binned_surface_density_30f[r8v].sum()/a8,\n",
    "           binned_surface_density_30f[r9v].sum()/a9,\n",
    "           binned_surface_density_30f[r10v].sum()/a10]\n",
    "\n",
    "model_1d = [model_counts_galf[r1v].sum()/a1,\n",
    "            model_counts_galf[r2v].sum()/a2,\n",
    "            model_counts_galf[r3v].sum()/a3,\n",
    "            model_counts_galf[r4v].sum()/a4,\n",
    "            model_counts_galf[r5v].sum()/a5,\n",
    "            model_counts_galf[r6v].sum()/a6,\n",
    "            model_counts_galf[r7v].sum()/a7,\n",
    "            model_counts_galf[r8v].sum()/a8,\n",
    "            model_counts_galf[r9v].sum()/a9,\n",
    "            model_counts_galf[r10v].sum()/a10]\n",
    "\n",
    "model_1de = [model_counts_expf[r1ve].sum()/a1,\n",
    "            model_counts_expf[r2ve].sum()/a2,\n",
    "            model_counts_expf[r3ve].sum()/a3,\n",
    "            model_counts_expf[r4ve].sum()/a4,\n",
    "            model_counts_expf[r5ve].sum()/a5,\n",
    "            model_counts_expf[r6ve].sum()/a6,\n",
    "            model_counts_expf[r7ve].sum()/a7,\n",
    "            model_counts_expf[r8ve].sum()/a8,\n",
    "            model_counts_expf[r9ve].sum()/a9,\n",
    "            model_counts_expf[r10ve].sum()/a10]"
   ]
  },
  {
   "cell_type": "code",
   "execution_count": 75,
   "metadata": {},
   "outputs": [
    {
     "data": {
      "image/png": "[encoded data removed]",
      "text/plain": [
       "<Figure size 648x504 with 1 Axes>"
      ]
     },
     "metadata": {
      "needs_background": "light"
     },
     "output_type": "display_data"
    }
   ],
   "source": [
    "fig, ax = plt.subplots(figsize=(9,7))\n",
    "\n",
    "ax.plot(dist_x,data_1d,label='Data')\n",
    "ax.plot(dist_x,model_1d,label='Model Plummer')\n",
    "ax.plot(dist_x,model_1de,label='Model Exp')\n",
    "\n",
    "ax.set_xscale('log')\n",
    "ax.set_yscale('log')\n",
    "\n",
    "ax.set_ylabel(r'log[$\\Sigma_N$ (stars arcmin$^{-1}$)]',fontsize=16)\n",
    "ax.set_xlabel(r'log[R (arcmin)]',fontsize=16)\n",
    "ax.set_title('Hor I',fontsize=20)\n",
    "\n",
    "ax.set_xticks([1, 2])\n",
    "ax.get_xaxis().set_major_formatter(mpl.ticker.ScalarFormatter())\n",
    "\n",
    "\n",
    "\n",
    "ax.legend()\n",
    "plt.savefig('figures/hor1.png')\n",
    "\n",
    "plt.show()"
   ]
  },
  {
   "cell_type": "code",
   "execution_count": 26,
   "metadata": {},
   "outputs": [
    {
     "data": {
      "text/plain": [
       "<matplotlib.colorbar.Colorbar at 0x1236735d0>"
      ]
     },
     "execution_count": 26,
     "metadata": {},
     "output_type": "execute_result"
    },
    {
     "data": {
      "image/png": "[encoded data removed]",
      "text/plain": [
       "<Figure size 432x288 with 2 Axes>"
      ]
     },
     "metadata": {
      "needs_background": "light"
     },
     "output_type": "display_data"
    }
   ],
   "source": [
    "fig,ax = plt.subplots()\n",
    "\n",
    "plt.imshow(radius)\n",
    "plt.colorbar()"
   ]
  }
 ],
 "metadata": {
  "kernelspec": {
   "display_name": "Python 3",
   "language": "python",
   "name": "python3"
  },
  "language_info": {
   "codemirror_mode": {
    "name": "ipython",
    "version": 3
   },
   "file_extension": ".py",
   "mimetype": "text/x-python",
   "name": "python",
   "nbconvert_exporter": "python",
   "pygments_lexer": "ipython3",
   "version": "3.7.6"
  }
 },
 "nbformat": 4,
 "nbformat_minor": 4
}
