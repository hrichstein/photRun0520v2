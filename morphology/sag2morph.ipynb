{
 "cells": [
  {
   "cell_type": "code",
   "execution_count": 1,
   "metadata": {},
   "outputs": [],
   "source": [
    "import numpy as np\n",
    "from astropy.io import ascii\n",
    "\n",
    "import matplotlib.pyplot as plt\n",
    "import matplotlib as mpl"
   ]
  },
  {
   "cell_type": "code",
   "execution_count": 2,
   "metadata": {},
   "outputs": [],
   "source": [
    "import _pickle as cPickle\n",
    "from matplotlib.path import Path"
   ]
  },
  {
   "cell_type": "code",
   "execution_count": 3,
   "metadata": {},
   "outputs": [],
   "source": [
    "cat = np.genfromtxt('../catRawMags20Aug/catDir_SAGITTARIUS-II/sgCut_SAGITTARIUS-II_tcCut.dat',names=True)\n",
    "xa = cat['xt1_f606w']\n",
    "ya = cat['yt1_f606w']\n",
    "flux_606 = cat['flux_f606w']"
   ]
  },
  {
   "cell_type": "code",
   "execution_count": 4,
   "metadata": {},
   "outputs": [],
   "source": [
    "orientat = 83.644681506571\n",
    "theta = np.deg2rad(orientat)\n",
    "c,s = np.cos(theta), np.sin(theta)"
   ]
  },
  {
   "cell_type": "code",
   "execution_count": 5,
   "metadata": {},
   "outputs": [],
   "source": [
    "#IMAGE BOUNDARY\n",
    "IMAGE = Path([ [220,4045],\n",
    "              [4218,4248],\n",
    "              [4099,98],\n",
    "              [0,0],\n",
    "              [220,4045]])"
   ]
  },
  {
   "cell_type": "code",
   "execution_count": 6,
   "metadata": {},
   "outputs": [],
   "source": [
    "xpath = np.array([220,4218,4099,0])\n",
    "ypath = np.array([4045,4248,98,0])\n",
    "xgap = np.array([100,99,4157,4156])\n",
    "ygap = np.array([2033,2077,2233,2184])\n",
    "\n",
    "x0 = 2386.25\n",
    "y0 = 2224.53\n",
    "\n",
    "x0T = c*(x0-x0) - s*(y0-(y0+500)) + x0\n",
    "y0T = s*(x0-x0) + c*(y0-(y0+500)) + (y0+500)\n",
    "xpT = c*(xpath-x0) - s*(ypath-(y0+500)) + x0\n",
    "ypT = s*(xpath-x0) + c*(ypath-(y0+500)) + (y0+500)\n",
    "xgT = c*(xgap-x0) - s*(ygap-(y0+500)) + x0\n",
    "ygT = s*(xgap-x0) + c*(ygap-(y0+500)) + (y0+500)\n",
    "xT = c*(xa-x0) - s*(ya-(y0+500)) + x0\n",
    "yT = s*(xa-x0) + c*(ya-(y0+500)) + (y0+500)\n",
    "xgood = xT\n",
    "ygood = yT"
   ]
  },
  {
   "cell_type": "code",
   "execution_count": 7,
   "metadata": {},
   "outputs": [],
   "source": [
    "def median_interval(data, alpha=0.32):\n",
    "    \"\"\"\n",
    "    Median including Bayesian credible interval.\n",
    "\n",
    "    Parameters\n",
    "    ----------\n",
    "    data  : posterior samples\n",
    "    alpha : 1 - confidence interval\n",
    "\n",
    "    Returns\n",
    "    -------\n",
    "    [med,[lo, hi]] : median, lower, and upper percentiles\n",
    "    \n",
    "    \"\"\"\n",
    "    q = [100*alpha/2., 50, 100*(1-alpha/2.)]\n",
    "    lo,med,hi = np.percentile(data,q)\n",
    "    return [med,[lo,hi]]"
   ]
  },
  {
   "cell_type": "code",
   "execution_count": 8,
   "metadata": {},
   "outputs": [],
   "source": [
    "samples = cPickle.load( open( \"sag2mcmc.p\", \"rb\" ) )\n",
    "#MEDIAN VALUES AND +/-1 SIGMA FOR EACH FIT PARAMETER\n",
    "rich,[rich_min,rich_max] = median_interval(samples[:,0])\n",
    "x,[xmin,xmax] = median_interval(samples[:,1])\n",
    "y,[ymin,ymax] = median_interval(samples[:,2])\n",
    "sag2_ext_fit,[sag2_ext_min,sag2_ext_max] = median_interval(samples[:,3])\n",
    "sag2_ell_fit,[sag2_ell_min,sag2_ell_max] = median_interval(samples[:,4])\n",
    "sag2_pa_fit,[sag2_pa_min,sag2_pa_max] = median_interval(samples[:,5])\n",
    "\n",
    "res = [rich,rich_min,rich_max,x,xmin,xmax,y,ymin,ymax,sag2_ext_fit,sag2_ext_min,sag2_ext_max,\\\n",
    "       sag2_ell_fit,sag2_ell_min,sag2_ell_max,sag2_pa_fit,sag2_pa_min,sag2_pa_max]#,rich_cluster,rich_cluster_min,rich_cluster_max,x_cluster,x_cluster_min,x_cluster_max,y_cluster,y_cluster_min,y_cluster_max,cluster_ext_fit,cluster_ext_min,cluster_ext_max,cluster_ell_fit,cluster_ell_min,cluster_ell_max,cluster_pa_fit,cluster_pa_min,cluster_pa_max]\n",
    "# results.append(res)"
   ]
  },
  {
   "cell_type": "code",
   "execution_count": 9,
   "metadata": {},
   "outputs": [
    {
     "name": "stdout",
     "output_type": "stream",
     "text": [
      "[4887.172113219281, 4738.952339314343, 4969.567954505806, 3058.4099824621417, 2980.207458734817, 3137.3285941806903, 2783.446500601757, 2739.6100926636805, 2828.240557588124, 3361.465200409174, 3211.669845015338, 3506.2082988602097, 0.3509505657415931, 0.30428748993428434, 0.39363393395501833, 81.21586205366246, 80.31870185346054, 82.98433147138742]\n"
     ]
    }
   ],
   "source": [
    "print(res)"
   ]
  },
  {
   "cell_type": "code",
   "execution_count": 10,
   "metadata": {},
   "outputs": [],
   "source": [
    "# BEST-FIT sag2 I PARAMETERS (FROM MCMC_STRUCTURAL_FIT)\n",
    "richness = rich\n",
    "x0 = x\n",
    "y0 = y\n",
    "gal_ext_pix = sag2_ext_fit\n",
    "\n",
    "gal_ell = sag2_ell_fit\n",
    "gal_pa = sag2_pa_fit"
   ]
  },
  {
   "cell_type": "code",
   "execution_count": 11,
   "metadata": {},
   "outputs": [],
   "source": [
    "xbin0 = np.ones((267,1))  # (fltarr(267)+1)\n",
    "xbin1 = np.ones((1,267))  \n",
    "xbin1[0] = np.arange(0,267,1)\n",
    "xbin2 = xbin1 * 30 + 15  # (findgen(267)*30. + 15)\n",
    "xbin = np.matmul(xbin0,xbin2)\n",
    "ybin = xbin.T\n",
    "\n",
    "# creating x and y arrays to represent the bins across the image"
   ]
  },
  {
   "cell_type": "code",
   "execution_count": 12,
   "metadata": {},
   "outputs": [],
   "source": [
    "costh = np.cos(-1 * np.deg2rad(gal_pa))\n",
    "sinth = np.sin(-1 * np.deg2rad(gal_pa))\n",
    "\n",
    "dx = xbin - x0\n",
    "dy = ybin - y0"
   ]
  },
  {
   "cell_type": "code",
   "execution_count": 13,
   "metadata": {},
   "outputs": [],
   "source": [
    "r1 = (dx * costh - dy * sinth) / (1 - gal_ell)\n",
    "r2 = (dx * sinth + dy * costh)\n",
    "\n",
    "radius = np.sqrt(r1**2 + r2**2)\n",
    "# calculating distances to different bins in the annuli based on the PA"
   ]
  },
  {
   "cell_type": "code",
   "execution_count": 14,
   "metadata": {},
   "outputs": [],
   "source": [
    "r_h = gal_ext_pix\n",
    "norm = r_h**2 / (np.pi * (1-gal_ell))\n",
    "# half light radius squared / (pi * 1-ell)\n",
    "pdf = norm/((radius**2 + r_h**2)**2)"
   ]
  },
  {
   "cell_type": "code",
   "execution_count": 15,
   "metadata": {},
   "outputs": [],
   "source": [
    "xdel = 30.\n",
    "ydel = 30.\n",
    "pixarea = xdel*ydel  # pixel area in each bin"
   ]
  },
  {
   "cell_type": "code",
   "execution_count": 16,
   "metadata": {},
   "outputs": [],
   "source": [
    "model_counts_gal = richness*pdf*pixarea  # a 267x267 array"
   ]
  },
  {
   "cell_type": "code",
   "execution_count": 17,
   "metadata": {},
   "outputs": [],
   "source": [
    "# Observed surface density map\n",
    "binned_surface_density_30 = np.zeros((267,267))\n",
    "for ii in range(267):\n",
    "    for jj in range(267):\n",
    "        idxgood = np.logical_and(np.logical_and(xgood >= (30 * ii),xgood <= (30 * (ii + 1))),\n",
    "                     np.logical_and(ygood >= (30 * jj),ygood <= (30 * (jj + 1))))\n",
    "\n",
    "        tmp = np.where(idxgood)[0]\n",
    "#         # flipping ii and jj because in IDL, it's col, row.\n",
    "        binned_surface_density_30[jj,ii] = len(tmp)"
   ]
  },
  {
   "cell_type": "code",
   "execution_count": 18,
   "metadata": {},
   "outputs": [],
   "source": [
    "# Define annuli\n",
    "radius1=radius.flatten()\n",
    "r1 = np.where(radius1 < (0.1 * r_h))\n",
    "r2 = np.where((radius1 < (0.2 * r_h)) & (radius1 >= (0.1 * r_h)))\n",
    "r3 = np.where((radius1 < (0.3 * r_h)) & (radius1 >= (0.2 * r_h)))\n",
    "r4 = np.where((radius1 < (0.4 * r_h)) & (radius1 >= (0.3 * r_h)))\n",
    "r5 = np.where((radius1 < (0.5 * r_h)) & (radius1 >= (0.4 * r_h)))\n",
    "r6 = np.where((radius1 < (0.6 * r_h)) & (radius1 >= (0.5 * r_h)))\n",
    "r7 = np.where((radius1 < (0.7 * r_h)) & (radius1 >= (0.6 * r_h)))\n",
    "r8 = np.where((radius1 < (0.8 * r_h)) & (radius1 >= (0.7 * r_h)))\n",
    "r9 = np.where((radius1 < (0.9 * r_h)) & (radius1 >= (0.8 * r_h)))\n",
    "r10 = np.where((radius1 < r_h) & (radius1 >= (0.9 * r_h)))"
   ]
  },
  {
   "cell_type": "code",
   "execution_count": 19,
   "metadata": {},
   "outputs": [],
   "source": [
    "# To get the actual indices\n",
    "r1v = r1[0]\n",
    "r2v = r2[0]\n",
    "r3v = r3[0]\n",
    "r4v = r4[0]\n",
    "r5v = r5[0]\n",
    "r6v = r6[0]\n",
    "r7v = r7[0]\n",
    "r8v = r8[0]\n",
    "r9v = r9[0]\n",
    "r10v = r10[0]"
   ]
  },
  {
   "cell_type": "code",
   "execution_count": 20,
   "metadata": {},
   "outputs": [],
   "source": [
    "samples = cPickle.load( open( \"sag2mcmcEXP.p\", \"rb\" ) )\n",
    "#MEDIAN VALUES AND +/-1 SIGMA FOR EACH FIT PARAMETER\n",
    "rich2,[rich_min,rich_max] = median_interval(samples[:,0])\n",
    "x2,[xmin,xmax] = median_interval(samples[:,1])\n",
    "y2,[ymin,ymax] = median_interval(samples[:,2])\n",
    "sag_ext_fit2,[sag_ext_min,sag_ext_max] = median_interval(samples[:,3])\n",
    "sag_ell_fit2,[sag_ell_min,sag_ell_max] = median_interval(samples[:,4])\n",
    "sag_pa_fit2,[sag_pa_min,sag_pa_max] = median_interval(samples[:,5])\n",
    "\n",
    "res2 = [rich,rich_min,rich_max,x2,xmin,xmax,y2,ymin,ymax,sag_ext_fit2,sag_ext_min,sag_ext_max,\\\n",
    "       sag_ell_fit2,sag_ell_min,sag_ell_max,sag_pa_fit2,sag_pa_min,sag_pa_max]#,rich_cluster,rich_cluster_min,rich_cluster_max,x_cluster,x_cluster_min,x_cluster_max,y_cluster,y_cluster_min,y_cluster_max,cluster_ext_fit,cluster_ext_min,cluster_ext_max,cluster_ell_fit,cluster_ell_min,cluster_ell_max,cluster_pa_fit,cluster_pa_min,cluster_pa_max]\n",
    "# results.append(res)"
   ]
  },
  {
   "cell_type": "code",
   "execution_count": 21,
   "metadata": {},
   "outputs": [
    {
     "name": "stdout",
     "output_type": "stream",
     "text": [
      "[4887.172113219281, 4785.452081400074, 4977.01262723177, 3058.276380953904, 2981.590247952599, 3134.6479139360827, 2783.7323504198766, 2739.9634355990643, 2827.1849804487206, 3441.2087307651473, 3294.2479100512082, 3586.164140630842, 0.37027950902271467, 0.3235623301143629, 0.4126145590912776, 81.1896772845635, 80.3128655070418, 82.93649344037703]\n"
     ]
    }
   ],
   "source": [
    "print(res2)"
   ]
  },
  {
   "cell_type": "code",
   "execution_count": 22,
   "metadata": {},
   "outputs": [],
   "source": [
    "richness = rich2\n",
    "x0 = x2\n",
    "y0 = y2\n",
    "gal_ext_pix = sag_ext_fit2\n",
    "gal_ell = sag_ell_fit2\n",
    "gal_pa = sag_pa_fit2\n",
    "r_e = gal_ext_pix/1.68\n",
    "r_h = gal_ext_pix"
   ]
  },
  {
   "cell_type": "code",
   "execution_count": 23,
   "metadata": {},
   "outputs": [],
   "source": [
    "costh = np.cos(-1 * np.deg2rad(gal_pa))\n",
    "sinth = np.sin(-1 * np.deg2rad(gal_pa))\n",
    "\n",
    "dx = xbin - x0\n",
    "dy = ybin - y0"
   ]
  },
  {
   "cell_type": "code",
   "execution_count": 24,
   "metadata": {},
   "outputs": [],
   "source": [
    "richness = rich2\n",
    "x0 = x2\n",
    "y0 = y2\n",
    "gal_ext_pix = sag_ext_fit2\n",
    "gal_ell = sag_ell_fit2\n",
    "gal_pa = sag_pa_fit2\n",
    "r_e = gal_ext_pix/1.68\n",
    "r_h = gal_ext_pix"
   ]
  },
  {
   "cell_type": "code",
   "execution_count": 25,
   "metadata": {},
   "outputs": [],
   "source": [
    "r1 = (dx * costh - dy * sinth) / (1 - gal_ell)\n",
    "r2 = (dx * sinth + dy * costh)\n",
    "\n",
    "radius2 = np.sqrt(r1**2 + r2**2)\n",
    "# calculating distances to different bins in the annuli based on the PA"
   ]
  },
  {
   "cell_type": "code",
   "execution_count": 26,
   "metadata": {},
   "outputs": [],
   "source": [
    "sat_val = 75000\n",
    "\n",
    "rad_dist = np.sqrt( (xa-x0)**2 + (ya-y0)**2)\n",
    "sort_idx = np.argsort(rad_dist)\n",
    "flat_flux = flux_606\n",
    "flat_flux[flat_flux > sat_val] = 75000\n",
    "\n",
    "sorted_rad = rad_dist[sort_idx]\n",
    "sorted_flux = flat_flux[sort_idx]\n",
    "\n",
    "total_flux = flat_flux.sum()"
   ]
  },
  {
   "cell_type": "code",
   "execution_count": 27,
   "metadata": {},
   "outputs": [
    {
     "name": "stdout",
     "output_type": "stream",
     "text": [
      "21496988.015623763\n",
      "75000.0\n"
     ]
    }
   ],
   "source": [
    "print(total_flux)\n",
    "print(max(flat_flux))"
   ]
  },
  {
   "cell_type": "code",
   "execution_count": 28,
   "metadata": {},
   "outputs": [
    {
     "name": "stdout",
     "output_type": "stream",
     "text": [
      "1.168508132941305\n"
     ]
    }
   ],
   "source": [
    "part_flux = 0\n",
    "ii = 0\n",
    "\n",
    "while part_flux <= (0.5*total_flux):\n",
    "    part_flux += sorted_flux[ii]\n",
    "    ii += 1\n",
    "    \n",
    "idx_take = ii - 1\n",
    "rad_half = rad_dist[ii-1]\n",
    "\n",
    "print(rad_half/1200)  # arcmin"
   ]
  },
  {
   "cell_type": "code",
   "execution_count": 29,
   "metadata": {},
   "outputs": [],
   "source": [
    "#Normalization (integrates to unity over all space) [stars/pix^2)\n",
    "norm2 = 1./(2*np.pi*r_e**2 * (1-gal_ell) )\n",
    "\n",
    "# Exponential PDF\n",
    "pdf2 = norm2 * np.exp(-radius2/r_e)"
   ]
  },
  {
   "cell_type": "code",
   "execution_count": 30,
   "metadata": {},
   "outputs": [],
   "source": [
    "model_counts_exp = richness*pdf2*pixarea"
   ]
  },
  {
   "cell_type": "code",
   "execution_count": 31,
   "metadata": {},
   "outputs": [],
   "source": [
    "# Define annuli\n",
    "# Gives back list (or array?) of indices where the condition is true\n",
    "# So... sources that are within a certain radius of the center\n",
    "radius3=radius2.flatten()\n",
    "r1 = np.where(radius3 < (0.1 * r_h))\n",
    "r2 = np.where((radius3 < (0.2 * r_h)) & (radius3 >= (0.1 * r_h)))\n",
    "r3 = np.where((radius3 < (0.3 * r_h)) & (radius3 >= (0.2 * r_h)))\n",
    "r4 = np.where((radius3 < (0.4 * r_h)) & (radius3 >= (0.3 * r_h)))\n",
    "r5 = np.where((radius3 < (0.5 * r_h)) & (radius3 >= (0.4 * r_h)))\n",
    "r6 = np.where((radius3 < (0.6 * r_h)) & (radius3 >= (0.5 * r_h)))\n",
    "r7 = np.where((radius3 < (0.7 * r_h)) & (radius3 >= (0.6 * r_h)))\n",
    "r8 = np.where((radius3 < (0.8 * r_h)) & (radius3 >= (0.7 * r_h)))\n",
    "r9 = np.where((radius3 < (0.9 * r_h)) & (radius3 >= (0.8 * r_h)))\n",
    "r10 = np.where((radius3 < r_h) & (radius3 >= (0.9 * r_h)))"
   ]
  },
  {
   "cell_type": "code",
   "execution_count": 32,
   "metadata": {},
   "outputs": [],
   "source": [
    "# To get the actual indices\n",
    "r1ve = r1[0]\n",
    "r2ve = r2[0]\n",
    "r3ve = r3[0]\n",
    "r4ve = r4[0]\n",
    "r5ve = r5[0]\n",
    "r6ve = r6[0]\n",
    "r7ve = r7[0]\n",
    "r8ve = r8[0]\n",
    "r9ve = r9[0]\n",
    "r10ve = r10[0]"
   ]
  },
  {
   "cell_type": "code",
   "execution_count": 33,
   "metadata": {},
   "outputs": [],
   "source": [
    "# areas of annuli in arcmin**2\n",
    "pix_per_arcsec=20\n",
    "\n",
    "a1 = (np.pi*(r_h*0.1)**2*(1-gal_ell))/(pix_per_arcsec*60)**2\n",
    "a2 = (np.pi*(r_h*0.2)**2*(1-gal_ell) - np.pi*(r_h*0.1)**2*(1-gal_ell))/(pix_per_arcsec*60)**2\n",
    "a3 = (np.pi*(r_h*0.3)**2*(1-gal_ell) - np.pi*(r_h*0.2)**2*(1-gal_ell))/(pix_per_arcsec*60)**2\n",
    "a4 = (np.pi*(r_h*0.4)**2*(1-gal_ell) - np.pi*(r_h*0.3)**2*(1-gal_ell))/(pix_per_arcsec*60)**2\n",
    "a5 = (np.pi*(r_h*0.5)**2*(1-gal_ell) - np.pi*(r_h*0.4)**2*(1-gal_ell))/(pix_per_arcsec*60)**2\n",
    "a6 = (np.pi*(r_h*0.6)**2*(1-gal_ell) - np.pi*(r_h*0.5)**2*(1-gal_ell))/(pix_per_arcsec*60)**2\n",
    "a7 = (np.pi*(r_h*0.7)**2*(1-gal_ell) - np.pi*(r_h*0.6)**2*(1-gal_ell))/(pix_per_arcsec*60)**2\n",
    "a8 = (np.pi*(r_h*0.8)**2*(1-gal_ell) - np.pi*(r_h*0.7)**2*(1-gal_ell))/(pix_per_arcsec*60)**2\n",
    "a9 = (np.pi*(r_h*0.9)**2*(1-gal_ell) - np.pi*(r_h*0.8)**2*(1-gal_ell))/(pix_per_arcsec*60)**2\n",
    "a10 = (np.pi*(r_h*1.0)**2*(1-gal_ell) - np.pi*(r_h*0.9)**2*(1-gal_ell))/(pix_per_arcsec*60)**2"
   ]
  },
  {
   "cell_type": "code",
   "execution_count": 34,
   "metadata": {},
   "outputs": [],
   "source": [
    "dist_x = np.array([r_h*0.1,r_h*0.2,r_h*0.3,r_h*0.4,r_h*0.5,r_h*0.6,r_h*0.7,r_h*0.8,r_h*0.9,r_h])/1200"
   ]
  },
  {
   "cell_type": "code",
   "execution_count": 35,
   "metadata": {},
   "outputs": [],
   "source": [
    "binned_surface_density_30f = binned_surface_density_30.flatten()\n",
    "model_counts_galf = model_counts_gal.flatten()\n",
    "model_counts_expf = model_counts_exp.flatten()\n",
    "data_1d = [binned_surface_density_30f[r1v].sum()/a1,\n",
    "           binned_surface_density_30f[r2v].sum()/a2,\n",
    "           binned_surface_density_30f[r3v].sum()/a3,\n",
    "           binned_surface_density_30f[r4v].sum()/a4,\n",
    "           binned_surface_density_30f[r5v].sum()/a5,\n",
    "           binned_surface_density_30f[r6v].sum()/a6,\n",
    "           binned_surface_density_30f[r7v].sum()/a7,\n",
    "           binned_surface_density_30f[r8v].sum()/a8,\n",
    "           binned_surface_density_30f[r9v].sum()/a9,\n",
    "           binned_surface_density_30f[r10v].sum()/a10]\n",
    "\n",
    "model_1d = [model_counts_galf[r1v].sum()/a1,\n",
    "            model_counts_galf[r2v].sum()/a2,\n",
    "            model_counts_galf[r3v].sum()/a3,\n",
    "            model_counts_galf[r4v].sum()/a4,\n",
    "            model_counts_galf[r5v].sum()/a5,\n",
    "            model_counts_galf[r6v].sum()/a6,\n",
    "            model_counts_galf[r7v].sum()/a7,\n",
    "            model_counts_galf[r8v].sum()/a8,\n",
    "            model_counts_galf[r9v].sum()/a9,\n",
    "            model_counts_galf[r10v].sum()/a10]\n",
    "\n",
    "model_1de = [model_counts_expf[r1ve].sum()/a1,\n",
    "            model_counts_expf[r2ve].sum()/a2,\n",
    "            model_counts_expf[r3ve].sum()/a3,\n",
    "            model_counts_expf[r4ve].sum()/a4,\n",
    "            model_counts_expf[r5ve].sum()/a5,\n",
    "            model_counts_expf[r6ve].sum()/a6,\n",
    "            model_counts_expf[r7ve].sum()/a7,\n",
    "            model_counts_expf[r8ve].sum()/a8,\n",
    "            model_counts_expf[r9ve].sum()/a9,\n",
    "            model_counts_expf[r10ve].sum()/a10]"
   ]
  },
  {
   "cell_type": "code",
   "execution_count": 36,
   "metadata": {},
   "outputs": [
    {
     "data": {
      "image/png": "[encoded data removed]",
      "text/plain": [
       "<Figure size 648x504 with 1 Axes>"
      ]
     },
     "metadata": {
      "needs_background": "light"
     },
     "output_type": "display_data"
    }
   ],
   "source": [
    "fig, ax = plt.subplots(figsize=(9,7))\n",
    "\n",
    "ax.plot(dist_x,data_1d,label='Data')\n",
    "ax.plot(dist_x,model_1d,label='Model Plummer')\n",
    "ax.plot(dist_x,model_1de,label='Model Exp')\n",
    "\n",
    "ax.set_xscale('log')\n",
    "ax.set_yscale('log')\n",
    "\n",
    "ax.set_ylabel(r'log[$\\Sigma_N$ (stars arcmin$^{-1}$)]',fontsize=16)\n",
    "ax.set_xlabel(r'log[R (arcmin)]',fontsize=16)\n",
    "ax.set_title('Sgr II',fontsize=20)\n",
    "\n",
    "ax.set_xticks([1, 2])\n",
    "ax.get_xaxis().set_major_formatter(mpl.ticker.ScalarFormatter())\n",
    "\n",
    "\n",
    "\n",
    "ax.legend()\n",
    "# plt.savefig('figures/sgr2.png')\n",
    "plt.show()"
   ]
  },
  {
   "cell_type": "code",
   "execution_count": 37,
   "metadata": {},
   "outputs": [],
   "source": [
    "ra1 = np.arange(0,10,1)\n",
    "r_annuli = (ra1 + 0.05) * r_h\n",
    "\n",
    "binned_surface_density_30f = binned_surface_density_30.flatten()\n",
    "model_counts_expf = model_counts_exp.flatten()\n",
    "model_counts_galf = model_counts_gal.flatten()\n",
    "data_1d = [binned_surface_density_30f[r1v].sum(),\n",
    "           binned_surface_density_30f[r2v].sum(),\n",
    "           binned_surface_density_30f[r3v].sum(),\n",
    "           binned_surface_density_30f[r4v].sum(),\n",
    "           binned_surface_density_30f[r5v].sum(),\n",
    "           binned_surface_density_30f[r6v].sum(),\n",
    "           binned_surface_density_30f[r7v].sum(),\n",
    "           binned_surface_density_30f[r8v].sum(),\n",
    "           binned_surface_density_30f[r9v].sum(),\n",
    "           binned_surface_density_30f[r10v].sum()]\n",
    "\n",
    "model_1d = [model_counts_galf[r1v].sum(),\n",
    "            model_counts_galf[r2v].sum(),\n",
    "            model_counts_galf[r3v].sum(),\n",
    "            model_counts_galf[r4v].sum(),\n",
    "            model_counts_galf[r5v].sum(),\n",
    "            model_counts_galf[r6v].sum(),\n",
    "            model_counts_galf[r7v].sum(),\n",
    "            model_counts_galf[r8v].sum(),\n",
    "            model_counts_galf[r9v].sum(),\n",
    "            model_counts_galf[r10v].sum()]\n",
    "\n",
    "model_1de = [model_counts_expf[r1ve].sum(),\n",
    "            model_counts_expf[r2ve].sum(),\n",
    "            model_counts_expf[r3ve].sum(),\n",
    "            model_counts_expf[r4ve].sum(),\n",
    "            model_counts_expf[r5ve].sum(),\n",
    "            model_counts_expf[r6ve].sum(),\n",
    "            model_counts_expf[r7ve].sum(),\n",
    "            model_counts_expf[r8ve].sum(),\n",
    "            model_counts_expf[r9ve].sum(),\n",
    "            model_counts_expf[r10ve].sum()]"
   ]
  },
  {
   "cell_type": "code",
   "execution_count": 38,
   "metadata": {},
   "outputs": [
    {
     "data": {
      "image/png": "[encoded data removed]",
      "text/plain": [
       "<Figure size 432x288 with 1 Axes>"
      ]
     },
     "metadata": {
      "needs_background": "light"
     },
     "output_type": "display_data"
    }
   ],
   "source": [
    "fig, ax = plt.subplots()\n",
    "\n",
    "ax.plot(ra1,data_1d,label='Data')\n",
    "ax.plot(ra1,model_1d,label='Model Plummer')\n",
    "ax.plot(ra1,model_1de,label='Model Exp')\n",
    "\n",
    "ax.legend()\n",
    "plt.show()"
   ]
  },
  {
   "cell_type": "code",
   "execution_count": 39,
   "metadata": {},
   "outputs": [
    {
     "data": {
      "text/plain": [
       "<matplotlib.colorbar.Colorbar at 0x121852d90>"
      ]
     },
     "execution_count": 39,
     "metadata": {},
     "output_type": "execute_result"
    },
    {
     "data": {
      "image/png": "[encoded data removed]",
      "text/plain": [
       "<Figure size 576x576 with 2 Axes>"
      ]
     },
     "metadata": {
      "needs_background": "light"
     },
     "output_type": "display_data"
    }
   ],
   "source": [
    "fig,ax = plt.subplots(figsize=(8,8))\n",
    "\n",
    "plt.imshow(radius)\n",
    "plt.colorbar()"
   ]
  },
  {
   "cell_type": "code",
   "execution_count": null,
   "metadata": {},
   "outputs": [],
   "source": [
    "# Exponential radius (re = rh/1.68)\n",
    "r_e = ext/1.68 \n",
    "#Normalization (integrates to unity over all space) [stars/pix^2)\n",
    "norm = 1./(2*np.pi*r_e**2 * (1-ell) )\n",
    "\n",
    "# Exponential PDF\n",
    "pdf = norm * np.exp(-radius/r_e)"
   ]
  }
 ],
 "metadata": {
  "kernelspec": {
   "display_name": "Python 3",
   "language": "python",
   "name": "python3"
  },
  "language_info": {
   "codemirror_mode": {
    "name": "ipython",
    "version": 3
   },
   "file_extension": ".py",
   "mimetype": "text/x-python",
   "name": "python",
   "nbconvert_exporter": "python",
   "pygments_lexer": "ipython3",
   "version": "3.7.6"
  }
 },
 "nbformat": 4,
 "nbformat_minor": 4
}
