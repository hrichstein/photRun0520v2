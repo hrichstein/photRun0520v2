{
 "cells": [
  {
   "cell_type": "code",
   "execution_count": 1,
   "metadata": {},
   "outputs": [],
   "source": [
    "import numpy as np\n",
    "from astropy.io import ascii\n",
    "import _pickle as cPickle"
   ]
  },
  {
   "cell_type": "code",
   "execution_count": 30,
   "metadata": {},
   "outputs": [],
   "source": [
    "import matplotlib.pyplot as plt\n",
    "import matplotlib as mpl"
   ]
  },
  {
   "cell_type": "code",
   "execution_count": 3,
   "metadata": {},
   "outputs": [],
   "source": [
    "#READ IN PHOTOMETRY FROM AN ASCII FILE\n",
    "cat = ascii.read(\"eri2cut.cat\")  \n",
    "\n",
    "xgood=cat[cat.colnames[0]]\n",
    "ygood=cat[cat.colnames[1]]\n",
    "m606=cat[cat.colnames[2]]\n",
    "dm606=cat[cat.colnames[3]]\n",
    "m814=cat[cat.colnames[4]]\n",
    "dm814=cat[cat.colnames[5]]\n",
    "flag=cat[cat.colnames[6]]"
   ]
  },
  {
   "cell_type": "code",
   "execution_count": 4,
   "metadata": {},
   "outputs": [
    {
     "data": {
      "text/plain": [
       "11983"
      ]
     },
     "execution_count": 4,
     "metadata": {},
     "output_type": "execute_result"
    }
   ],
   "source": [
    "len(cat)"
   ]
  },
  {
   "cell_type": "code",
   "execution_count": 5,
   "metadata": {},
   "outputs": [],
   "source": [
    "def median_interval(data, alpha=0.32):\n",
    "    \"\"\"\n",
    "    Median including Bayesian credible interval.\n",
    "\n",
    "    Parameters\n",
    "    ----------\n",
    "    data  : posterior samples\n",
    "    alpha : 1 - confidence interval\n",
    "\n",
    "    Returns\n",
    "    -------\n",
    "    [med,[lo, hi]] : median, lower, and upper percentiles\n",
    "    \n",
    "    \"\"\"\n",
    "    q = [100*alpha/2., 50, 100*(1-alpha/2.)]\n",
    "    lo,med,hi = np.percentile(data,q)\n",
    "    return [med,[lo,hi]]"
   ]
  },
  {
   "cell_type": "code",
   "execution_count": 6,
   "metadata": {},
   "outputs": [],
   "source": [
    "samples = cPickle.load( open( \"eri2mcmcFULL.p\", \"rb\" ) )\n",
    "#MEDIAN VALUES AND +/-1 SIGMA FOR EACH FIT PARAMETER\n",
    "rich,[rich_min,rich_max] = median_interval(samples[:,0])\n",
    "x,[xmin,xmax] = median_interval(samples[:,1])\n",
    "y,[ymin,ymax] = median_interval(samples[:,2])\n",
    "eri2_ext_fit,[eri2_ext_min,eri2_ext_max] = median_interval(samples[:,3])\n",
    "eri2_ell_fit,[eri2_ell_min,eri2_ell_max] = median_interval(samples[:,4])\n",
    "eri2_pa_fit,[eri2_pa_min,eri2_pa_max] = median_interval(samples[:,5])\n",
    "\n",
    "res = [rich,rich_min,rich_max,x,xmin,xmax,y,ymin,ymax,eri2_ext_fit,eri2_ext_min,eri2_ext_max,\\\n",
    "       eri2_ell_fit,eri2_ell_min,eri2_ell_max,eri2_pa_fit,eri2_pa_min,eri2_pa_max]#,rich_cluster,rich_cluster_min,rich_cluster_max,x_cluster,x_cluster_min,x_cluster_max,y_cluster,y_cluster_min,y_cluster_max,cluster_ext_fit,cluster_ext_min,cluster_ext_max,cluster_ell_fit,cluster_ell_min,cluster_ell_max,cluster_pa_fit,cluster_pa_min,cluster_pa_max]\n",
    "# results.append(res)"
   ]
  },
  {
   "cell_type": "code",
   "execution_count": 61,
   "metadata": {},
   "outputs": [],
   "source": [
    "samples = cPickle.load( open( \"eri2mcmcCLUS.p\", \"rb\" ) )\n",
    "\n",
    "#MEDIAN VALUES AND +/-1 SIGMA FOR EACH FIT PARAMETER\n",
    "rich,[rich_min,rich_max] = median_interval(samples[:,0])\n",
    "x,[xmin,xmax] = median_interval(samples[:,1])\n",
    "y,[ymin,ymax] = median_interval(samples[:,2])\n",
    "eri2_ext_fit,[eri2_ext_min,eri2_ext_max] = median_interval(samples[:,3])\n",
    "eri2_ell_fit,[eri2_ell_min,eri2_ell_max] = median_interval(samples[:,4])\n",
    "eri2_pa_fit,[eri2_pa_min,eri2_pa_max] = median_interval(samples[:,5])\n",
    "\n",
    "# rich_cluster,[rich_cluster_min,rich_cluster_max] = median_interval(samples[:,6])\n",
    "# x_cluster,[x_cluster_min,x_cluster_max] = median_interval(samples[:,7])\n",
    "# y_cluster,[y_cluster_min,y_cluster_max] = median_interval(samples[:,8])\n",
    "# cluster_ext_fit,[cluster_ext_min,cluster_ext_max] = median_interval(samples[:,9])\n",
    "# cluster_ell_fit,[cluster_ell_min,cluster_ell_max] = median_interval(samples[:,10])\n",
    "# cluster_pa_fit,[cluster_pa_min,cluster_pa_max] = median_interval(samples[:,11])\n",
    "\n",
    "\n",
    "res = [rich,rich_min,rich_max,x,xmin,xmax,y,ymin,ymax,eri2_ext_fit,eri2_ext_min,eri2_ext_max,\\\n",
    "       eri2_ell_fit,eri2_ell_min,eri2_ell_max,eri2_pa_fit,eri2_pa_min,eri2_pa_max] #rich_cluster,\\\n",
    "#        rich_cluster_min,rich_cluster_max,x_cluster,x_cluster_min,x_cluster_max,y_cluster,\\\n",
    "#        y_cluster_min,y_cluster_max,cluster_ext_fit,cluster_ext_min,cluster_ext_max,\\\n",
    "#        cluster_ell_fit,cluster_ell_min,cluster_ell_max,cluster_pa_fit,cluster_pa_min,cluster_pa_max]"
   ]
  },
  {
   "cell_type": "code",
   "execution_count": 62,
   "metadata": {},
   "outputs": [
    {
     "name": "stdout",
     "output_type": "stream",
     "text": [
      "[29625.60144527568, 28700.496170665145, 30634.914080919843, 4121.089120960359, 4069.524371888049, 4175.138844690306, 3601.060835622961, 3576.9130120770596, 3625.2144071297166, 5193.673688473831, 4998.317412591178, 5410.701962704743, 0.4461005692825447, 0.42454119582403826, 0.4677216077992698, 77.74118481973353, 76.56066372971482, 78.93077489105298]\n"
     ]
    }
   ],
   "source": [
    "print(res)"
   ]
  },
  {
   "cell_type": "code",
   "execution_count": 8,
   "metadata": {},
   "outputs": [],
   "source": [
    "pix_per_arcsec = 1/0.035"
   ]
  },
  {
   "cell_type": "code",
   "execution_count": 60,
   "metadata": {},
   "outputs": [
    {
     "name": "stdout",
     "output_type": "stream",
     "text": [
      "0.11375\n"
     ]
    }
   ],
   "source": [
    "print((5193-4998)/pix_per_arcsec/60)"
   ]
  },
  {
   "cell_type": "code",
   "execution_count": 63,
   "metadata": {},
   "outputs": [],
   "source": [
    "# BEST-FIT ERI II PARAMETERS (FROM MCMC_STRUCTURAL_FIT_ERI2_FINAL.IPYNB)\n",
    "# richness = 29662\n",
    "# x0 = 4123.4\n",
    "# y0 = 3601.7\n",
    "# eri_ext_pix = 5205.\n",
    "# eri_ell = 0.447\n",
    "# eri_pa = 77.8\n",
    "\n",
    "richness = rich\n",
    "x0 = x\n",
    "y0 = y\n",
    "eri_ext_pix = eri2_ext_fit\n",
    "eri_ell = eri2_ell_fit\n",
    "eri_pa = eri2_pa_fit\n",
    "\n",
    "# PIXAREA  =((0.035/3600.)*XDEL)*( (0.035/3600.)*YDEL)"
   ]
  },
  {
   "cell_type": "code",
   "execution_count": 64,
   "metadata": {},
   "outputs": [],
   "source": [
    "xbin0 = np.ones((267,1))  # (fltarr(267)+1)\n",
    "xbin1 = np.ones((1,267))  \n",
    "xbin1[0] = np.arange(0,267,1)\n",
    "xbin2 = xbin1 * 30 + 15  # (findgen(267)*30. + 15)\n",
    "xbin = np.matmul(xbin0,xbin2)\n",
    "ybin = xbin.T\n",
    "\n",
    "# creating x and y arrays to represent the bins across the image"
   ]
  },
  {
   "cell_type": "code",
   "execution_count": 65,
   "metadata": {},
   "outputs": [],
   "source": [
    "costh = np.cos(-1 * np.deg2rad(eri_pa))\n",
    "sinth = np.sin(-1 * np.deg2rad(eri_pa))\n",
    "# print(sinth)\n",
    "dx = xbin - x0\n",
    "dy = ybin - y0"
   ]
  },
  {
   "cell_type": "code",
   "execution_count": 66,
   "metadata": {},
   "outputs": [],
   "source": [
    "r1 = (dx * costh - dy * sinth) / (1 - eri_ell)\n",
    "r2 = (dx * sinth + dy * costh)\n",
    "\n",
    "radius = np.sqrt(r1**2 + r2**2)\n",
    "# calculating distances to different bins in the annuli based on the PA"
   ]
  },
  {
   "cell_type": "code",
   "execution_count": 67,
   "metadata": {},
   "outputs": [],
   "source": [
    "r_h = eri_ext_pix\n",
    "norm = r_h**2 / (np.pi * (1-eri_ell))\n",
    "# half light radius squared / (pi * 1-ell)\n",
    "pdf = norm/((radius**2 + r_h**2)**2)"
   ]
  },
  {
   "cell_type": "code",
   "execution_count": 68,
   "metadata": {},
   "outputs": [],
   "source": [
    "xdel = 30.\n",
    "ydel = 30.\n",
    "pixarea = xdel*ydel  # pixel area in each bin"
   ]
  },
  {
   "cell_type": "code",
   "execution_count": 69,
   "metadata": {},
   "outputs": [],
   "source": [
    "model_counts_eri2 = richness*pdf*pixarea  # a 267x267 array"
   ]
  },
  {
   "cell_type": "code",
   "execution_count": 70,
   "metadata": {},
   "outputs": [
    {
     "data": {
      "text/plain": [
       "array([[0.04136198, 0.041671  , 0.04198182, 0.04229443, 0.04260883],\n",
       "       [0.04202531, 0.04234108, 0.04265871, 0.04297818, 0.0432995 ],\n",
       "       [0.04269978, 0.04302246, 0.04334705, 0.04367355, 0.04400195],\n",
       "       [0.04338558, 0.04371532, 0.04404703, 0.0443807 , 0.04471634],\n",
       "       [0.04408285, 0.04441981, 0.0447588 , 0.04509982, 0.04544286]])"
      ]
     },
     "execution_count": 70,
     "metadata": {},
     "output_type": "execute_result"
    }
   ],
   "source": [
    "model_counts_eri2[0:5,0:5]"
   ]
  },
  {
   "cell_type": "code",
   "execution_count": 71,
   "metadata": {},
   "outputs": [],
   "source": [
    "# Observed surface density map\n",
    "binned_surface_density_30 = np.zeros((267,267))\n",
    "for ii in range(267):\n",
    "    for jj in range(267):\n",
    "        idx = np.logical_and(np.logical_and(xgood >= (30 * ii),xgood <= (30 * (ii + 1))),\n",
    "                     np.logical_and(ygood >= (30 * jj),ygood <= (30 * (jj + 1))))\n",
    "\n",
    "        tmp = np.where(idx)[0]\n",
    "#         # flipping ii and jj because in IDL, it's col, row.\n",
    "        binned_surface_density_30[jj,ii] = len(tmp)"
   ]
  },
  {
   "cell_type": "code",
   "execution_count": 72,
   "metadata": {},
   "outputs": [],
   "source": [
    "# Define annuli\n",
    "radius1=radius.flatten()\n",
    "r1 = np.where(radius1 < (0.1 * r_h))\n",
    "r2 = np.where((radius1 < (0.2 * r_h)) & (radius1 >= (0.1 * r_h)))\n",
    "r3 = np.where((radius1 < (0.3 * r_h)) & (radius1 >= (0.2 * r_h)))\n",
    "r4 = np.where((radius1 < (0.4 * r_h)) & (radius1 >= (0.3 * r_h)))\n",
    "r5 = np.where((radius1 < (0.5 * r_h)) & (radius1 >= (0.4 * r_h)))\n",
    "r6 = np.where((radius1 < (0.6 * r_h)) & (radius1 >= (0.5 * r_h)))\n",
    "r7 = np.where((radius1 < (0.7 * r_h)) & (radius1 >= (0.6 * r_h)))\n",
    "r8 = np.where((radius1 < (0.8 * r_h)) & (radius1 >= (0.7 * r_h)))\n",
    "r9 = np.where((radius1 < (0.9 * r_h)) & (radius1 >= (0.8 * r_h)))\n",
    "r10 = np.where((radius1 < r_h) & (radius1 >= (0.9 * r_h)))"
   ]
  },
  {
   "cell_type": "code",
   "execution_count": 73,
   "metadata": {},
   "outputs": [],
   "source": [
    "r1v = r1[0]\n",
    "r2v = r2[0]\n",
    "r3v = r3[0]\n",
    "r4v = r4[0]\n",
    "r5v = r5[0]\n",
    "r6v = r6[0]\n",
    "r7v = r7[0]\n",
    "r8v = r8[0]\n",
    "r9v = r9[0]\n",
    "r10v = r10[0]"
   ]
  },
  {
   "cell_type": "code",
   "execution_count": 93,
   "metadata": {},
   "outputs": [],
   "source": [
    "# areas of annuli in arcmin**2\n",
    "\n",
    "a1 = (np.pi*(r_h*0.1)**2*(1-eri_ell))/(pix_per_arcsec*60)**2\n",
    "a2 = (np.pi*(r_h*0.2)**2*(1-eri_ell) - np.pi*(r_h*0.1)**2*(1-eri_ell))/(pix_per_arcsec*60)**2\n",
    "a3 = (np.pi*(r_h*0.3)**2*(1-eri_ell) - np.pi*(r_h*0.2)**2*(1-eri_ell))/(pix_per_arcsec*60)**2\n",
    "a4 = (np.pi*(r_h*0.4)**2*(1-eri_ell) - np.pi*(r_h*0.3)**2*(1-eri_ell))/(pix_per_arcsec*60)**2\n",
    "a5 = (np.pi*(r_h*0.5)**2*(1-eri_ell) - np.pi*(r_h*0.4)**2*(1-eri_ell))/(pix_per_arcsec*60)**2\n",
    "a6 = (np.pi*(r_h*0.6)**2*(1-eri_ell) - np.pi*(r_h*0.5)**2*(1-eri_ell))/(pix_per_arcsec*60)**2\n",
    "a7 = (np.pi*(r_h*0.7)**2*(1-eri_ell) - np.pi*(r_h*0.6)**2*(1-eri_ell))/(pix_per_arcsec*60)**2\n",
    "a8 = (np.pi*(r_h*0.8)**2*(1-eri_ell) - np.pi*(r_h*0.7)**2*(1-eri_ell))/(pix_per_arcsec*60)**2\n",
    "a9 = (np.pi*(r_h*0.9)**2*(1-eri_ell) - np.pi*(r_h*0.8)**2*(1-eri_ell))/(pix_per_arcsec*60)**2\n",
    "a10 = (np.pi*(r_h*1.0)**2*(1-eri_ell) - np.pi*(r_h*0.9)**2*(1-eri_ell))/(pix_per_arcsec*60)**2"
   ]
  },
  {
   "cell_type": "code",
   "execution_count": 94,
   "metadata": {},
   "outputs": [],
   "source": [
    "binned_surface_density_30f = binned_surface_density_30.flatten()\n",
    "model_counts_eri2f = model_counts_eri2.flatten()\n",
    "data_1d = [binned_surface_density_30f[r1v].sum()/a1,\n",
    "           binned_surface_density_30f[r2v].sum()/a2,\n",
    "           binned_surface_density_30f[r3v].sum()/a3,\n",
    "           binned_surface_density_30f[r4v].sum()/a4,\n",
    "           binned_surface_density_30f[r5v].sum()/a5,\n",
    "           binned_surface_density_30f[r6v].sum()/a6,\n",
    "           binned_surface_density_30f[r7v].sum()/a7,\n",
    "           binned_surface_density_30f[r8v].sum()/a8,\n",
    "           binned_surface_density_30f[r9v].sum()/a9,\n",
    "           binned_surface_density_30f[r10v].sum()/a10]\n",
    "\n",
    "model_1d = [model_counts_eri2f[r1v].sum()/a1,\n",
    "            model_counts_eri2f[r2v].sum()/a2,\n",
    "            model_counts_eri2f[r3v].sum()/a3,\n",
    "            model_counts_eri2f[r4v].sum()/a4,\n",
    "            model_counts_eri2f[r5v].sum()/a5,\n",
    "            model_counts_eri2f[r6v].sum()/a6,\n",
    "            model_counts_eri2f[r7v].sum()/a7,\n",
    "            model_counts_eri2f[r8v].sum()/a8,\n",
    "            model_counts_eri2f[r9v].sum()/a9,\n",
    "            model_counts_eri2f[r10v].sum()/a10]"
   ]
  },
  {
   "cell_type": "code",
   "execution_count": 95,
   "metadata": {},
   "outputs": [],
   "source": [
    "area = np.array([a1,a2,a3,a4,a5,a6,a7,a8,a9,a10])"
   ]
  },
  {
   "cell_type": "code",
   "execution_count": 96,
   "metadata": {},
   "outputs": [],
   "source": [
    "dist_x = np.array([r_h*0.1,r_h*0.2,r_h*0.3,r_h*0.4,r_h*0.5,r_h*0.6,r_h*0.7,r_h*0.8,r_h*0.9,r_h])/(pix_per_arcsec*60)"
   ]
  },
  {
   "cell_type": "code",
   "execution_count": 98,
   "metadata": {},
   "outputs": [
    {
     "data": {
      "image/png": "[encoded data removed]",
      "text/plain": [
       "<Figure size 648x504 with 1 Axes>"
      ]
     },
     "metadata": {
      "needs_background": "light"
     },
     "output_type": "display_data"
    }
   ],
   "source": [
    "fig, ax = plt.subplots(figsize=(9,7))\n",
    "\n",
    "ax.plot(dist_x,data_1d,label='Data')\n",
    "ax.plot(dist_x,model_1d,label='Plummer Model')\n",
    "\n",
    "ax.set_xscale('log')\n",
    "ax.set_yscale('log')\n",
    "\n",
    "ax.set_ylabel(r'log[$\\Sigma_N$ (stars arcmin$^{-1}$)]',fontsize=16)\n",
    "ax.set_xlabel(r'log[R (arcmin)]',fontsize=16)\n",
    "ax.set_title('Eri 2',fontsize=20)\n",
    "\n",
    "ax.set_xticks([1, 2])\n",
    "ax.get_xaxis().set_major_formatter(mpl.ticker.ScalarFormatter())\n",
    "\n",
    "\n",
    "\n",
    "ax.legend()\n",
    "# plt.savefig('figures/eri2.png')\n",
    "\n",
    "plt.show()"
   ]
  },
  {
   "cell_type": "code",
   "execution_count": 84,
   "metadata": {},
   "outputs": [
    {
     "data": {
      "image/png": "[encoded data removed]",
      "text/plain": [
       "<Figure size 432x288 with 1 Axes>"
      ]
     },
     "metadata": {
      "needs_background": "light"
     },
     "output_type": "display_data"
    }
   ],
   "source": [
    "fig, ax = plt.subplots()\n",
    "\n",
    "ax.plot(dist_x,area)\n",
    "# ax.set_yscale('log')\n",
    "ax.set_xlabel('Distance from Center (arcmin)')\n",
    "ax.set_ylabel(r'Area of Ellipse (arcmin$^2$)')\n",
    "\n",
    "\n",
    "# ax.set_ylabel('Test')\n",
    "\n",
    "plt.show()"
   ]
  },
  {
   "cell_type": "code",
   "execution_count": 98,
   "metadata": {},
   "outputs": [],
   "source": [
    "ra1 = np.arange(0,10,1)\n",
    "r_annuli = (ra1 + 0.05) * r_h"
   ]
  },
  {
   "cell_type": "code",
   "execution_count": 99,
   "metadata": {},
   "outputs": [
    {
     "name": "stdout",
     "output_type": "stream",
     "text": [
      "[0.05 1.05 2.05 3.05 4.05 5.05 6.05 7.05 8.05 9.05]\n"
     ]
    }
   ],
   "source": [
    "print((ra1 + 0.05))"
   ]
  },
  {
   "cell_type": "code",
   "execution_count": 100,
   "metadata": {},
   "outputs": [],
   "source": [
    "binned_surface_density_30f = binned_surface_density_30.flatten()\n",
    "model_counts_eri2f = model_counts_eri2.flatten()\n",
    "data_1d = [binned_surface_density_30f[r1v].sum(),\n",
    "           binned_surface_density_30f[r2v].sum(),\n",
    "           binned_surface_density_30f[r3v].sum(),\n",
    "           binned_surface_density_30f[r4v].sum(),\n",
    "           binned_surface_density_30f[r5v].sum(),\n",
    "           binned_surface_density_30f[r6v].sum(),\n",
    "           binned_surface_density_30f[r7v].sum(),\n",
    "           binned_surface_density_30f[r8v].sum(),\n",
    "           binned_surface_density_30f[r9v].sum(),\n",
    "           binned_surface_density_30f[r10v].sum()]\n",
    "\n",
    "model_1d = [model_counts_eri2f[r1v].sum(),\n",
    "            model_counts_eri2f[r2v].sum(),\n",
    "            model_counts_eri2f[r3v].sum(),\n",
    "            model_counts_eri2f[r4v].sum(),\n",
    "            model_counts_eri2f[r5v].sum(),\n",
    "            model_counts_eri2f[r6v].sum(),\n",
    "            model_counts_eri2f[r7v].sum(),\n",
    "            model_counts_eri2f[r8v].sum(),\n",
    "            model_counts_eri2f[r9v].sum(),\n",
    "            model_counts_eri2f[r10v].sum()]"
   ]
  },
  {
   "cell_type": "code",
   "execution_count": 101,
   "metadata": {},
   "outputs": [
    {
     "data": {
      "text/plain": [
       "[454.0, 869.0, 939.0, 1313.0, 1528.0, 1605.0, 1620.0, 1237.0, 923.0, 700.0]"
      ]
     },
     "execution_count": 101,
     "metadata": {},
     "output_type": "execute_result"
    }
   ],
   "source": [
    "data_1d"
   ]
  },
  {
   "cell_type": "code",
   "execution_count": 102,
   "metadata": {},
   "outputs": [
    {
     "data": {
      "text/plain": [
       "[261.0517956220859,\n",
       " 746.1662376070768,\n",
       " 1159.5452590353027,\n",
       " 1451.8580481600375,\n",
       " 1629.1838897011517,\n",
       " 1697.7172799493044,\n",
       " 1681.5963488042212,\n",
       " 1609.379457718307,\n",
       " 1501.7517585718242,\n",
       " 1249.8836673983512]"
      ]
     },
     "execution_count": 102,
     "metadata": {},
     "output_type": "execute_result"
    }
   ],
   "source": [
    "model_1d"
   ]
  },
  {
   "cell_type": "code",
   "execution_count": 103,
   "metadata": {},
   "outputs": [
    {
     "data": {
      "text/plain": [
       "454.0"
      ]
     },
     "execution_count": 103,
     "metadata": {},
     "output_type": "execute_result"
    }
   ],
   "source": [
    "binned_surface_density_30f[r1v].sum()"
   ]
  },
  {
   "cell_type": "code",
   "execution_count": 104,
   "metadata": {},
   "outputs": [
    {
     "data": {
      "image/png": "[encoded data removed]",
      "text/plain": [
       "<Figure size 432x288 with 1 Axes>"
      ]
     },
     "metadata": {
      "needs_background": "light"
     },
     "output_type": "display_data"
    }
   ],
   "source": [
    "fig, ax = plt.subplots()\n",
    "\n",
    "ax.plot(ra1,data_1d,label='Data')\n",
    "ax.plot(ra1,model_1d,label='Model')\n",
    "\n",
    "ax.legend()\n",
    "plt.show()"
   ]
  },
  {
   "cell_type": "code",
   "execution_count": 105,
   "metadata": {},
   "outputs": [],
   "source": [
    "import matplotlib.pyplot as plt"
   ]
  },
  {
   "cell_type": "code",
   "execution_count": 106,
   "metadata": {},
   "outputs": [
    {
     "data": {
      "text/plain": [
       "<matplotlib.colorbar.Colorbar at 0x11d5f5b10>"
      ]
     },
     "execution_count": 106,
     "metadata": {},
     "output_type": "execute_result"
    },
    {
     "data": {
      "image/png": "[encoded data removed]",
      "text/plain": [
       "<Figure size 432x288 with 2 Axes>"
      ]
     },
     "metadata": {
      "needs_background": "light"
     },
     "output_type": "display_data"
    }
   ],
   "source": [
    "fig,ax = plt.subplots()\n",
    "\n",
    "plt.imshow(radius)\n",
    "plt.colorbar()"
   ]
  }
 ],
 "metadata": {
  "kernelspec": {
   "display_name": "Python 3",
   "language": "python",
   "name": "python3"
  },
  "language_info": {
   "codemirror_mode": {
    "name": "ipython",
    "version": 3
   },
   "file_extension": ".py",
   "mimetype": "text/x-python",
   "name": "python",
   "nbconvert_exporter": "python",
   "pygments_lexer": "ipython3",
   "version": "3.7.6"
  }
 },
 "nbformat": 4,
 "nbformat_minor": 4
}
