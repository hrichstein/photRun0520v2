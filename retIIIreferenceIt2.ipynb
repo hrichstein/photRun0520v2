{
 "cells": [
  {
   "cell_type": "code",
   "execution_count": 1,
   "metadata": {},
   "outputs": [],
   "source": [
    "import numpy as np\n",
    "import matplotlib.pyplot as plt\n",
    "import math\n",
    "from astropy.io import fits"
   ]
  },
  {
   "cell_type": "code",
   "execution_count": 2,
   "metadata": {},
   "outputs": [],
   "source": [
    "def rotate(px,py,angle,x0=0,y0=0):\n",
    "    \n",
    "    theta = np.deg2rad(angle)\n",
    "    \n",
    "    qx = x0 + np.cos(theta) * (px-x0) - np.sin(theta) * (py-y0)\n",
    "    qy = y0 + np.sin(theta) * (px-x0) + np.cos(theta) * (py-y0)\n",
    "    \n",
    "    return qx, qy"
   ]
  },
  {
   "cell_type": "code",
   "execution_count": 3,
   "metadata": {},
   "outputs": [],
   "source": [
    "def matchlistID(master,cat,matchtol,x1,y1,x2,y2,id_mat):\n",
    "\n",
    "    matchids_in = np.zeros((len(master),1))\n",
    "\n",
    "    nF = True\n",
    "    row = 0\n",
    "\n",
    "    while nF:\n",
    "\n",
    "        matchrows = cat[(abs(master[row][x1] - cat[:,x2]) \\\n",
    "            <= matchtol) & (abs(master[row][y1] - cat[:,y2])<= matchtol)]\n",
    "\n",
    "        if (len(matchrows) == 1):\n",
    "            matchids_in[row][0] = matchrows[0][id_mat]\n",
    "            row += 1\n",
    "\n",
    "        elif (len(matchrows) > 1):\n",
    "            distDiff = np.zeros((len(matchrows),1))\n",
    "            for dd in range(len(matchrows)):\n",
    "                distDiff[dd] = np.sqrt( (master[row][x1] - \\\n",
    "                matchrows[dd][x2])**2 +  (master[row][y1] \\\n",
    "                                    - matchrows[dd][y2])**2)\n",
    "            small = np.argmin(distDiff)\n",
    "            matchids_in[row][0] = matchrows[small][id_mat]\n",
    "            row += 1\n",
    "\n",
    "        else:\n",
    "            master = np.delete(master,row,0)\n",
    "            matchids_in = np.delete(matchids_in,row,0)\n",
    "\n",
    "        if (row >= len(master)):\n",
    "            u, udx = np.unique(matchids_in,return_index=True)\n",
    "\n",
    "            if len(udx)<len(master):\n",
    "\n",
    "                # print(len(udx),len(master))\n",
    "                master = master[udx]\n",
    "                matchids_in = matchids_in[udx]\n",
    "\n",
    "                print(\"Pixel Tolerance: {0:d}, Number Stars: {1:d}\".format(matchtol,len(master)))\n",
    "                nF = False\n",
    "\n",
    "            elif len(udx)==len(master):\n",
    "                # print(len(udx),len(master))\n",
    "                print(\"Pixel Tolerance: {0:d}, Number Stars: {1:d}\".format(matchtol,len(master)))\n",
    "                nF = False\n",
    "\n",
    "    return master,matchids_in"
   ]
  },
  {
   "cell_type": "code",
   "execution_count": 4,
   "metadata": {},
   "outputs": [],
   "source": [
    "f814wN = np.genfromtxt('catRawMags20Aug/catDir_RETICULUM-III/RETICULUM-III_DRCfiltTrans_pU.dat',names=True)\n",
    "f606wN = np.genfromtxt('photUtils20Aug/catDir_RETICULUM-III/jdan28010_drc_F606WphotU.dat',names=True)"
   ]
  },
  {
   "cell_type": "code",
   "execution_count": 5,
   "metadata": {},
   "outputs": [],
   "source": [
    "f814w = np.genfromtxt('catRawMags20Aug/catDir_RETICULUM-III/RETICULUM-III_DRCfiltTrans_pU.dat')\n",
    "f606w = np.genfromtxt('photUtils20Aug/catDir_RETICULUM-III/jdan28010_drc_F606WphotU.dat')"
   ]
  },
  {
   "cell_type": "code",
   "execution_count": 6,
   "metadata": {},
   "outputs": [],
   "source": [
    "col606 = np.array(f606wN.dtype.names)\n",
    "col814 = np.array(f814wN.dtype.names)"
   ]
  },
  {
   "cell_type": "code",
   "execution_count": 7,
   "metadata": {},
   "outputs": [],
   "source": [
    "x = np.int(np.where(col606=='xcenter')[0])\n",
    "y = np.int(np.where(col606=='ycenter')[0])\n",
    "mag = np.int(np.where(col606=='magr')[0])\n",
    "idColv = np.int(np.where(col606=='id')[0])"
   ]
  },
  {
   "cell_type": "code",
   "execution_count": 8,
   "metadata": {},
   "outputs": [],
   "source": [
    "# fitsDir = '../Hannah_Data/origDRCs/'\n",
    "\n",
    "# hdu1 = fits.open(fitsDir+'jdan29010_drc.fits')\n",
    "# angf814w = hdu1[1].header['ORIENTAT']\n",
    "# hdu1.close()\n",
    "\n",
    "# hdu1 = fits.open(fitsDir+'jdan28010_drc.fits')\n",
    "# angf606w = hdu1[1].header['ORIENTAT']\n",
    "# hdu1.close()"
   ]
  },
  {
   "cell_type": "code",
   "execution_count": 9,
   "metadata": {},
   "outputs": [],
   "source": [
    "# Switch to F606W frame\n",
    "# Need to find difference between F814W angle and F606W\n",
    "\n",
    "# angle = float(angf814w) - float(angf606w)"
   ]
  },
  {
   "cell_type": "code",
   "execution_count": 13,
   "metadata": {},
   "outputs": [],
   "source": [
    "v50x = np.argsort(f606wN['magr'])[:100]\n",
    "i50x = np.argsort(f814wN['magr'])[:100]\n",
    "\n",
    "v50 = f606w[v50x]\n",
    "i50 = f814w[i50x]\n",
    "\n",
    "v50n = f606wN[v50x]\n",
    "i50n = f814wN[i50x]\n",
    "\n",
    "# i50x, i50y = rotate(i50n['x_f606wTrans'],i50n['y_f606wTrans'],angle=angle,x0=2048,y0=2048)"
   ]
  },
  {
   "cell_type": "code",
   "execution_count": 14,
   "metadata": {},
   "outputs": [
    {
     "data": {
      "image/png": "[encoded data removed]",
      "text/plain": [
       "<Figure size 864x432 with 2 Axes>"
      ]
     },
     "metadata": {
      "needs_background": "light"
     },
     "output_type": "display_data"
    }
   ],
   "source": [
    "fig, (ax1,ax2) = plt.subplots(1,2,figsize=(12,6))\n",
    "\n",
    "ax1.scatter(v50n['xcenter'],v50n['ycenter'],s=10)\n",
    "ax2.scatter(i50n['x_f606wTrans'],i50n['y_f606wTrans'],s=10)\n",
    "\n",
    "plt.show()"
   ]
  },
  {
   "cell_type": "code",
   "execution_count": 15,
   "metadata": {},
   "outputs": [
    {
     "name": "stdout",
     "output_type": "stream",
     "text": [
      "Pixel Tolerance: 5, Number Stars: 0\n",
      "Need More Stars\n",
      "Pixel Tolerance: 8, Number Stars: 0\n",
      "Need More Stars\n",
      "Pixel Tolerance: 11, Number Stars: 0\n",
      "Need More Stars\n",
      "Pixel Tolerance: 14, Number Stars: 0\n",
      "Need More Stars\n",
      "Pixel Tolerance: 17, Number Stars: 0\n",
      "Need More Stars\n",
      "Pixel Tolerance: 20, Number Stars: 0\n",
      "Need More Stars\n",
      "Pixel Tolerance: 23, Number Stars: 0\n",
      "Need More Stars\n",
      "Pixel Tolerance: 26, Number Stars: 0\n",
      "Need More Stars\n",
      "Pixel Tolerance: 29, Number Stars: 0\n",
      "Need More Stars\n",
      "Pixel Tolerance: 32, Number Stars: 0\n",
      "Need More Stars\n",
      "Pixel Tolerance: 35, Number Stars: 0\n",
      "Need More Stars\n",
      "Pixel Tolerance: 38, Number Stars: 1\n",
      "Need More Stars\n",
      "Pixel Tolerance: 41, Number Stars: 1\n",
      "Need More Stars\n",
      "Pixel Tolerance: 44, Number Stars: 1\n",
      "Need More Stars\n",
      "Pixel Tolerance: 47, Number Stars: 1\n",
      "Need More Stars\n",
      "Pixel Tolerance: 50, Number Stars: 1\n",
      "Need More Stars\n",
      "Pixel Tolerance: 53, Number Stars: 1\n",
      "Need More Stars\n",
      "Pixel Tolerance: 56, Number Stars: 1\n",
      "Need More Stars\n",
      "Pixel Tolerance: 59, Number Stars: 1\n",
      "Need More Stars\n",
      "Pixel Tolerance: 62, Number Stars: 1\n",
      "Need More Stars\n",
      "Pixel Tolerance: 65, Number Stars: 1\n",
      "Need More Stars\n",
      "Pixel Tolerance: 68, Number Stars: 1\n",
      "Need More Stars\n",
      "Pixel Tolerance: 71, Number Stars: 2\n",
      "Need More Stars\n",
      "Pixel Tolerance: 74, Number Stars: 3\n",
      "Need More Stars\n",
      "Pixel Tolerance: 77, Number Stars: 3\n",
      "Need More Stars\n",
      "Pixel Tolerance: 80, Number Stars: 3\n",
      "Need More Stars\n",
      "Pixel Tolerance: 83, Number Stars: 3\n",
      "Need More Stars\n",
      "Pixel Tolerance: 86, Number Stars: 3\n",
      "Need More Stars\n",
      "Pixel Tolerance: 89, Number Stars: 4\n",
      "Need More Stars\n",
      "Pixel Tolerance: 92, Number Stars: 4\n",
      "Need More Stars\n",
      "Pixel Tolerance: 95, Number Stars: 4\n",
      "Need More Stars\n",
      "Pixel Tolerance: 98, Number Stars: 4\n",
      "Need More Stars\n",
      "Pixel Tolerance: 101, Number Stars: 5\n",
      "Need More Stars\n",
      "Pixel Tolerance: 104, Number Stars: 5\n",
      "Need More Stars\n",
      "Pixel Tolerance: 107, Number Stars: 5\n",
      "Need More Stars\n",
      "Pixel Tolerance: 110, Number Stars: 5\n",
      "Need More Stars\n",
      "Pixel Tolerance: 113, Number Stars: 5\n",
      "Need More Stars\n",
      "Pixel Tolerance: 116, Number Stars: 5\n",
      "Need More Stars\n",
      "Pixel Tolerance: 119, Number Stars: 5\n",
      "Need More Stars\n",
      "Pixel Tolerance: 122, Number Stars: 5\n",
      "Need More Stars\n",
      "Pixel Tolerance: 125, Number Stars: 5\n",
      "Need More Stars\n",
      "Pixel Tolerance: 128, Number Stars: 6\n",
      "Minimum Number Reached:6\n"
     ]
    }
   ],
   "source": [
    "master_in = v50[:,[idColv,x,y,mag]]\n",
    "idV,xv,yv,magv = 0,1,2,3\n",
    "\n",
    "i50_arr = np.zeros((len(v50),3))\n",
    "i50_arr[:,0] = i50n['x_f606wTrans']\n",
    "i50_arr[:,1] = i50n['y_f606wTrans']\n",
    "i50_arr[:,2] = i50n['id']\n",
    "\n",
    "xi, yi, idColi = 0,1,2\n",
    "\n",
    "cat = i50_arr\n",
    "matchids = np.zeros((len(master_in),1))\n",
    "\n",
    "nF_out = True\n",
    "matchtol = 5\n",
    "\n",
    "while nF_out:\n",
    "\n",
    "    master, matchids = matchlistID(master_in,cat,matchtol,xv,yv,xi,yi,idColi)\n",
    "\n",
    "    if len(master)>=int(6): # because it's a 6D transformation\n",
    "        nF_out = False\n",
    "        print('Minimum Number Reached:{0:d}'.format(len(master)))\n",
    "    else:\n",
    "        print('Need More Stars')\n",
    "        master_in = v50[:,[idColv,x,y,mag]]\n",
    "        matchids = np.zeros((len(master_in),1))\n",
    "        matchtol += 3\n",
    "        \n",
    "master = np.hstack((master,matchids))\n",
    "idV, xv, yv, magv, idI = 0, 1, 2, 3, 4\n",
    "\n",
    "newCols = np.zeros((len(master),3))\n",
    "\n",
    "idxCol = master[:,idI]\n",
    "idxI = np.asarray(idxCol,int)\n",
    "regI = f814w[idxI]\n",
    "\n",
    "newCols[:,0] = regI[:,x]\n",
    "newCols[:,1] = regI[:,y]\n",
    "newCols[:,2] = regI[:,mag]\n",
    "\n",
    "outArr = np.hstack((master,newCols))"
   ]
  },
  {
   "cell_type": "code",
   "execution_count": 16,
   "metadata": {},
   "outputs": [
    {
     "data": {
      "text/plain": [
       "(100, 3)"
      ]
     },
     "execution_count": 16,
     "metadata": {},
     "output_type": "execute_result"
    }
   ],
   "source": [
    "i50_arr.shape"
   ]
  },
  {
   "cell_type": "code",
   "execution_count": 17,
   "metadata": {},
   "outputs": [
    {
     "data": {
      "text/plain": [
       "array([ 776.        , 1440.4289063 , 1051.05805966,   17.9912553 ,\n",
       "       2196.        , 2618.95812218, 1370.21683111,   21.27181117])"
      ]
     },
     "execution_count": 17,
     "metadata": {},
     "output_type": "execute_result"
    }
   ],
   "source": [
    "outArr[0]"
   ]
  },
  {
   "cell_type": "code",
   "execution_count": 18,
   "metadata": {},
   "outputs": [],
   "source": [
    "header = 'id_f606w x_f606w y_f606w magr_f606w id_f814w x_f814w y_f814w magr_f814w'\n",
    "form = '%d %1.5f %1.5f %1.4f %d %1.5f %1.5f %1.4f'"
   ]
  },
  {
   "cell_type": "code",
   "execution_count": 19,
   "metadata": {},
   "outputs": [],
   "source": [
    "idV, xv, yv, magv, idI, xi, yi, magi = 0, 1, 2, 3, 4, 5, 6, 7"
   ]
  },
  {
   "cell_type": "code",
   "execution_count": 31,
   "metadata": {},
   "outputs": [],
   "source": [
    "# newx, newy = rotate(outArr[:,xi],outArr[:,yi],angle=angle,x0=2048,\\\n",
    "#                     y0=2048)"
   ]
  },
  {
   "cell_type": "code",
   "execution_count": 20,
   "metadata": {},
   "outputs": [
    {
     "data": {
      "image/png": "[encoded data removed]",
      "text/plain": [
       "<Figure size 432x432 with 1 Axes>"
      ]
     },
     "metadata": {
      "needs_background": "light"
     },
     "output_type": "display_data"
    }
   ],
   "source": [
    "fig, ax = plt.subplots(figsize=(6,6))\n",
    "\n",
    "ax.scatter(outArr[:,xv],outArr[:,yv],label='F606W',s= 20)\n",
    "ax.scatter(outArr[:,xi],outArr[:,yi],label='F814W',s=20)\n",
    "\n",
    "ax.legend()\n",
    "# ax.set_title(targname)\n",
    "\n",
    "# plt.savefig(outName+'.png',dpi=600,bbox_inches='tight')\n",
    "# plt.savefig(outName+'.png',dpi=600,bbox_inches='tight')\n",
    "\n",
    "plt.show()"
   ]
  },
  {
   "cell_type": "code",
   "execution_count": 21,
   "metadata": {},
   "outputs": [],
   "source": [
    "outName = 'catRawMags20Aug/catDir_RETICULUM-III/drcFiltRef_RETICULUM-III_2'\n",
    "np.savetxt(outName+'.dat',outArr,header=header,fmt=form)"
   ]
  },
  {
   "cell_type": "code",
   "execution_count": 22,
   "metadata": {},
   "outputs": [],
   "source": [
    "file = np.genfromtxt('catRawMags20Aug/catDir_RETICULUM-III/RETICULUM-III_filtMatchDRC_pU.dat',names=True)"
   ]
  },
  {
   "cell_type": "code",
   "execution_count": 23,
   "metadata": {},
   "outputs": [
    {
     "data": {
      "text/plain": [
       "('id_f606w',\n",
       " 'xcenter_f606w',\n",
       " 'ycenter_f606w',\n",
       " 'aperture_sum_f606w',\n",
       " 'annulus_median_f606w',\n",
       " 'aper_bkg_f606w',\n",
       " 'final_phot_f606w',\n",
       " 'magr_f606w',\n",
       " 'id_f814w',\n",
       " 'xcenter_f814w',\n",
       " 'ycenter_f814w',\n",
       " 'aperture_sum_f814w',\n",
       " 'annulus_median_f814w',\n",
       " 'aper_bkg_f814w',\n",
       " 'final_phot_f814w',\n",
       " 'magr_f814w',\n",
       " 'x_f606wTrans',\n",
       " 'y_f606wTrans')"
      ]
     },
     "execution_count": 23,
     "metadata": {},
     "output_type": "execute_result"
    }
   ],
   "source": [
    "file.dtype.names"
   ]
  },
  {
   "cell_type": "code",
   "execution_count": 24,
   "metadata": {},
   "outputs": [
    {
     "data": {
      "image/png": "[encoded data removed]",
      "text/plain": [
       "<Figure size 360x504 with 1 Axes>"
      ]
     },
     "metadata": {
      "needs_background": "light"
     },
     "output_type": "display_data"
    }
   ],
   "source": [
    "fig,ax = plt.subplots(figsize=(5,7))\n",
    "\n",
    "ax.scatter(file['magr_f606w']-file['magr_f814w'],file['magr_f606w'],s=10)\n",
    "\n",
    "\n",
    "ax.set_ylim(28,18)\n",
    "\n",
    "plt.show()"
   ]
  }
 ],
 "metadata": {
  "kernelspec": {
   "display_name": "Python 3",
   "language": "python",
   "name": "python3"
  },
  "language_info": {
   "codemirror_mode": {
    "name": "ipython",
    "version": 3
   },
   "file_extension": ".py",
   "mimetype": "text/x-python",
   "name": "python",
   "nbconvert_exporter": "python",
   "pygments_lexer": "ipython3",
   "version": "3.7.6"
  }
 },
 "nbformat": 4,
 "nbformat_minor": 4
}
