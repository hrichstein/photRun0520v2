{
 "cells": [
  {
   "cell_type": "code",
   "execution_count": 36,
   "metadata": {},
   "outputs": [],
   "source": [
    "import numpy as np\n",
    "from matplotlib import pyplot as plt"
   ]
  },
  {
   "cell_type": "code",
   "execution_count": 2,
   "metadata": {},
   "outputs": [],
   "source": [
    "drc = np.genfromtxt('catRawMags1305/catDir/drc_useful.dat',names=True)\n",
    "flc = np.genfromtxt('catRawMags1305/catDir/jdan21l8q_HOROLOGIUM-I_F814W_oc.dat'\n",
    "                    ,names=True)"
   ]
  },
  {
   "cell_type": "code",
   "execution_count": 18,
   "metadata": {},
   "outputs": [],
   "source": [
    "dCat = np.genfromtxt('catRawMags1305/catDir/drc_useful.dat')\n",
    "fCat = np.genfromtxt('catRawMags1305/catDir/jdan21l8q_HOROLOGIUM-I_F814W_oc.dat')"
   ]
  },
  {
   "cell_type": "code",
   "execution_count": 21,
   "metadata": {},
   "outputs": [],
   "source": [
    "# flc\n",
    "\n",
    "flags, RA, DEC, xr, yr, flux, c_star, magrF, idF, xc, yc, xo, yo = \\\n",
    "0, 1, 2, 3, 4, 5, 6, 7, 8, 9, 10, 11, 12"
   ]
  },
  {
   "cell_type": "code",
   "execution_count": 22,
   "metadata": {},
   "outputs": [],
   "source": [
    "# drc\n",
    "\n",
    "RA, DEC, xD, yD, magrD, idD = 0, 1, 2, 3, 4, 5"
   ]
  },
  {
   "cell_type": "code",
   "execution_count": 23,
   "metadata": {},
   "outputs": [],
   "source": [
    "d20 = np.argsort(drc['magr'])[:20]\n",
    "drc20 = drc[d20]\n",
    "dC20 = dCat[d20]\n",
    "\n",
    "f20 = np.argsort(flc['magr'])[:20]\n",
    "flc20 = flc[f20]\n",
    "fC20 = fCat[f20]"
   ]
  },
  {
   "cell_type": "code",
   "execution_count": 31,
   "metadata": {},
   "outputs": [
    {
     "name": "stdout",
     "output_type": "stream",
     "text": [
      "13\n"
     ]
    }
   ],
   "source": [
    "master = fC20[:,[xo,yo,magrF,idF]]\n",
    "x, y, magR = 0, 1, 2\n",
    "\n",
    "cat = dC20\n",
    "matchids = np.zeros((len(master),1))\n",
    "\n",
    "matchtol = 100\n",
    "nF = True\n",
    "row = 0\n",
    "\n",
    "while nF:\n",
    "    matchrows = cat[(abs(master[row][x] - cat[:,xD]) \\\n",
    "        <= matchtol) & (abs(master[row][y] - cat[:,yD])<= matchtol)]\n",
    "    \n",
    "    if (len(matchrows) == 1):\n",
    "        matchids[row][0] = matchrows[0][idD]\n",
    "        row += 1\n",
    "    \n",
    "    elif (len(matchrows) > 1):\n",
    "        distDiff = np.zeros((len(matchrows),1))\n",
    "        for dd in range(len(matchrows)):\n",
    "            distDiff[dd] = np.sqrt( (master[row][x] - \\\n",
    "            matchrows[dd][xD])**2 +  (master[row][y] \\\n",
    "                                - matchrows[dd][yD])**2)\n",
    "        small = np.argmin(distDiff)\n",
    "        matchids[row][0] = matchrows[small][idD]\n",
    "        row += 1\n",
    "        \n",
    "    else:\n",
    "        master = np.delete(master,row,0)\n",
    "        matchids = np.delete(matchids,row,0)\n",
    "        \n",
    "    if (row >= len(master)):\n",
    "        nF = False\n",
    "        print(len(master))\n",
    "        \n",
    "master = np.hstack((master,matchids))\n",
    "# Header = xo yo magrF idF idD"
   ]
  },
  {
   "cell_type": "code",
   "execution_count": 33,
   "metadata": {},
   "outputs": [],
   "source": [
    "xF, yF, magF, idF, idD = 0, 1, 2, 3, 4\n",
    "\n",
    "newCols = np.zeros((len(master),3))\n",
    "\n",
    "idxCol = master[:,idD]\n",
    "idxD = np.asarray(idxCol,int)\n",
    "regD = dCat[idxD]\n",
    "\n",
    "newCols[:,0] = regD[:,xD]\n",
    "newCols[:,1] = regD[:,yD]\n",
    "newCols[:,2] = regD[:,magrD]\n",
    "\n",
    "outArr = np.hstack((master,newCols))\n",
    "xo, yo, magrF, idF, idD, xD, yD, magrD = 0, 1, 2, 3, 4, 5, 6, 7"
   ]
  },
  {
   "cell_type": "code",
   "execution_count": 37,
   "metadata": {},
   "outputs": [
    {
     "data": {
      "image/png": "[encoded data removed]",
      "text/plain": [
       "<Figure size 432x432 with 1 Axes>"
      ]
     },
     "metadata": {
      "needs_background": "light"
     },
     "output_type": "display_data"
    }
   ],
   "source": [
    "fig, ax = plt.subplots(figsize=(6,6))\n",
    "\n",
    "\n",
    "ax.scatter(outArr[:,xo],outArr[:,yo],label='FLC',s=50)\n",
    "ax.scatter(outArr[:,xD],outArr[:,yD],label='DRC',s=20)\n",
    "\n",
    "\n",
    "ax.legend()\n",
    "plt.show()"
   ]
  },
  {
   "cell_type": "markdown",
   "metadata": {},
   "source": [
    "100 pixel tolerance\n",
    "Turn this into a function..... that is part of a well-oiled machine.\n",
    "Needs to go in the exact right place - or need another way of assigning indices\n",
    "\n",
    "Perhaps have a way to have a dynamic pixel matching tolerance?"
   ]
  },
  {
   "cell_type": "markdown",
   "metadata": {},
   "source": []
  }
 ],
 "metadata": {
  "kernelspec": {
   "display_name": "Python 3",
   "language": "python",
   "name": "python3"
  },
  "language_info": {
   "codemirror_mode": {
    "name": "ipython",
    "version": 3
   },
   "file_extension": ".py",
   "mimetype": "text/x-python",
   "name": "python",
   "nbconvert_exporter": "python",
   "pygments_lexer": "ipython3",
   "version": "3.7.6"
  }
 },
 "nbformat": 4,
 "nbformat_minor": 4
}
