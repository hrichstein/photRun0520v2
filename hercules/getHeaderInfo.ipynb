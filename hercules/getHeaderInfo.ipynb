{
 "cells": [
  {
   "cell_type": "code",
   "execution_count": 1,
   "metadata": {},
   "outputs": [],
   "source": [
    "import numpy as np\n",
    "import os\n",
    "from astropy.io import fits"
   ]
  },
  {
   "cell_type": "code",
   "execution_count": 11,
   "metadata": {},
   "outputs": [],
   "source": [
    "dire = ('anonymous54172/')\n",
    "x = os.listdir(dire)\n",
    "infoFile = open('drcTargInfo.dat','w')\n",
    "infoFile.write('# TARGNAME FILTER1 FILTER2 EXPTIME ORIENTAT RA DEC JDAN \\n')\n",
    "for ii in x:\n",
    "    if ii.endswith('_drc.fits'):\n",
    "        name = ii[:13]\n",
    "        hdu = fits.open(dire+ii)\n",
    "        head = hdu[0].header\n",
    "        head1 = hdu[1].header\n",
    "        infoFile.write('{0} {1} {2} {3} {4} {5} {6} {7} \\n'.format(head['TARGNAME'],\\\n",
    "                            head['FILTER1'],head['FILTER2'],head['EXPTIME'],\\\n",
    "                            head1['ORIENTAT'],head1['RA_APER'],head1['DEC_APER'],name))\n",
    "        \n",
    "        hdu.close()\n",
    "infoFile.close()"
   ]
  }
 ],
 "metadata": {
  "kernelspec": {
   "display_name": "Python 3",
   "language": "python",
   "name": "python3"
  },
  "language_info": {
   "codemirror_mode": {
    "name": "ipython",
    "version": 3
   },
   "file_extension": ".py",
   "mimetype": "text/x-python",
   "name": "python",
   "nbconvert_exporter": "python",
   "pygments_lexer": "ipython3",
   "version": "3.7.6"
  }
 },
 "nbformat": 4,
 "nbformat_minor": 4
}
